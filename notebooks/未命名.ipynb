{
 "cells": [
  {
   "cell_type": "code",
   "execution_count": 1,
   "metadata": {},
   "outputs": [],
   "source": [
    "from dtsp.dataset import walk_forward_split\n",
    "from dtsp.param import Seq2Seq_HP, SIMPLE_SEQ2SEQ_HP, SIMPLE_WAVENET_HP\n",
    "from dtsp.models import Seq2Seq, SimpleSeq2Seq, SimpleWaveNet\n",
    "from torch.utils.data import DataLoader\n",
    "import torch\n",
    "import os\n",
    "import matplotlib.pyplot as plt\n",
    "from dtsp.dataset import example_1"
   ]
  },
  {
   "cell_type": "code",
   "execution_count": 6,
   "metadata": {},
   "outputs": [
    {
     "name": "stderr",
     "output_type": "stream",
     "text": [
      "batch 6 / 6, loss 1.045: 100%|██████████| 6/6 [00:00<00:00, 16.13it/s]\n"
     ]
    },
    {
     "name": "stdout",
     "output_type": "stream",
     "text": [
      "epoch 1 / 100, loss 1.054, val loss 1.177\n"
     ]
    },
    {
     "name": "stderr",
     "output_type": "stream",
     "text": [
      "batch 6 / 6, loss 0.993: 100%|██████████| 6/6 [00:00<00:00, 15.55it/s]\n"
     ]
    },
    {
     "name": "stdout",
     "output_type": "stream",
     "text": [
      "epoch 2 / 100, loss 1.034, val loss 1.175\n"
     ]
    },
    {
     "name": "stderr",
     "output_type": "stream",
     "text": [
      "batch 6 / 6, loss 1.028: 100%|██████████| 6/6 [00:00<00:00, 14.02it/s]\n"
     ]
    },
    {
     "name": "stdout",
     "output_type": "stream",
     "text": [
      "epoch 3 / 100, loss 1.028, val loss 1.174\n"
     ]
    },
    {
     "name": "stderr",
     "output_type": "stream",
     "text": [
      "batch 6 / 6, loss 1.002: 100%|██████████| 6/6 [00:00<00:00, 15.00it/s]\n"
     ]
    },
    {
     "name": "stdout",
     "output_type": "stream",
     "text": [
      "epoch 4 / 100, loss 1.025, val loss 1.174\n"
     ]
    },
    {
     "name": "stderr",
     "output_type": "stream",
     "text": [
      "batch 6 / 6, loss 0.935: 100%|██████████| 6/6 [00:00<00:00, 15.47it/s]\n"
     ]
    },
    {
     "name": "stdout",
     "output_type": "stream",
     "text": [
      "epoch 5 / 100, loss 1.002, val loss 1.163\n"
     ]
    },
    {
     "name": "stderr",
     "output_type": "stream",
     "text": [
      "batch 6 / 6, loss 0.901: 100%|██████████| 6/6 [00:00<00:00, 15.00it/s]\n"
     ]
    },
    {
     "name": "stdout",
     "output_type": "stream",
     "text": [
      "epoch 6 / 100, loss 0.984, val loss 1.134\n"
     ]
    },
    {
     "name": "stderr",
     "output_type": "stream",
     "text": [
      "batch 6 / 6, loss 0.859: 100%|██████████| 6/6 [00:00<00:00, 15.87it/s]\n"
     ]
    },
    {
     "name": "stdout",
     "output_type": "stream",
     "text": [
      "epoch 7 / 100, loss 0.889, val loss 1.055\n"
     ]
    },
    {
     "name": "stderr",
     "output_type": "stream",
     "text": [
      "batch 6 / 6, loss 0.833: 100%|██████████| 6/6 [00:00<00:00, 14.26it/s]\n"
     ]
    },
    {
     "name": "stdout",
     "output_type": "stream",
     "text": [
      "epoch 8 / 100, loss 0.857, val loss 0.959\n"
     ]
    },
    {
     "name": "stderr",
     "output_type": "stream",
     "text": [
      "batch 6 / 6, loss 0.944: 100%|██████████| 6/6 [00:00<00:00, 14.89it/s]\n"
     ]
    },
    {
     "name": "stdout",
     "output_type": "stream",
     "text": [
      "epoch 9 / 100, loss 0.839, val loss 1.035\n"
     ]
    },
    {
     "name": "stderr",
     "output_type": "stream",
     "text": [
      "batch 6 / 6, loss 0.975: 100%|██████████| 6/6 [00:00<00:00, 15.43it/s]\n"
     ]
    },
    {
     "name": "stdout",
     "output_type": "stream",
     "text": [
      "epoch 10 / 100, loss 0.874, val loss 1.173\n"
     ]
    },
    {
     "name": "stderr",
     "output_type": "stream",
     "text": [
      "batch 6 / 6, loss 0.886: 100%|██████████| 6/6 [00:00<00:00, 14.93it/s]\n"
     ]
    },
    {
     "name": "stdout",
     "output_type": "stream",
     "text": [
      "epoch 11 / 100, loss 0.931, val loss 1.212\n"
     ]
    },
    {
     "name": "stderr",
     "output_type": "stream",
     "text": [
      "batch 6 / 6, loss 0.967: 100%|██████████| 6/6 [00:00<00:00, 14.12it/s]\n"
     ]
    },
    {
     "name": "stdout",
     "output_type": "stream",
     "text": [
      "epoch 12 / 100, loss 0.917, val loss 1.133\n"
     ]
    },
    {
     "name": "stderr",
     "output_type": "stream",
     "text": [
      "batch 6 / 6, loss 0.887: 100%|██████████| 6/6 [00:00<00:00, 14.67it/s]\n"
     ]
    },
    {
     "name": "stdout",
     "output_type": "stream",
     "text": [
      "epoch 13 / 100, loss 0.857, val loss 1.089\n"
     ]
    },
    {
     "name": "stderr",
     "output_type": "stream",
     "text": [
      "batch 6 / 6, loss 0.817: 100%|██████████| 6/6 [00:00<00:00, 14.75it/s]\n"
     ]
    },
    {
     "name": "stdout",
     "output_type": "stream",
     "text": [
      "epoch 14 / 100, loss 0.828, val loss 1.059\n"
     ]
    },
    {
     "name": "stderr",
     "output_type": "stream",
     "text": [
      "batch 6 / 6, loss 0.758: 100%|██████████| 6/6 [00:00<00:00, 14.26it/s]\n"
     ]
    },
    {
     "name": "stdout",
     "output_type": "stream",
     "text": [
      "epoch 15 / 100, loss 0.823, val loss 1.040\n"
     ]
    },
    {
     "name": "stderr",
     "output_type": "stream",
     "text": [
      "batch 6 / 6, loss 0.837: 100%|██████████| 6/6 [00:00<00:00, 13.86it/s]\n"
     ]
    },
    {
     "name": "stdout",
     "output_type": "stream",
     "text": [
      "epoch 16 / 100, loss 0.825, val loss 1.035\n"
     ]
    },
    {
     "name": "stderr",
     "output_type": "stream",
     "text": [
      "batch 6 / 6, loss 0.910: 100%|██████████| 6/6 [00:00<00:00, 13.83it/s]\n"
     ]
    },
    {
     "name": "stdout",
     "output_type": "stream",
     "text": [
      "epoch 17 / 100, loss 0.823, val loss 1.115\n"
     ]
    },
    {
     "name": "stderr",
     "output_type": "stream",
     "text": [
      "batch 6 / 6, loss 1.079: 100%|██████████| 6/6 [00:00<00:00, 13.86it/s]\n"
     ]
    },
    {
     "name": "stdout",
     "output_type": "stream",
     "text": [
      "epoch 18 / 100, loss 0.992, val loss 1.205\n"
     ]
    },
    {
     "name": "stderr",
     "output_type": "stream",
     "text": [
      "batch 6 / 6, loss 0.924: 100%|██████████| 6/6 [00:00<00:00, 14.60it/s]\n"
     ]
    },
    {
     "name": "stdout",
     "output_type": "stream",
     "text": [
      "epoch 19 / 100, loss 1.019, val loss 1.183\n",
      "early_stopping ! current epochs: 19, best epochs: 8\n",
      "best model save in C:\\Users\\evilp\\project\\Deep-Time-Series-Prediction\\dtsp\\examples\\seq2seq_logs\\Seq2Seq_epoch_8_0.959.pkl\n"
     ]
    }
   ],
   "source": [
    "enc_lens = 24\n",
    "dec_lens = 12\n",
    "batch_size = 32\n",
    "n_test = 13\n",
    "\n",
    "hp_seq2seq = Seq2Seq_HP\n",
    "hp_seq2seq['path'] = r'C:\\Users\\evilp\\project\\Deep-Time-Series-Prediction\\dtsp\\examples\\seq2seq_logs'\n",
    "train_seq2seq, valid_seq2seq = example_1(enc_lens, dec_lens, n_test)\n",
    "hp_seq2seq['target_size'] = 20\n",
    "hp_seq2seq['hidden_size'] = 36\n",
    "hp_seq2seq['trans_hidden_size'] = 4\n",
    "hp_seq2seq['trans_category_var'] = [(13, 2)]\n",
    "hp_seq2seq.update({\n",
    "    'lr_scheduler': 'CosineAnnealingWarmRestarts',\n",
    "    'lr_scheduler_kw': {'T_0': 4, 'T_mult': 3},\n",
    "})\n",
    "\n",
    "train_dataloader_seq2seq = DataLoader(train_seq2seq, batch_size, shuffle=True)\n",
    "valid_dataloader_seq2seq = DataLoader(valid_seq2seq, batch_size, shuffle=False)\n",
    "\n",
    "seq2seq = Seq2Seq(hp_seq2seq)\n",
    "seq2seq.fit(100, train_dataloader_seq2seq, valid_dataloader_seq2seq, early_stopping=10)"
   ]
  },
  {
   "cell_type": "code",
   "execution_count": 9,
   "metadata": {},
   "outputs": [
    {
     "name": "stderr",
     "output_type": "stream",
     "text": [
      "batch 6 / 6, loss 1.011: 100%|██████████| 6/6 [00:00<00:00, 31.50it/s]\n"
     ]
    },
    {
     "name": "stdout",
     "output_type": "stream",
     "text": [
      "epoch 1 / 20, loss 1.070, val loss 1.182\n"
     ]
    },
    {
     "name": "stderr",
     "output_type": "stream",
     "text": [
      "batch 6 / 6, loss 1.017: 100%|██████████| 6/6 [00:00<00:00, 33.24it/s]\n"
     ]
    },
    {
     "name": "stdout",
     "output_type": "stream",
     "text": [
      "epoch 2 / 20, loss 1.058, val loss 1.178\n"
     ]
    },
    {
     "name": "stderr",
     "output_type": "stream",
     "text": [
      "batch 6 / 6, loss 1.068: 100%|██████████| 6/6 [00:00<00:00, 32.88it/s]\n"
     ]
    },
    {
     "name": "stdout",
     "output_type": "stream",
     "text": [
      "epoch 3 / 20, loss 1.055, val loss 1.176\n"
     ]
    },
    {
     "name": "stderr",
     "output_type": "stream",
     "text": [
      "batch 6 / 6, loss 1.105: 100%|██████████| 6/6 [00:00<00:00, 31.17it/s]\n"
     ]
    },
    {
     "name": "stdout",
     "output_type": "stream",
     "text": [
      "epoch 4 / 20, loss 1.052, val loss 1.176\n"
     ]
    },
    {
     "name": "stderr",
     "output_type": "stream",
     "text": [
      "batch 6 / 6, loss 1.068: 100%|██████████| 6/6 [00:00<00:00, 33.61it/s]\n"
     ]
    },
    {
     "name": "stdout",
     "output_type": "stream",
     "text": [
      "epoch 5 / 20, loss 1.046, val loss 1.173\n"
     ]
    },
    {
     "name": "stderr",
     "output_type": "stream",
     "text": [
      "batch 6 / 6, loss 0.982: 100%|██████████| 6/6 [00:00<00:00, 32.00it/s]\n"
     ]
    },
    {
     "name": "stdout",
     "output_type": "stream",
     "text": [
      "epoch 6 / 20, loss 1.039, val loss 1.170\n"
     ]
    },
    {
     "name": "stderr",
     "output_type": "stream",
     "text": [
      "batch 6 / 6, loss 1.044: 100%|██████████| 6/6 [00:00<00:00, 33.06it/s]\n"
     ]
    },
    {
     "name": "stdout",
     "output_type": "stream",
     "text": [
      "epoch 7 / 20, loss 1.030, val loss 1.166\n"
     ]
    },
    {
     "name": "stderr",
     "output_type": "stream",
     "text": [
      "batch 6 / 6, loss 1.016: 100%|██████████| 6/6 [00:00<00:00, 33.99it/s]\n"
     ]
    },
    {
     "name": "stdout",
     "output_type": "stream",
     "text": [
      "epoch 8 / 20, loss 1.003, val loss 1.158\n"
     ]
    },
    {
     "name": "stderr",
     "output_type": "stream",
     "text": [
      "batch 6 / 6, loss 1.057: 100%|██████████| 6/6 [00:00<00:00, 29.20it/s]\n"
     ]
    },
    {
     "name": "stdout",
     "output_type": "stream",
     "text": [
      "epoch 9 / 20, loss 0.998, val loss 1.143\n"
     ]
    },
    {
     "name": "stderr",
     "output_type": "stream",
     "text": [
      "batch 6 / 6, loss 0.866: 100%|██████████| 6/6 [00:00<00:00, 32.35it/s]\n"
     ]
    },
    {
     "name": "stdout",
     "output_type": "stream",
     "text": [
      "epoch 10 / 20, loss 0.958, val loss 1.118\n"
     ]
    },
    {
     "name": "stderr",
     "output_type": "stream",
     "text": [
      "batch 6 / 6, loss 0.909: 100%|██████████| 6/6 [00:00<00:00, 32.17it/s]\n"
     ]
    },
    {
     "name": "stdout",
     "output_type": "stream",
     "text": [
      "epoch 11 / 20, loss 0.944, val loss 1.082\n"
     ]
    },
    {
     "name": "stderr",
     "output_type": "stream",
     "text": [
      "batch 6 / 6, loss 0.821: 100%|██████████| 6/6 [00:00<00:00, 36.03it/s]\n"
     ]
    },
    {
     "name": "stdout",
     "output_type": "stream",
     "text": [
      "epoch 12 / 20, loss 0.879, val loss 1.046\n"
     ]
    },
    {
     "name": "stderr",
     "output_type": "stream",
     "text": [
      "batch 6 / 6, loss 0.843: 100%|██████████| 6/6 [00:00<00:00, 35.60it/s]\n"
     ]
    },
    {
     "name": "stdout",
     "output_type": "stream",
     "text": [
      "epoch 13 / 20, loss 0.860, val loss 1.023\n"
     ]
    },
    {
     "name": "stderr",
     "output_type": "stream",
     "text": [
      "batch 6 / 6, loss 0.904: 100%|██████████| 6/6 [00:00<00:00, 30.38it/s]\n"
     ]
    },
    {
     "name": "stdout",
     "output_type": "stream",
     "text": [
      "epoch 14 / 20, loss 0.880, val loss 1.011\n"
     ]
    },
    {
     "name": "stderr",
     "output_type": "stream",
     "text": [
      "batch 6 / 6, loss 0.831: 100%|██████████| 6/6 [00:00<00:00, 31.17it/s]\n"
     ]
    },
    {
     "name": "stdout",
     "output_type": "stream",
     "text": [
      "epoch 15 / 20, loss 0.869, val loss 1.006\n"
     ]
    },
    {
     "name": "stderr",
     "output_type": "stream",
     "text": [
      "batch 6 / 6, loss 0.841: 100%|██████████| 6/6 [00:00<00:00, 32.17it/s]\n"
     ]
    },
    {
     "name": "stdout",
     "output_type": "stream",
     "text": [
      "epoch 16 / 20, loss 0.859, val loss 1.005\n"
     ]
    },
    {
     "name": "stderr",
     "output_type": "stream",
     "text": [
      "batch 6 / 6, loss 0.785: 100%|██████████| 6/6 [00:00<00:00, 32.70it/s]\n"
     ]
    },
    {
     "name": "stdout",
     "output_type": "stream",
     "text": [
      "epoch 17 / 20, loss 0.847, val loss 0.974\n"
     ]
    },
    {
     "name": "stderr",
     "output_type": "stream",
     "text": [
      "batch 6 / 6, loss 0.812: 100%|██████████| 6/6 [00:00<00:00, 34.78it/s]\n"
     ]
    },
    {
     "name": "stdout",
     "output_type": "stream",
     "text": [
      "epoch 18 / 20, loss 0.813, val loss 0.974\n"
     ]
    },
    {
     "name": "stderr",
     "output_type": "stream",
     "text": [
      "batch 6 / 6, loss 0.785: 100%|██████████| 6/6 [00:00<00:00, 34.98it/s]\n"
     ]
    },
    {
     "name": "stdout",
     "output_type": "stream",
     "text": [
      "epoch 19 / 20, loss 0.798, val loss 0.964\n"
     ]
    },
    {
     "name": "stderr",
     "output_type": "stream",
     "text": [
      "batch 6 / 6, loss 0.726: 100%|██████████| 6/6 [00:00<00:00, 34.98it/s]\n"
     ]
    },
    {
     "name": "stdout",
     "output_type": "stream",
     "text": [
      "epoch 20 / 20, loss 0.781, val loss 0.951\n",
      "best model save in C:\\Users\\evilp\\project\\Deep-Time-Series-Prediction\\dtsp\\examples\\simle_seq2seq_logs\\SimpleSeq2Seq_epoch_20_0.951.pkl\n"
     ]
    }
   ],
   "source": [
    "hp_simple_seq = SIMPLE_SEQ2SEQ_HP\n",
    "hp_simple_seq['path'] = r'C:\\Users\\evilp\\project\\Deep-Time-Series-Prediction\\dtsp\\examples\\simle_seq2seq_logs'\n",
    "hp_simple_seq['target_size'] = 20\n",
    "hp_simple_seq['hidden_size'] = 30\n",
    "hp_simple_seq.update({\n",
    "    'lr_scheduler': 'CosineAnnealingWarmRestarts',\n",
    "    'lr_scheduler_kw': {'T_0': 4, 'T_mult': 3},\n",
    "})\n",
    "\n",
    "train_simple_seq, valid_simple_seq = example_1(enc_lens, dec_lens, n_test, model_type='simple_seq2seq')\n",
    "train_dataloader_simple_seq = DataLoader(train_simple_seq, batch_size, shuffle=True)\n",
    "valid_dataloader_simple_seq = DataLoader(valid_simple_seq, batch_size, shuffle=False)\n",
    "\n",
    "simle_seq2seq = SimpleSeq2Seq(hp_simple_seq)\n",
    "\n",
    "simle_seq2seq.fit(20, train_dataloader_simple_seq, valid_dataloader_simple_seq)"
   ]
  },
  {
   "cell_type": "code",
   "execution_count": 15,
   "metadata": {
    "scrolled": false
   },
   "outputs": [
    {
     "name": "stderr",
     "output_type": "stream",
     "text": [
      "batch 6 / 6, loss 1.068: 100%|██████████| 6/6 [00:01<00:00,  5.05it/s]\n"
     ]
    },
    {
     "name": "stdout",
     "output_type": "stream",
     "text": [
      "epoch 1 / 50, loss 1.058, val loss 1.185\n"
     ]
    },
    {
     "name": "stderr",
     "output_type": "stream",
     "text": [
      "batch 6 / 6, loss 1.071: 100%|██████████| 6/6 [00:01<00:00,  4.92it/s]\n"
     ]
    },
    {
     "name": "stdout",
     "output_type": "stream",
     "text": [
      "epoch 2 / 50, loss 1.039, val loss 1.175\n"
     ]
    },
    {
     "name": "stderr",
     "output_type": "stream",
     "text": [
      "batch 6 / 6, loss 0.949: 100%|██████████| 6/6 [00:01<00:00,  5.15it/s]\n"
     ]
    },
    {
     "name": "stdout",
     "output_type": "stream",
     "text": [
      "epoch 3 / 50, loss 1.008, val loss 1.166\n"
     ]
    },
    {
     "name": "stderr",
     "output_type": "stream",
     "text": [
      "batch 6 / 6, loss 0.925: 100%|██████████| 6/6 [00:01<00:00,  5.14it/s]\n"
     ]
    },
    {
     "name": "stdout",
     "output_type": "stream",
     "text": [
      "epoch 4 / 50, loss 0.973, val loss 1.159\n"
     ]
    },
    {
     "name": "stderr",
     "output_type": "stream",
     "text": [
      "batch 6 / 6, loss 0.995: 100%|██████████| 6/6 [00:01<00:00,  5.09it/s]\n"
     ]
    },
    {
     "name": "stdout",
     "output_type": "stream",
     "text": [
      "epoch 5 / 50, loss 0.953, val loss 1.157\n"
     ]
    },
    {
     "name": "stderr",
     "output_type": "stream",
     "text": [
      "batch 6 / 6, loss 0.879: 100%|██████████| 6/6 [00:01<00:00,  5.10it/s]\n"
     ]
    },
    {
     "name": "stdout",
     "output_type": "stream",
     "text": [
      "epoch 6 / 50, loss 0.916, val loss 1.110\n"
     ]
    },
    {
     "name": "stderr",
     "output_type": "stream",
     "text": [
      "batch 6 / 6, loss 0.916: 100%|██████████| 6/6 [00:01<00:00,  5.09it/s]\n"
     ]
    },
    {
     "name": "stdout",
     "output_type": "stream",
     "text": [
      "epoch 7 / 50, loss 0.959, val loss 1.164\n"
     ]
    },
    {
     "name": "stderr",
     "output_type": "stream",
     "text": [
      "batch 6 / 6, loss 0.921: 100%|██████████| 6/6 [00:01<00:00,  5.09it/s]\n"
     ]
    },
    {
     "name": "stdout",
     "output_type": "stream",
     "text": [
      "epoch 8 / 50, loss 0.922, val loss 1.200\n"
     ]
    },
    {
     "name": "stderr",
     "output_type": "stream",
     "text": [
      "batch 6 / 6, loss 0.887: 100%|██████████| 6/6 [00:01<00:00,  5.13it/s]\n"
     ]
    },
    {
     "name": "stdout",
     "output_type": "stream",
     "text": [
      "epoch 9 / 50, loss 0.928, val loss 1.170\n"
     ]
    },
    {
     "name": "stderr",
     "output_type": "stream",
     "text": [
      "batch 6 / 6, loss 0.907: 100%|██████████| 6/6 [00:01<00:00,  5.10it/s]\n"
     ]
    },
    {
     "name": "stdout",
     "output_type": "stream",
     "text": [
      "epoch 10 / 50, loss 0.900, val loss 1.130\n"
     ]
    },
    {
     "name": "stderr",
     "output_type": "stream",
     "text": [
      "batch 6 / 6, loss 0.874: 100%|██████████| 6/6 [00:01<00:00,  4.99it/s]\n"
     ]
    },
    {
     "name": "stdout",
     "output_type": "stream",
     "text": [
      "epoch 11 / 50, loss 0.878, val loss 1.099\n"
     ]
    },
    {
     "name": "stderr",
     "output_type": "stream",
     "text": [
      "batch 6 / 6, loss 0.851: 100%|██████████| 6/6 [00:01<00:00,  4.96it/s]\n"
     ]
    },
    {
     "name": "stdout",
     "output_type": "stream",
     "text": [
      "epoch 12 / 50, loss 0.875, val loss 1.081\n"
     ]
    },
    {
     "name": "stderr",
     "output_type": "stream",
     "text": [
      "batch 6 / 6, loss 0.910: 100%|██████████| 6/6 [00:01<00:00,  4.91it/s]\n"
     ]
    },
    {
     "name": "stdout",
     "output_type": "stream",
     "text": [
      "epoch 13 / 50, loss 0.878, val loss 1.069\n"
     ]
    },
    {
     "name": "stderr",
     "output_type": "stream",
     "text": [
      "batch 6 / 6, loss 0.873: 100%|██████████| 6/6 [00:01<00:00,  5.12it/s]\n"
     ]
    },
    {
     "name": "stdout",
     "output_type": "stream",
     "text": [
      "epoch 14 / 50, loss 0.875, val loss 1.063\n"
     ]
    },
    {
     "name": "stderr",
     "output_type": "stream",
     "text": [
      "batch 6 / 6, loss 0.900: 100%|██████████| 6/6 [00:01<00:00,  5.03it/s]\n"
     ]
    },
    {
     "name": "stdout",
     "output_type": "stream",
     "text": [
      "epoch 15 / 50, loss 0.868, val loss 1.061\n"
     ]
    },
    {
     "name": "stderr",
     "output_type": "stream",
     "text": [
      "batch 6 / 6, loss 0.762: 100%|██████████| 6/6 [00:01<00:00,  5.10it/s]\n"
     ]
    },
    {
     "name": "stdout",
     "output_type": "stream",
     "text": [
      "epoch 16 / 50, loss 0.838, val loss 1.075\n"
     ]
    },
    {
     "name": "stderr",
     "output_type": "stream",
     "text": [
      "batch 6 / 6, loss 0.978: 100%|██████████| 6/6 [00:01<00:00,  5.06it/s]\n"
     ]
    },
    {
     "name": "stdout",
     "output_type": "stream",
     "text": [
      "epoch 17 / 50, loss 0.855, val loss 1.453\n"
     ]
    },
    {
     "name": "stderr",
     "output_type": "stream",
     "text": [
      "batch 6 / 6, loss 0.927: 100%|██████████| 6/6 [00:01<00:00,  4.92it/s]\n"
     ]
    },
    {
     "name": "stdout",
     "output_type": "stream",
     "text": [
      "epoch 18 / 50, loss 0.924, val loss 1.714\n"
     ]
    },
    {
     "name": "stderr",
     "output_type": "stream",
     "text": [
      "batch 6 / 6, loss 0.793: 100%|██████████| 6/6 [00:01<00:00,  5.17it/s]\n"
     ]
    },
    {
     "name": "stdout",
     "output_type": "stream",
     "text": [
      "epoch 19 / 50, loss 0.885, val loss 1.104\n"
     ]
    },
    {
     "name": "stderr",
     "output_type": "stream",
     "text": [
      "batch 6 / 6, loss 0.806: 100%|██████████| 6/6 [00:01<00:00,  5.01it/s]\n"
     ]
    },
    {
     "name": "stdout",
     "output_type": "stream",
     "text": [
      "epoch 20 / 50, loss 0.837, val loss 1.148\n"
     ]
    },
    {
     "name": "stderr",
     "output_type": "stream",
     "text": [
      "batch 6 / 6, loss 0.962: 100%|██████████| 6/6 [00:01<00:00,  5.11it/s]\n"
     ]
    },
    {
     "name": "stdout",
     "output_type": "stream",
     "text": [
      "epoch 21 / 50, loss 0.910, val loss 1.189\n"
     ]
    },
    {
     "name": "stderr",
     "output_type": "stream",
     "text": [
      "batch 6 / 6, loss 0.941: 100%|██████████| 6/6 [00:01<00:00,  4.98it/s]\n"
     ]
    },
    {
     "name": "stdout",
     "output_type": "stream",
     "text": [
      "epoch 22 / 50, loss 0.936, val loss 1.168\n"
     ]
    },
    {
     "name": "stderr",
     "output_type": "stream",
     "text": [
      "batch 6 / 6, loss 0.945: 100%|██████████| 6/6 [00:01<00:00,  5.15it/s]\n"
     ]
    },
    {
     "name": "stdout",
     "output_type": "stream",
     "text": [
      "epoch 23 / 50, loss 0.880, val loss 1.172\n"
     ]
    },
    {
     "name": "stderr",
     "output_type": "stream",
     "text": [
      "batch 6 / 6, loss 0.918: 100%|██████████| 6/6 [00:01<00:00,  5.22it/s]\n"
     ]
    },
    {
     "name": "stdout",
     "output_type": "stream",
     "text": [
      "epoch 24 / 50, loss 0.920, val loss 1.162\n"
     ]
    },
    {
     "name": "stderr",
     "output_type": "stream",
     "text": [
      "batch 6 / 6, loss 0.846: 100%|██████████| 6/6 [00:01<00:00,  5.12it/s]\n"
     ]
    },
    {
     "name": "stdout",
     "output_type": "stream",
     "text": [
      "epoch 25 / 50, loss 0.897, val loss 1.223\n"
     ]
    },
    {
     "name": "stderr",
     "output_type": "stream",
     "text": [
      "batch 6 / 6, loss 0.914: 100%|██████████| 6/6 [00:01<00:00,  5.07it/s]\n"
     ]
    },
    {
     "name": "stdout",
     "output_type": "stream",
     "text": [
      "epoch 26 / 50, loss 0.885, val loss 1.304\n"
     ]
    },
    {
     "name": "stderr",
     "output_type": "stream",
     "text": [
      "batch 6 / 6, loss 0.924: 100%|██████████| 6/6 [00:01<00:00,  4.95it/s]\n"
     ]
    },
    {
     "name": "stdout",
     "output_type": "stream",
     "text": [
      "epoch 27 / 50, loss 0.913, val loss 1.256\n"
     ]
    },
    {
     "name": "stderr",
     "output_type": "stream",
     "text": [
      "batch 6 / 6, loss 0.846: 100%|██████████| 6/6 [00:01<00:00,  4.84it/s]\n"
     ]
    },
    {
     "name": "stdout",
     "output_type": "stream",
     "text": [
      "epoch 28 / 50, loss 0.898, val loss 1.204\n"
     ]
    },
    {
     "name": "stderr",
     "output_type": "stream",
     "text": [
      "batch 6 / 6, loss 0.904: 100%|██████████| 6/6 [00:01<00:00,  5.06it/s]\n"
     ]
    },
    {
     "name": "stdout",
     "output_type": "stream",
     "text": [
      "epoch 29 / 50, loss 0.876, val loss 1.170\n"
     ]
    },
    {
     "name": "stderr",
     "output_type": "stream",
     "text": [
      "batch 6 / 6, loss 0.843: 100%|██████████| 6/6 [00:01<00:00,  5.13it/s]\n"
     ]
    },
    {
     "name": "stdout",
     "output_type": "stream",
     "text": [
      "epoch 30 / 50, loss 0.852, val loss 1.142\n"
     ]
    },
    {
     "name": "stderr",
     "output_type": "stream",
     "text": [
      "batch 6 / 6, loss 0.805: 100%|██████████| 6/6 [00:01<00:00,  5.10it/s]\n"
     ]
    },
    {
     "name": "stdout",
     "output_type": "stream",
     "text": [
      "epoch 31 / 50, loss 0.819, val loss 1.121\n",
      "early_stopping ! current epochs: 31, best epochs: 15\n",
      "best model save in C:\\Users\\evilp\\project\\Deep-Time-Series-Prediction\\dtsp\\examples\\logs\\SimpleWaveNet_epoch_15_1.061.pkl\n"
     ]
    },
    {
     "data": {
      "image/png": "[encoded data removed]",
      "text/plain": [
       "<Figure size 432x288 with 1 Axes>"
      ]
     },
     "metadata": {
      "needs_background": "light"
     },
     "output_type": "display_data"
    }
   ],
   "source": [
    "hp = SIMPLE_WAVENET_HP\n",
    "hp['path'] = r'C:\\Users\\evilp\\project\\Deep-Time-Series-Prediction\\dtsp\\examples\\logs'\n",
    "hp['dilation'] = [1, 2, 4, 8, 16, 32]\n",
    "hp['target_size'] = 20\n",
    "hp['residual_channels'] = 64\n",
    "hp['learning_rate'] = 0.001\n",
    "hp_simple_seq.update({\n",
    "    'lr_scheduler': 'CosineAnnealingWarmRestarts',\n",
    "    'lr_scheduler_kw': {'T_0': 4, 'T_mult': 10},\n",
    "})\n",
    "train, valid = example_1(enc_lens, dec_lens, n_test, model_type='simple_wavenet')\n",
    "plt.plot(train.dataset.seqs)\n",
    "train_dataloader = DataLoader(train, batch_size, shuffle=True)\n",
    "valid_dataloader = DataLoader(valid, batch_size, shuffle=False)\n",
    "\n",
    "\n",
    "model = SimpleWaveNet(hp)\n",
    "\n",
    "model.fit(50, train_dataloader, valid_dataloader, early_stopping=15)\n"
   ]
  },
  {
   "cell_type": "code",
   "execution_count": 26,
   "metadata": {},
   "outputs": [
    {
     "data": {
      "text/plain": [
       "0.0002824752489999998"
      ]
     },
     "execution_count": 26,
     "metadata": {},
     "output_type": "execute_result"
    }
   ],
   "source": [
    "model.optimizer.param_groups[0]['lr']"
   ]
  },
  {
   "cell_type": "code",
   "execution_count": null,
   "metadata": {},
   "outputs": [],
   "source": []
  }
 ],
 "metadata": {
  "kernelspec": {
   "display_name": "Python [conda env:dl]",
   "language": "python",
   "name": "conda-env-dl-py"
  },
  "language_info": {
   "codemirror_mode": {
    "name": "ipython",
    "version": 3
   },
   "file_extension": ".py",
   "mimetype": "text/x-python",
   "name": "python",
   "nbconvert_exporter": "python",
   "pygments_lexer": "ipython3",
   "version": "3.6.9"
  }
 },
 "nbformat": 4,
 "nbformat_minor": 2
}
