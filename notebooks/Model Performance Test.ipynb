{
 "cells": [
  {
   "cell_type": "markdown",
   "metadata": {},
   "source": [
    "# Model Performance Test\n"
   ]
  },
  {
   "cell_type": "code",
   "execution_count": 18,
   "metadata": {},
   "outputs": [],
   "source": [
    "from dtsp.dataset import walk_forward_split, Seq2SeqDataSet, SimpleSeq2SeqDataSet, SimpleWaveNetDataSet\n",
    "from dtsp.models import Seq2Seq, SimpleSeq2Seq, SimpleWaveNet\n",
    "from torch.utils.data import DataLoader\n",
    "from torch.utils.data import Subset, DataLoader\n",
    "import torch\n",
    "import os\n",
    "import matplotlib.pyplot as plt\n",
    "import numpy as np\n",
    "import pandas as pd\n",
    "from sklearn.metrics import mean_squared_error\n",
    "from pathlib import Path\n",
    "import shutil\n",
    "import seaborn as sns\n",
    "\n",
    "def plot_attentions(attns):\n",
    "    if attns.ndim == 4:\n",
    "        assert attns.shape[0] == 1\n",
    "        attns = attns.squeeze(0)\n",
    "    if isinstance(attns, torch.Tensor):\n",
    "        attns = attns.detach().numpy()\n",
    "    n_head = attns.shape[1]\n",
    "    \n",
    "    base_size = 12\n",
    "    \n",
    "    hight = attns.shape[0]\n",
    "    wide = attns.shape[2]\n",
    "    for i in range(n_head):\n",
    "        plt.figure(figsize=(16, hight / wide * 16))\n",
    "        sns.heatmap(attns[:, i, :])\n",
    "        plt.title(f\"Attention {i}\")\n",
    "        plt.xlabel('history')\n",
    "        plt.ylabel('prediction')\n",
    "\n",
    "%matplotlib inline"
   ]
  },
  {
   "cell_type": "code",
   "execution_count": 2,
   "metadata": {},
   "outputs": [
    {
     "data": {
      "text/plain": [
       "'1.3.0'"
      ]
     },
     "execution_count": 2,
     "metadata": {},
     "output_type": "execute_result"
    }
   ],
   "source": [
    "torch.__version__"
   ]
  },
  {
   "cell_type": "markdown",
   "metadata": {},
   "source": [
    "## 1. prepare dataset"
   ]
  },
  {
   "cell_type": "code",
   "execution_count": 3,
   "metadata": {},
   "outputs": [
    {
     "data": {
      "text/html": [
       "<div>\n",
       "<style scoped>\n",
       "    .dataframe tbody tr th:only-of-type {\n",
       "        vertical-align: middle;\n",
       "    }\n",
       "\n",
       "    .dataframe tbody tr th {\n",
       "        vertical-align: top;\n",
       "    }\n",
       "\n",
       "    .dataframe thead th {\n",
       "        text-align: right;\n",
       "    }\n",
       "</style>\n",
       "<table border=\"1\" class=\"dataframe\">\n",
       "  <thead>\n",
       "    <tr style=\"text-align: right;\">\n",
       "      <th></th>\n",
       "      <th>col_0</th>\n",
       "      <th>col_1</th>\n",
       "      <th>col_2</th>\n",
       "      <th>col_3</th>\n",
       "      <th>col_4</th>\n",
       "      <th>col_5</th>\n",
       "      <th>col_6</th>\n",
       "      <th>col_7</th>\n",
       "      <th>col_8</th>\n",
       "      <th>col_9</th>\n",
       "      <th>col_10</th>\n",
       "      <th>col_11</th>\n",
       "      <th>col_12</th>\n",
       "      <th>col_13</th>\n",
       "      <th>col_14</th>\n",
       "      <th>col_15</th>\n",
       "      <th>col_16</th>\n",
       "      <th>col_17</th>\n",
       "      <th>col_18</th>\n",
       "      <th>col_19</th>\n",
       "    </tr>\n",
       "    <tr>\n",
       "      <th>date_time</th>\n",
       "      <th></th>\n",
       "      <th></th>\n",
       "      <th></th>\n",
       "      <th></th>\n",
       "      <th></th>\n",
       "      <th></th>\n",
       "      <th></th>\n",
       "      <th></th>\n",
       "      <th></th>\n",
       "      <th></th>\n",
       "      <th></th>\n",
       "      <th></th>\n",
       "      <th></th>\n",
       "      <th></th>\n",
       "      <th></th>\n",
       "      <th></th>\n",
       "      <th></th>\n",
       "      <th></th>\n",
       "      <th></th>\n",
       "      <th></th>\n",
       "    </tr>\n",
       "  </thead>\n",
       "  <tbody>\n",
       "    <tr>\n",
       "      <th>1998-01-01</th>\n",
       "      <td>0.0</td>\n",
       "      <td>0.0</td>\n",
       "      <td>0.0</td>\n",
       "      <td>0.0</td>\n",
       "      <td>0.0</td>\n",
       "      <td>0.0</td>\n",
       "      <td>0.0</td>\n",
       "      <td>0.0</td>\n",
       "      <td>0.0</td>\n",
       "      <td>0.0</td>\n",
       "      <td>0</td>\n",
       "      <td>0.0</td>\n",
       "      <td>0.0</td>\n",
       "      <td>0</td>\n",
       "      <td>0</td>\n",
       "      <td>0.0</td>\n",
       "      <td>0.0</td>\n",
       "      <td>0</td>\n",
       "      <td>0.0</td>\n",
       "      <td>0</td>\n",
       "    </tr>\n",
       "    <tr>\n",
       "      <th>1998-02-01</th>\n",
       "      <td>0.0</td>\n",
       "      <td>0.0</td>\n",
       "      <td>0.0</td>\n",
       "      <td>0.0</td>\n",
       "      <td>0.0</td>\n",
       "      <td>0.0</td>\n",
       "      <td>0.0</td>\n",
       "      <td>0.0</td>\n",
       "      <td>0.0</td>\n",
       "      <td>0.0</td>\n",
       "      <td>0</td>\n",
       "      <td>0.0</td>\n",
       "      <td>0.0</td>\n",
       "      <td>0</td>\n",
       "      <td>0</td>\n",
       "      <td>0.0</td>\n",
       "      <td>0.0</td>\n",
       "      <td>0</td>\n",
       "      <td>0.0</td>\n",
       "      <td>0</td>\n",
       "    </tr>\n",
       "    <tr>\n",
       "      <th>1998-03-01</th>\n",
       "      <td>0.0</td>\n",
       "      <td>0.0</td>\n",
       "      <td>0.0</td>\n",
       "      <td>0.0</td>\n",
       "      <td>0.0</td>\n",
       "      <td>0.0</td>\n",
       "      <td>0.0</td>\n",
       "      <td>0.0</td>\n",
       "      <td>0.0</td>\n",
       "      <td>0.0</td>\n",
       "      <td>0</td>\n",
       "      <td>0.0</td>\n",
       "      <td>0.0</td>\n",
       "      <td>0</td>\n",
       "      <td>0</td>\n",
       "      <td>0.0</td>\n",
       "      <td>0.0</td>\n",
       "      <td>0</td>\n",
       "      <td>0.0</td>\n",
       "      <td>0</td>\n",
       "    </tr>\n",
       "    <tr>\n",
       "      <th>1998-04-01</th>\n",
       "      <td>0.0</td>\n",
       "      <td>0.0</td>\n",
       "      <td>0.0</td>\n",
       "      <td>0.0</td>\n",
       "      <td>0.0</td>\n",
       "      <td>0.0</td>\n",
       "      <td>0.0</td>\n",
       "      <td>0.0</td>\n",
       "      <td>0.0</td>\n",
       "      <td>0.0</td>\n",
       "      <td>0</td>\n",
       "      <td>0.0</td>\n",
       "      <td>0.0</td>\n",
       "      <td>0</td>\n",
       "      <td>0</td>\n",
       "      <td>0.0</td>\n",
       "      <td>0.0</td>\n",
       "      <td>0</td>\n",
       "      <td>0.0</td>\n",
       "      <td>0</td>\n",
       "    </tr>\n",
       "    <tr>\n",
       "      <th>1998-05-01</th>\n",
       "      <td>0.0</td>\n",
       "      <td>0.0</td>\n",
       "      <td>0.0</td>\n",
       "      <td>0.0</td>\n",
       "      <td>0.0</td>\n",
       "      <td>0.0</td>\n",
       "      <td>0.0</td>\n",
       "      <td>0.0</td>\n",
       "      <td>0.0</td>\n",
       "      <td>0.0</td>\n",
       "      <td>0</td>\n",
       "      <td>0.0</td>\n",
       "      <td>0.0</td>\n",
       "      <td>0</td>\n",
       "      <td>0</td>\n",
       "      <td>0.0</td>\n",
       "      <td>0.0</td>\n",
       "      <td>0</td>\n",
       "      <td>0.0</td>\n",
       "      <td>0</td>\n",
       "    </tr>\n",
       "  </tbody>\n",
       "</table>\n",
       "</div>"
      ],
      "text/plain": [
       "            col_0  col_1  col_2  col_3  col_4  col_5  col_6  col_7  col_8  \\\n",
       "date_time                                                                   \n",
       "1998-01-01    0.0    0.0    0.0    0.0    0.0    0.0    0.0    0.0    0.0   \n",
       "1998-02-01    0.0    0.0    0.0    0.0    0.0    0.0    0.0    0.0    0.0   \n",
       "1998-03-01    0.0    0.0    0.0    0.0    0.0    0.0    0.0    0.0    0.0   \n",
       "1998-04-01    0.0    0.0    0.0    0.0    0.0    0.0    0.0    0.0    0.0   \n",
       "1998-05-01    0.0    0.0    0.0    0.0    0.0    0.0    0.0    0.0    0.0   \n",
       "\n",
       "            col_9  col_10  col_11  col_12  col_13  col_14  col_15  col_16  \\\n",
       "date_time                                                                   \n",
       "1998-01-01    0.0       0     0.0     0.0       0       0     0.0     0.0   \n",
       "1998-02-01    0.0       0     0.0     0.0       0       0     0.0     0.0   \n",
       "1998-03-01    0.0       0     0.0     0.0       0       0     0.0     0.0   \n",
       "1998-04-01    0.0       0     0.0     0.0       0       0     0.0     0.0   \n",
       "1998-05-01    0.0       0     0.0     0.0       0       0     0.0     0.0   \n",
       "\n",
       "            col_17  col_18  col_19  \n",
       "date_time                           \n",
       "1998-01-01       0     0.0       0  \n",
       "1998-02-01       0     0.0       0  \n",
       "1998-03-01       0     0.0       0  \n",
       "1998-04-01       0     0.0       0  \n",
       "1998-05-01       0     0.0       0  "
      ]
     },
     "execution_count": 3,
     "metadata": {},
     "output_type": "execute_result"
    }
   ],
   "source": [
    "df = pd.read_csv('./data.csv', index_col='date_time', parse_dates=['date_time'])\n",
    "series = df.values\n",
    "month = df.index.month.values\n",
    "df.head()"
   ]
  },
  {
   "cell_type": "code",
   "execution_count": 4,
   "metadata": {},
   "outputs": [
    {
     "data": {
      "text/plain": [
       "<matplotlib.axes._subplots.AxesSubplot at 0x7f4737619110>"
      ]
     },
     "execution_count": 4,
     "metadata": {},
     "output_type": "execute_result"
    },
    {
     "data": {
      "image/png": "[encoded data removed]",
      "text/plain": [
       "<Figure size 1152x432 with 1 Axes>"
      ]
     },
     "metadata": {
      "needs_background": "light"
     },
     "output_type": "display_data"
    }
   ],
   "source": [
    "df.iloc[:, :4].plot(figsize=(16, 6))"
   ]
  },
  {
   "cell_type": "markdown",
   "metadata": {},
   "source": [
    "**Target**"
   ]
  },
  {
   "cell_type": "code",
   "execution_count": 14,
   "metadata": {},
   "outputs": [],
   "source": [
    "n_test = 12\n",
    "n_val = 12\n",
    "enc_lens = 72\n",
    "dec_lens = 12\n",
    "batch_size = 8\n",
    "epochs = 50"
   ]
  },
  {
   "cell_type": "markdown",
   "metadata": {},
   "source": [
    "## 1. Simple Seq2Seq Model"
   ]
  },
  {
   "cell_type": "code",
   "execution_count": 6,
   "metadata": {},
   "outputs": [],
   "source": [
    "dataset = SimpleSeq2SeqDataSet(series, enc_lens, dec_lens)\n",
    "idxes = list(range(len(dataset)))\n",
    "train_idxes, _idxes = walk_forward_split(idxes, enc_lens, dec_lens, test_size=n_test + n_val)\n",
    "valid_idxes, test_idxes = walk_forward_split(_idxes, enc_lens, dec_lens, test_size=n_test)\n",
    "\n",
    "trn_set = Subset(dataset, train_idxes)\n",
    "val_set = Subset(dataset, valid_idxes)\n",
    "test_set = Subset(dataset, test_idxes)\n",
    "trn_ld = DataLoader(trn_set, batch_size=batch_size, shuffle=True, drop_last=False)\n",
    "val_ld = DataLoader(val_set, batch_size=batch_size, shuffle=False, drop_last=False)\n",
    "test_ld = DataLoader(test_set, batch_size=batch_size, shuffle=False)"
   ]
  },
  {
   "cell_type": "code",
   "execution_count": 7,
   "metadata": {
    "scrolled": false
   },
   "outputs": [
    {
     "name": "stderr",
     "output_type": "stream",
     "text": [
      "batch 17 / 17, loss 0.845: 100%|██████████| 17/17 [00:00<00:00, 20.84it/s]\n",
      "batch 8 / 17, loss 0.997:  29%|██▉       | 5/17 [00:00<00:00, 41.29it/s]"
     ]
    },
    {
     "name": "stdout",
     "output_type": "stream",
     "text": [
      "epoch 1 / 50: train loss 1.066 val loss 1.198 RMSE 181.816\n"
     ]
    },
    {
     "name": "stderr",
     "output_type": "stream",
     "text": [
      "batch 17 / 17, loss 0.718: 100%|██████████| 17/17 [00:00<00:00, 36.51it/s]\n",
      "batch 7 / 17, loss 0.719:  24%|██▎       | 4/17 [00:00<00:00, 39.34it/s]"
     ]
    },
    {
     "name": "stdout",
     "output_type": "stream",
     "text": [
      "epoch 2 / 50: train loss 0.944 val loss 0.989 RMSE 169.967\n"
     ]
    },
    {
     "name": "stderr",
     "output_type": "stream",
     "text": [
      "batch 17 / 17, loss 0.858: 100%|██████████| 17/17 [00:00<00:00, 38.10it/s]\n",
      "batch 7 / 17, loss 1.018:  24%|██▎       | 4/17 [00:00<00:00, 33.80it/s]"
     ]
    },
    {
     "name": "stdout",
     "output_type": "stream",
     "text": [
      "epoch 3 / 50: train loss 0.832 val loss 0.954 RMSE 165.981\n"
     ]
    },
    {
     "name": "stderr",
     "output_type": "stream",
     "text": [
      "batch 17 / 17, loss 0.749: 100%|██████████| 17/17 [00:00<00:00, 35.10it/s]\n",
      "batch 6 / 17, loss 0.879:  24%|██▎       | 4/17 [00:00<00:00, 33.25it/s]"
     ]
    },
    {
     "name": "stdout",
     "output_type": "stream",
     "text": [
      "epoch 4 / 50: train loss 0.827 val loss 0.945 RMSE 165.116\n"
     ]
    },
    {
     "name": "stderr",
     "output_type": "stream",
     "text": [
      "batch 17 / 17, loss 1.142: 100%|██████████| 17/17 [00:00<00:00, 37.04it/s]\n",
      "batch 5 / 17, loss 0.914:  18%|█▊        | 3/17 [00:00<00:00, 23.76it/s]"
     ]
    },
    {
     "name": "stdout",
     "output_type": "stream",
     "text": [
      "epoch 5 / 50: train loss 0.811 val loss 0.938 RMSE 164.710\n"
     ]
    },
    {
     "name": "stderr",
     "output_type": "stream",
     "text": [
      "batch 17 / 17, loss 0.833: 100%|██████████| 17/17 [00:00<00:00, 35.32it/s]\n",
      "batch 3 / 17, loss 0.695:  12%|█▏        | 2/17 [00:00<00:00, 20.00it/s]"
     ]
    },
    {
     "name": "stdout",
     "output_type": "stream",
     "text": [
      "epoch 6 / 50: train loss 0.786 val loss 0.904 RMSE 161.015\n"
     ]
    },
    {
     "name": "stderr",
     "output_type": "stream",
     "text": [
      "batch 17 / 17, loss 0.676: 100%|██████████| 17/17 [00:00<00:00, 20.56it/s]\n",
      "batch 5 / 17, loss 0.631:  18%|█▊        | 3/17 [00:00<00:00, 29.59it/s]"
     ]
    },
    {
     "name": "stdout",
     "output_type": "stream",
     "text": [
      "epoch 7 / 50: train loss 0.736 val loss 0.867 RMSE 156.996\n"
     ]
    },
    {
     "name": "stderr",
     "output_type": "stream",
     "text": [
      "batch 17 / 17, loss 0.638: 100%|██████████| 17/17 [00:00<00:00, 26.48it/s]\n",
      "batch 4 / 17, loss 0.661:  18%|█▊        | 3/17 [00:00<00:00, 25.24it/s]"
     ]
    },
    {
     "name": "stdout",
     "output_type": "stream",
     "text": [
      "epoch 8 / 50: train loss 0.700 val loss 0.836 RMSE 152.628\n"
     ]
    },
    {
     "name": "stderr",
     "output_type": "stream",
     "text": [
      "batch 17 / 17, loss 0.570: 100%|██████████| 17/17 [00:00<00:00, 24.01it/s]\n",
      "batch 5 / 17, loss 1.008:  18%|█▊        | 3/17 [00:00<00:00, 29.20it/s]"
     ]
    },
    {
     "name": "stdout",
     "output_type": "stream",
     "text": [
      "epoch 9 / 50: train loss 0.710 val loss 0.883 RMSE 157.743\n"
     ]
    },
    {
     "name": "stderr",
     "output_type": "stream",
     "text": [
      "batch 17 / 17, loss 0.566: 100%|██████████| 17/17 [00:00<00:00, 22.57it/s]\n",
      "batch 4 / 17, loss 0.786:  18%|█▊        | 3/17 [00:00<00:00, 26.13it/s]"
     ]
    },
    {
     "name": "stdout",
     "output_type": "stream",
     "text": [
      "epoch 10 / 50: train loss 0.741 val loss 0.963 RMSE 163.594\n"
     ]
    },
    {
     "name": "stderr",
     "output_type": "stream",
     "text": [
      "batch 17 / 17, loss 0.772: 100%|██████████| 17/17 [00:00<00:00, 25.81it/s]\n",
      "batch 5 / 17, loss 0.663:  18%|█▊        | 3/17 [00:00<00:00, 25.70it/s]"
     ]
    },
    {
     "name": "stdout",
     "output_type": "stream",
     "text": [
      "epoch 11 / 50: train loss 0.708 val loss 0.843 RMSE 153.685\n"
     ]
    },
    {
     "name": "stderr",
     "output_type": "stream",
     "text": [
      "batch 17 / 17, loss 0.583: 100%|██████████| 17/17 [00:00<00:00, 26.57it/s]\n",
      "batch 5 / 17, loss 0.620:  24%|██▎       | 4/17 [00:00<00:00, 30.74it/s]"
     ]
    },
    {
     "name": "stdout",
     "output_type": "stream",
     "text": [
      "epoch 12 / 50: train loss 0.677 val loss 0.866 RMSE 155.367\n"
     ]
    },
    {
     "name": "stderr",
     "output_type": "stream",
     "text": [
      "batch 17 / 17, loss 0.579: 100%|██████████| 17/17 [00:00<00:00, 29.24it/s]\n",
      "batch 6 / 17, loss 0.624:  24%|██▎       | 4/17 [00:00<00:00, 32.07it/s]"
     ]
    },
    {
     "name": "stdout",
     "output_type": "stream",
     "text": [
      "epoch 13 / 50: train loss 0.637 val loss 0.811 RMSE 150.463\n"
     ]
    },
    {
     "name": "stderr",
     "output_type": "stream",
     "text": [
      "batch 17 / 17, loss 0.642: 100%|██████████| 17/17 [00:00<00:00, 35.40it/s]\n",
      "batch 6 / 17, loss 0.663:  24%|██▎       | 4/17 [00:00<00:00, 34.35it/s]"
     ]
    },
    {
     "name": "stdout",
     "output_type": "stream",
     "text": [
      "epoch 14 / 50: train loss 0.633 val loss 0.795 RMSE 148.144\n"
     ]
    },
    {
     "name": "stderr",
     "output_type": "stream",
     "text": [
      "batch 17 / 17, loss 0.577: 100%|██████████| 17/17 [00:00<00:00, 35.70it/s]\n",
      "batch 7 / 17, loss 0.540:  24%|██▎       | 4/17 [00:00<00:00, 36.08it/s]"
     ]
    },
    {
     "name": "stdout",
     "output_type": "stream",
     "text": [
      "epoch 15 / 50: train loss 0.616 val loss 0.803 RMSE 148.903\n"
     ]
    },
    {
     "name": "stderr",
     "output_type": "stream",
     "text": [
      "batch 17 / 17, loss 0.538: 100%|██████████| 17/17 [00:00<00:00, 35.73it/s]\n",
      "batch 7 / 17, loss 0.625:  24%|██▎       | 4/17 [00:00<00:00, 33.21it/s]"
     ]
    },
    {
     "name": "stdout",
     "output_type": "stream",
     "text": [
      "epoch 16 / 50: train loss 0.596 val loss 0.785 RMSE 147.482\n"
     ]
    },
    {
     "name": "stderr",
     "output_type": "stream",
     "text": [
      "batch 17 / 17, loss 0.676: 100%|██████████| 17/17 [00:00<00:00, 35.52it/s]\n",
      "batch 4 / 17, loss 0.607:  24%|██▎       | 4/17 [00:00<00:00, 29.02it/s]"
     ]
    },
    {
     "name": "stdout",
     "output_type": "stream",
     "text": [
      "epoch 17 / 50: train loss 0.610 val loss 0.775 RMSE 146.145\n"
     ]
    },
    {
     "name": "stderr",
     "output_type": "stream",
     "text": [
      "batch 17 / 17, loss 0.520: 100%|██████████| 17/17 [00:00<00:00, 25.61it/s]\n",
      "batch 5 / 17, loss 0.506:  18%|█▊        | 3/17 [00:00<00:00, 25.01it/s]"
     ]
    },
    {
     "name": "stdout",
     "output_type": "stream",
     "text": [
      "epoch 18 / 50: train loss 0.569 val loss 0.771 RMSE 146.426\n"
     ]
    },
    {
     "name": "stderr",
     "output_type": "stream",
     "text": [
      "batch 17 / 17, loss 0.526: 100%|██████████| 17/17 [00:00<00:00, 34.74it/s]\n",
      "batch 7 / 17, loss 0.585:  24%|██▎       | 4/17 [00:00<00:00, 33.46it/s]"
     ]
    },
    {
     "name": "stdout",
     "output_type": "stream",
     "text": [
      "epoch 19 / 50: train loss 0.562 val loss 0.766 RMSE 145.730\n"
     ]
    },
    {
     "name": "stderr",
     "output_type": "stream",
     "text": [
      "batch 17 / 17, loss 0.526: 100%|██████████| 17/17 [00:00<00:00, 35.99it/s]\n",
      "batch 7 / 17, loss 0.618:  24%|██▎       | 4/17 [00:00<00:00, 33.73it/s]"
     ]
    },
    {
     "name": "stdout",
     "output_type": "stream",
     "text": [
      "epoch 20 / 50: train loss 0.551 val loss 0.830 RMSE 153.713\n"
     ]
    },
    {
     "name": "stderr",
     "output_type": "stream",
     "text": [
      "batch 17 / 17, loss 0.659: 100%|██████████| 17/17 [00:00<00:00, 33.83it/s]\n",
      "batch 5 / 17, loss 0.523:  18%|█▊        | 3/17 [00:00<00:00, 23.79it/s]"
     ]
    },
    {
     "name": "stdout",
     "output_type": "stream",
     "text": [
      "epoch 21 / 50: train loss 0.598 val loss 0.764 RMSE 145.583\n"
     ]
    },
    {
     "name": "stderr",
     "output_type": "stream",
     "text": [
      "batch 17 / 17, loss 0.646: 100%|██████████| 17/17 [00:00<00:00, 28.53it/s]\n",
      "batch 3 / 17, loss 0.634:  12%|█▏        | 2/17 [00:00<00:00, 17.33it/s]"
     ]
    },
    {
     "name": "stdout",
     "output_type": "stream",
     "text": [
      "epoch 22 / 50: train loss 0.561 val loss 0.758 RMSE 145.990\n"
     ]
    },
    {
     "name": "stderr",
     "output_type": "stream",
     "text": [
      "batch 17 / 17, loss 0.565: 100%|██████████| 17/17 [00:00<00:00, 18.88it/s]\n",
      "batch 5 / 17, loss 0.494:  12%|█▏        | 2/17 [00:00<00:00, 19.07it/s]"
     ]
    },
    {
     "name": "stdout",
     "output_type": "stream",
     "text": [
      "epoch 23 / 50: train loss 0.583 val loss 0.767 RMSE 145.526\n"
     ]
    },
    {
     "name": "stderr",
     "output_type": "stream",
     "text": [
      "batch 17 / 17, loss 0.809: 100%|██████████| 17/17 [00:00<00:00, 32.49it/s]\n",
      "batch 6 / 17, loss 0.390:  18%|█▊        | 3/17 [00:00<00:00, 27.34it/s]"
     ]
    },
    {
     "name": "stdout",
     "output_type": "stream",
     "text": [
      "epoch 24 / 50: train loss 0.559 val loss 0.747 RMSE 144.060\n"
     ]
    },
    {
     "name": "stderr",
     "output_type": "stream",
     "text": [
      "batch 17 / 17, loss 0.504: 100%|██████████| 17/17 [00:00<00:00, 36.21it/s]\n",
      "batch 5 / 17, loss 0.467:  18%|█▊        | 3/17 [00:00<00:00, 26.58it/s]"
     ]
    },
    {
     "name": "stdout",
     "output_type": "stream",
     "text": [
      "epoch 25 / 50: train loss 0.523 val loss 0.755 RMSE 145.094\n"
     ]
    },
    {
     "name": "stderr",
     "output_type": "stream",
     "text": [
      "batch 17 / 17, loss 0.444: 100%|██████████| 17/17 [00:00<00:00, 34.26it/s]\n",
      "batch 7 / 17, loss 0.442:  24%|██▎       | 4/17 [00:00<00:00, 36.09it/s]"
     ]
    },
    {
     "name": "stdout",
     "output_type": "stream",
     "text": [
      "epoch 26 / 50: train loss 0.527 val loss 0.734 RMSE 143.263\n"
     ]
    },
    {
     "name": "stderr",
     "output_type": "stream",
     "text": [
      "batch 17 / 17, loss 0.900: 100%|██████████| 17/17 [00:00<00:00, 36.55it/s]\n",
      "batch 4 / 17, loss 0.514:  18%|█▊        | 3/17 [00:00<00:00, 21.80it/s]"
     ]
    },
    {
     "name": "stdout",
     "output_type": "stream",
     "text": [
      "epoch 27 / 50: train loss 0.517 val loss 0.732 RMSE 142.764\n"
     ]
    },
    {
     "name": "stderr",
     "output_type": "stream",
     "text": [
      "batch 17 / 17, loss 0.425: 100%|██████████| 17/17 [00:00<00:00, 31.70it/s]\n",
      "batch 7 / 17, loss 0.548:  24%|██▎       | 4/17 [00:00<00:00, 37.23it/s]"
     ]
    },
    {
     "name": "stdout",
     "output_type": "stream",
     "text": [
      "epoch 28 / 50: train loss 0.492 val loss 0.731 RMSE 143.060\n"
     ]
    },
    {
     "name": "stderr",
     "output_type": "stream",
     "text": [
      "batch 17 / 17, loss 0.578: 100%|██████████| 17/17 [00:00<00:00, 25.35it/s]\n",
      "batch 4 / 17, loss 0.419:  18%|█▊        | 3/17 [00:00<00:00, 29.83it/s]"
     ]
    },
    {
     "name": "stdout",
     "output_type": "stream",
     "text": [
      "epoch 29 / 50: train loss 0.514 val loss 0.729 RMSE 142.670\n"
     ]
    },
    {
     "name": "stderr",
     "output_type": "stream",
     "text": [
      "batch 17 / 17, loss 0.436: 100%|██████████| 17/17 [00:00<00:00, 19.87it/s]\n",
      "batch 6 / 17, loss 0.419:  24%|██▎       | 4/17 [00:00<00:00, 31.46it/s]"
     ]
    },
    {
     "name": "stdout",
     "output_type": "stream",
     "text": [
      "epoch 30 / 50: train loss 0.519 val loss 0.732 RMSE 143.050\n"
     ]
    },
    {
     "name": "stderr",
     "output_type": "stream",
     "text": [
      "batch 17 / 17, loss 0.416: 100%|██████████| 17/17 [00:00<00:00, 24.84it/s]\n",
      "batch 5 / 17, loss 0.440:  18%|█▊        | 3/17 [00:00<00:00, 29.61it/s]"
     ]
    },
    {
     "name": "stdout",
     "output_type": "stream",
     "text": [
      "epoch 31 / 50: train loss 0.483 val loss 0.717 RMSE 141.539\n"
     ]
    },
    {
     "name": "stderr",
     "output_type": "stream",
     "text": [
      "batch 17 / 17, loss 0.429: 100%|██████████| 17/17 [00:00<00:00, 28.60it/s]\n",
      "batch 4 / 17, loss 0.687:  18%|█▊        | 3/17 [00:00<00:00, 25.48it/s]"
     ]
    },
    {
     "name": "stdout",
     "output_type": "stream",
     "text": [
      "epoch 32 / 50: train loss 0.485 val loss 0.715 RMSE 140.915\n"
     ]
    },
    {
     "name": "stderr",
     "output_type": "stream",
     "text": [
      "batch 17 / 17, loss 0.428: 100%|██████████| 17/17 [00:00<00:00, 31.17it/s]\n",
      "batch 7 / 17, loss 0.543:  24%|██▎       | 4/17 [00:00<00:00, 34.81it/s]"
     ]
    },
    {
     "name": "stdout",
     "output_type": "stream",
     "text": [
      "epoch 33 / 50: train loss 0.502 val loss 0.719 RMSE 141.166\n"
     ]
    },
    {
     "name": "stderr",
     "output_type": "stream",
     "text": [
      "batch 17 / 17, loss 0.419: 100%|██████████| 17/17 [00:00<00:00, 38.74it/s]\n",
      "batch 6 / 17, loss 0.399:  24%|██▎       | 4/17 [00:00<00:00, 34.81it/s]"
     ]
    },
    {
     "name": "stdout",
     "output_type": "stream",
     "text": [
      "epoch 34 / 50: train loss 0.495 val loss 0.716 RMSE 141.253\n"
     ]
    },
    {
     "name": "stderr",
     "output_type": "stream",
     "text": [
      "batch 17 / 17, loss 0.547: 100%|██████████| 17/17 [00:00<00:00, 36.49it/s]\n",
      "batch 7 / 17, loss 0.586:  24%|██▎       | 4/17 [00:00<00:00, 39.33it/s]"
     ]
    },
    {
     "name": "stdout",
     "output_type": "stream",
     "text": [
      "epoch 35 / 50: train loss 0.481 val loss 0.715 RMSE 141.098\n"
     ]
    },
    {
     "name": "stderr",
     "output_type": "stream",
     "text": [
      "batch 17 / 17, loss 0.507: 100%|██████████| 17/17 [00:00<00:00, 26.85it/s]\n",
      "batch 8 / 17, loss 0.426:  29%|██▉       | 5/17 [00:00<00:00, 42.04it/s]"
     ]
    },
    {
     "name": "stdout",
     "output_type": "stream",
     "text": [
      "epoch 36 / 50: train loss 0.482 val loss 0.703 RMSE 139.735\n"
     ]
    },
    {
     "name": "stderr",
     "output_type": "stream",
     "text": [
      "batch 17 / 17, loss 0.445: 100%|██████████| 17/17 [00:00<00:00, 40.68it/s]\n",
      "batch 5 / 17, loss 0.380:  24%|██▎       | 4/17 [00:00<00:00, 29.65it/s]"
     ]
    },
    {
     "name": "stdout",
     "output_type": "stream",
     "text": [
      "epoch 37 / 50: train loss 0.468 val loss 0.705 RMSE 140.004\n"
     ]
    },
    {
     "name": "stderr",
     "output_type": "stream",
     "text": [
      "batch 17 / 17, loss 0.396: 100%|██████████| 17/17 [00:00<00:00, 26.42it/s]\n",
      "batch 7 / 17, loss 0.433:  24%|██▎       | 4/17 [00:00<00:00, 37.85it/s]"
     ]
    },
    {
     "name": "stdout",
     "output_type": "stream",
     "text": [
      "epoch 38 / 50: train loss 0.486 val loss 0.710 RMSE 140.622\n"
     ]
    },
    {
     "name": "stderr",
     "output_type": "stream",
     "text": [
      "batch 17 / 17, loss 0.343: 100%|██████████| 17/17 [00:00<00:00, 35.02it/s]\n",
      "batch 7 / 17, loss 0.613:  24%|██▎       | 4/17 [00:00<00:00, 36.85it/s]"
     ]
    },
    {
     "name": "stdout",
     "output_type": "stream",
     "text": [
      "epoch 39 / 50: train loss 0.493 val loss 0.696 RMSE 139.247\n"
     ]
    },
    {
     "name": "stderr",
     "output_type": "stream",
     "text": [
      "batch 17 / 17, loss 0.576: 100%|██████████| 17/17 [00:00<00:00, 37.10it/s]\n",
      "batch 2 / 17, loss 0.560:   0%|          | 0/17 [00:00<?, ?it/s]"
     ]
    },
    {
     "name": "stdout",
     "output_type": "stream",
     "text": [
      "epoch 40 / 50: train loss 0.481 val loss 0.696 RMSE 139.064\n"
     ]
    },
    {
     "name": "stderr",
     "output_type": "stream",
     "text": [
      "batch 17 / 17, loss 0.494: 100%|██████████| 17/17 [00:00<00:00, 21.32it/s]\n",
      "batch 5 / 17, loss 0.529:  24%|██▎       | 4/17 [00:00<00:00, 32.56it/s]"
     ]
    },
    {
     "name": "stdout",
     "output_type": "stream",
     "text": [
      "epoch 41 / 50: train loss 0.466 val loss 0.693 RMSE 138.641\n"
     ]
    },
    {
     "name": "stderr",
     "output_type": "stream",
     "text": [
      "batch 17 / 17, loss 0.401: 100%|██████████| 17/17 [00:00<00:00, 26.69it/s]\n",
      "batch 7 / 17, loss 0.557:  24%|██▎       | 4/17 [00:00<00:00, 38.68it/s]"
     ]
    },
    {
     "name": "stdout",
     "output_type": "stream",
     "text": [
      "epoch 42 / 50: train loss 0.432 val loss 0.690 RMSE 138.481\n"
     ]
    },
    {
     "name": "stderr",
     "output_type": "stream",
     "text": [
      "batch 17 / 17, loss 0.369: 100%|██████████| 17/17 [00:00<00:00, 26.16it/s]\n",
      "batch 7 / 17, loss 0.477:  24%|██▎       | 4/17 [00:00<00:00, 37.92it/s]"
     ]
    },
    {
     "name": "stdout",
     "output_type": "stream",
     "text": [
      "epoch 43 / 50: train loss 0.468 val loss 0.688 RMSE 138.105\n"
     ]
    },
    {
     "name": "stderr",
     "output_type": "stream",
     "text": [
      "batch 17 / 17, loss 0.363: 100%|██████████| 17/17 [00:00<00:00, 37.64it/s]\n",
      "batch 7 / 17, loss 0.497:  24%|██▎       | 4/17 [00:00<00:00, 37.84it/s]"
     ]
    },
    {
     "name": "stdout",
     "output_type": "stream",
     "text": [
      "epoch 44 / 50: train loss 0.469 val loss 0.690 RMSE 138.274\n"
     ]
    },
    {
     "name": "stderr",
     "output_type": "stream",
     "text": [
      "batch 17 / 17, loss 0.346: 100%|██████████| 17/17 [00:00<00:00, 25.54it/s]\n",
      "batch 5 / 17, loss 0.472:  18%|█▊        | 3/17 [00:00<00:00, 24.57it/s]"
     ]
    },
    {
     "name": "stdout",
     "output_type": "stream",
     "text": [
      "epoch 45 / 50: train loss 0.476 val loss 0.688 RMSE 138.221\n"
     ]
    },
    {
     "name": "stderr",
     "output_type": "stream",
     "text": [
      "batch 17 / 17, loss 0.409: 100%|██████████| 17/17 [00:00<00:00, 22.14it/s]\n",
      "batch 4 / 17, loss 0.392:  18%|█▊        | 3/17 [00:00<00:00, 22.09it/s]"
     ]
    },
    {
     "name": "stdout",
     "output_type": "stream",
     "text": [
      "epoch 46 / 50: train loss 0.467 val loss 0.686 RMSE 138.028\n"
     ]
    },
    {
     "name": "stderr",
     "output_type": "stream",
     "text": [
      "batch 17 / 17, loss 0.378: 100%|██████████| 17/17 [00:00<00:00, 29.16it/s]\n",
      "batch 5 / 17, loss 0.410:  18%|█▊        | 3/17 [00:00<00:00, 28.42it/s]"
     ]
    },
    {
     "name": "stdout",
     "output_type": "stream",
     "text": [
      "epoch 47 / 50: train loss 0.435 val loss 0.683 RMSE 137.671\n"
     ]
    },
    {
     "name": "stderr",
     "output_type": "stream",
     "text": [
      "batch 17 / 17, loss 0.411: 100%|██████████| 17/17 [00:00<00:00, 30.20it/s]\n",
      "batch 6 / 17, loss 0.391:  24%|██▎       | 4/17 [00:00<00:00, 32.79it/s]"
     ]
    },
    {
     "name": "stdout",
     "output_type": "stream",
     "text": [
      "epoch 48 / 50: train loss 0.465 val loss 0.685 RMSE 137.997\n"
     ]
    },
    {
     "name": "stderr",
     "output_type": "stream",
     "text": [
      "batch 17 / 17, loss 0.517: 100%|██████████| 17/17 [00:00<00:00, 29.75it/s]\n",
      "batch 2 / 17, loss 0.431:  12%|█▏        | 2/17 [00:00<00:01, 11.70it/s]"
     ]
    },
    {
     "name": "stdout",
     "output_type": "stream",
     "text": [
      "epoch 49 / 50: train loss 0.429 val loss 0.683 RMSE 137.749\n"
     ]
    },
    {
     "name": "stderr",
     "output_type": "stream",
     "text": [
      "batch 17 / 17, loss 0.449: 100%|██████████| 17/17 [00:00<00:00, 18.05it/s]\n"
     ]
    },
    {
     "name": "stdout",
     "output_type": "stream",
     "text": [
      "epoch 50 / 50: train loss 0.452 val loss 0.682 RMSE 137.589\n",
      "best model save in /home/zhouzr/project/Deep-Time-Series-Prediction/notebooks/logs/SimpleSeq2Seq_epoch_50_0.682.pkl\n"
     ]
    }
   ],
   "source": [
    "hp = {\n",
    "        'path': Path('.').resolve() / 'logs',\n",
    "        'target_size': 20,\n",
    "        'rnn_type': 'LSTM',\n",
    "        'dropout': 0.2,\n",
    "        'hidden_size': 72,\n",
    "        'teacher_forcing_rate': 0.5,\n",
    "        'learning_rate': 0.001,\n",
    "        'use_move_scale': True,\n",
    "    }\n",
    "\n",
    "compile_params = {\n",
    "    'loss_fn': 'MSELoss',\n",
    "    'optimizer': 'Adam',\n",
    "    'lr_scheduler': 'CosineAnnealingWarmRestarts',\n",
    "    'lr_scheduler_kw': {'T_0': 5, 'T_mult': 10},\n",
    "    'metric': 'RMSE',\n",
    "}\n",
    "\n",
    "model = SimpleSeq2Seq(hp)\n",
    "model.compile(**compile_params)\n",
    "model.fit(epochs, trn_ld, val_ld, early_stopping=10, save_every_n_epochs=None, save_best_model=True)"
   ]
  },
  {
   "cell_type": "code",
   "execution_count": 11,
   "metadata": {},
   "outputs": [
    {
     "name": "stdout",
     "output_type": "stream",
     "text": [
      " -  -  -  -  -  -  -  -  -  -  -  -  -  -  -  -  -  -  -  - \n",
      "train loss: 0.476, valid loss: 0.682, test loss :0.725, test RMSE :141.546, \n"
     ]
    }
   ],
   "source": [
    "model.reload(model.best_model_path())\n",
    "print(' - ' * 20)\n",
    "print(f'train loss: {model.eval_cycle(trn_ld)[0]:.3f}, '\n",
    "      f'valid loss: {model.eval_cycle(val_ld)[0]:.3f}, '\n",
    "      f'test loss :{model.eval_cycle(test_ld)[0]:.3f}, '\n",
    "      f'test RMSE :{model.eval_cycle(test_ld)[1]:.3f}, ')\n",
    "shutil.rmtree(hp['path'])"
   ]
  },
  {
   "cell_type": "markdown",
   "metadata": {},
   "source": [
    "## 2. Seq2Seq(Attention 0)"
   ]
  },
  {
   "cell_type": "code",
   "execution_count": 12,
   "metadata": {},
   "outputs": [],
   "source": [
    "dataset = Seq2SeqDataSet(series, enc_lens, dec_lens, categorical_var=month)\n",
    "idxes = list(range(len(dataset)))\n",
    "train_idxes, _idxes = walk_forward_split(idxes, enc_lens, dec_lens, test_size=n_test + n_val)\n",
    "valid_idxes, test_idxes = walk_forward_split(_idxes, enc_lens, dec_lens, test_size=n_test)\n",
    "\n",
    "trn_set = Subset(dataset, train_idxes)\n",
    "val_set = Subset(dataset, valid_idxes)\n",
    "test_set = Subset(dataset, test_idxes)\n",
    "trn_ld = DataLoader(trn_set, batch_size=batch_size, shuffle=True, drop_last=False)\n",
    "val_ld = DataLoader(val_set, batch_size=batch_size, shuffle=False, drop_last=False)\n",
    "test_ld = DataLoader(test_set, batch_size=batch_size, shuffle=False)"
   ]
  },
  {
   "cell_type": "code",
   "execution_count": 15,
   "metadata": {
    "scrolled": false
   },
   "outputs": [
    {
     "name": "stderr",
     "output_type": "stream",
     "text": [
      "batch 17 / 17, loss 0.815: 100%|██████████| 17/17 [00:01<00:00,  9.71it/s]\n",
      "batch 1 / 17, loss 1.090:   6%|▌         | 1/17 [00:00<00:01,  9.74it/s]"
     ]
    },
    {
     "name": "stdout",
     "output_type": "stream",
     "text": [
      "epoch 1 / 50: train loss 1.037 val loss 1.074 RMSE 173.898\n",
      "create model path: /home/zhouzr/project/Deep-Time-Series-Prediction/notebooks/logs\n"
     ]
    },
    {
     "name": "stderr",
     "output_type": "stream",
     "text": [
      "batch 17 / 17, loss 0.765: 100%|██████████| 17/17 [00:01<00:00, 10.94it/s]\n",
      "batch 2 / 17, loss 0.822:   6%|▌         | 1/17 [00:00<00:01,  9.70it/s]"
     ]
    },
    {
     "name": "stdout",
     "output_type": "stream",
     "text": [
      "epoch 2 / 50: train loss 0.888 val loss 1.027 RMSE 170.436\n"
     ]
    },
    {
     "name": "stderr",
     "output_type": "stream",
     "text": [
      "batch 17 / 17, loss 0.711: 100%|██████████| 17/17 [00:01<00:00, 10.86it/s]\n",
      "batch 2 / 17, loss 0.905:  12%|█▏        | 2/17 [00:00<00:00, 15.03it/s]"
     ]
    },
    {
     "name": "stdout",
     "output_type": "stream",
     "text": [
      "epoch 3 / 50: train loss 0.805 val loss 0.937 RMSE 164.248\n"
     ]
    },
    {
     "name": "stderr",
     "output_type": "stream",
     "text": [
      "batch 17 / 17, loss 0.793: 100%|██████████| 17/17 [00:01<00:00, 13.41it/s]\n",
      "batch 1 / 17, loss 0.757:   6%|▌         | 1/17 [00:00<00:01,  9.85it/s]"
     ]
    },
    {
     "name": "stdout",
     "output_type": "stream",
     "text": [
      "epoch 4 / 50: train loss 0.770 val loss 0.916 RMSE 162.628\n"
     ]
    },
    {
     "name": "stderr",
     "output_type": "stream",
     "text": [
      "batch 17 / 17, loss 0.743: 100%|██████████| 17/17 [00:01<00:00,  9.56it/s]\n",
      "batch 2 / 17, loss 0.802:  12%|█▏        | 2/17 [00:00<00:01, 11.93it/s]"
     ]
    },
    {
     "name": "stdout",
     "output_type": "stream",
     "text": [
      "epoch 5 / 50: train loss 0.764 val loss 0.911 RMSE 162.139\n"
     ]
    },
    {
     "name": "stderr",
     "output_type": "stream",
     "text": [
      "batch 17 / 17, loss 0.642: 100%|██████████| 17/17 [00:01<00:00, 11.76it/s]\n",
      "batch 1 / 17, loss 0.730:   6%|▌         | 1/17 [00:00<00:02,  6.59it/s]"
     ]
    },
    {
     "name": "stdout",
     "output_type": "stream",
     "text": [
      "epoch 6 / 50: train loss 0.730 val loss 0.870 RMSE 157.458\n"
     ]
    },
    {
     "name": "stderr",
     "output_type": "stream",
     "text": [
      "batch 17 / 17, loss 0.874: 100%|██████████| 17/17 [00:01<00:00, 10.92it/s]\n",
      "batch 3 / 17, loss 0.540:  12%|█▏        | 2/17 [00:00<00:00, 17.25it/s]"
     ]
    },
    {
     "name": "stdout",
     "output_type": "stream",
     "text": [
      "epoch 7 / 50: train loss 0.697 val loss 0.848 RMSE 155.354\n"
     ]
    },
    {
     "name": "stderr",
     "output_type": "stream",
     "text": [
      "batch 17 / 17, loss 0.740: 100%|██████████| 17/17 [00:01<00:00, 13.30it/s]\n",
      "batch 3 / 17, loss 0.531:  12%|█▏        | 2/17 [00:00<00:00, 16.62it/s]"
     ]
    },
    {
     "name": "stdout",
     "output_type": "stream",
     "text": [
      "epoch 8 / 50: train loss 0.703 val loss 0.826 RMSE 151.696\n"
     ]
    },
    {
     "name": "stderr",
     "output_type": "stream",
     "text": [
      "batch 17 / 17, loss 0.763: 100%|██████████| 17/17 [00:00<00:00, 17.40it/s]\n",
      "batch 1 / 17, loss 0.663:   6%|▌         | 1/17 [00:00<00:01,  8.77it/s]"
     ]
    },
    {
     "name": "stdout",
     "output_type": "stream",
     "text": [
      "epoch 9 / 50: train loss 0.656 val loss 0.868 RMSE 156.430\n"
     ]
    },
    {
     "name": "stderr",
     "output_type": "stream",
     "text": [
      "batch 17 / 17, loss 0.552: 100%|██████████| 17/17 [00:01<00:00, 10.63it/s]\n",
      "batch 1 / 17, loss 0.555:   0%|          | 0/17 [00:00<?, ?it/s]"
     ]
    },
    {
     "name": "stdout",
     "output_type": "stream",
     "text": [
      "epoch 10 / 50: train loss 0.618 val loss 0.802 RMSE 149.253\n"
     ]
    },
    {
     "name": "stderr",
     "output_type": "stream",
     "text": [
      "batch 17 / 17, loss 0.592: 100%|██████████| 17/17 [00:01<00:00, 12.49it/s]\n",
      "batch 2 / 17, loss 0.592:  12%|█▏        | 2/17 [00:00<00:01, 12.87it/s]"
     ]
    },
    {
     "name": "stdout",
     "output_type": "stream",
     "text": [
      "epoch 11 / 50: train loss 0.615 val loss 0.779 RMSE 146.918\n"
     ]
    },
    {
     "name": "stderr",
     "output_type": "stream",
     "text": [
      "batch 17 / 17, loss 0.611: 100%|██████████| 17/17 [00:01<00:00, 13.20it/s]\n",
      "batch 2 / 17, loss 0.693:  12%|█▏        | 2/17 [00:00<00:01, 12.36it/s]"
     ]
    },
    {
     "name": "stdout",
     "output_type": "stream",
     "text": [
      "epoch 12 / 50: train loss 0.628 val loss 0.857 RMSE 153.187\n"
     ]
    },
    {
     "name": "stderr",
     "output_type": "stream",
     "text": [
      "batch 17 / 17, loss 0.425: 100%|██████████| 17/17 [00:01<00:00, 15.08it/s]\n",
      "batch 2 / 17, loss 0.664:  12%|█▏        | 2/17 [00:00<00:01, 12.58it/s]"
     ]
    },
    {
     "name": "stdout",
     "output_type": "stream",
     "text": [
      "epoch 13 / 50: train loss 0.612 val loss 0.783 RMSE 146.748\n"
     ]
    },
    {
     "name": "stderr",
     "output_type": "stream",
     "text": [
      "batch 17 / 17, loss 0.629: 100%|██████████| 17/17 [00:01<00:00, 11.77it/s]\n",
      "batch 2 / 17, loss 0.608:  12%|█▏        | 2/17 [00:00<00:01, 14.10it/s]"
     ]
    },
    {
     "name": "stdout",
     "output_type": "stream",
     "text": [
      "epoch 14 / 50: train loss 0.597 val loss 0.770 RMSE 146.714\n"
     ]
    },
    {
     "name": "stderr",
     "output_type": "stream",
     "text": [
      "batch 17 / 17, loss 0.559: 100%|██████████| 17/17 [00:01<00:00, 16.88it/s]\n",
      "batch 3 / 17, loss 0.448:  12%|█▏        | 2/17 [00:00<00:00, 16.62it/s]"
     ]
    },
    {
     "name": "stdout",
     "output_type": "stream",
     "text": [
      "epoch 15 / 50: train loss 0.539 val loss 0.779 RMSE 147.610\n"
     ]
    },
    {
     "name": "stderr",
     "output_type": "stream",
     "text": [
      "batch 17 / 17, loss 0.485: 100%|██████████| 17/17 [00:01<00:00, 16.35it/s]\n",
      "batch 3 / 17, loss 0.611:  12%|█▏        | 2/17 [00:00<00:00, 19.03it/s]"
     ]
    },
    {
     "name": "stdout",
     "output_type": "stream",
     "text": [
      "epoch 16 / 50: train loss 0.534 val loss 0.751 RMSE 144.112\n"
     ]
    },
    {
     "name": "stderr",
     "output_type": "stream",
     "text": [
      "batch 17 / 17, loss 0.455: 100%|██████████| 17/17 [00:00<00:00, 17.80it/s]\n",
      "batch 2 / 17, loss 0.546:  12%|█▏        | 2/17 [00:00<00:01, 13.53it/s]"
     ]
    },
    {
     "name": "stdout",
     "output_type": "stream",
     "text": [
      "epoch 17 / 50: train loss 0.541 val loss 0.721 RMSE 142.262\n"
     ]
    },
    {
     "name": "stderr",
     "output_type": "stream",
     "text": [
      "batch 17 / 17, loss 0.442: 100%|██████████| 17/17 [00:01<00:00, 12.82it/s]\n",
      "batch 3 / 17, loss 0.434:  12%|█▏        | 2/17 [00:00<00:00, 18.91it/s]"
     ]
    },
    {
     "name": "stdout",
     "output_type": "stream",
     "text": [
      "epoch 18 / 50: train loss 0.507 val loss 0.701 RMSE 139.051\n"
     ]
    },
    {
     "name": "stderr",
     "output_type": "stream",
     "text": [
      "batch 17 / 17, loss 0.471: 100%|██████████| 17/17 [00:00<00:00, 17.28it/s]\n",
      "batch 1 / 17, loss 0.472:   6%|▌         | 1/17 [00:00<00:01,  8.56it/s]"
     ]
    },
    {
     "name": "stdout",
     "output_type": "stream",
     "text": [
      "epoch 19 / 50: train loss 0.495 val loss 0.691 RMSE 137.682\n"
     ]
    },
    {
     "name": "stderr",
     "output_type": "stream",
     "text": [
      "batch 17 / 17, loss 0.442: 100%|██████████| 17/17 [00:01<00:00, 13.68it/s]\n",
      "batch 2 / 17, loss 0.355:  12%|█▏        | 2/17 [00:00<00:01, 12.91it/s]"
     ]
    },
    {
     "name": "stdout",
     "output_type": "stream",
     "text": [
      "epoch 20 / 50: train loss 0.477 val loss 0.718 RMSE 139.787\n"
     ]
    },
    {
     "name": "stderr",
     "output_type": "stream",
     "text": [
      "batch 17 / 17, loss 0.596: 100%|██████████| 17/17 [00:01<00:00, 12.32it/s]\n",
      "batch 2 / 17, loss 0.394:  12%|█▏        | 2/17 [00:00<00:00, 15.03it/s]"
     ]
    },
    {
     "name": "stdout",
     "output_type": "stream",
     "text": [
      "epoch 21 / 50: train loss 0.481 val loss 0.675 RMSE 136.017\n"
     ]
    },
    {
     "name": "stderr",
     "output_type": "stream",
     "text": [
      "batch 17 / 17, loss 0.473: 100%|██████████| 17/17 [00:01<00:00, 10.75it/s]\n",
      "batch 2 / 17, loss 0.493:  12%|█▏        | 2/17 [00:00<00:01, 14.79it/s]"
     ]
    },
    {
     "name": "stdout",
     "output_type": "stream",
     "text": [
      "epoch 22 / 50: train loss 0.463 val loss 0.672 RMSE 135.978\n"
     ]
    },
    {
     "name": "stderr",
     "output_type": "stream",
     "text": [
      "batch 17 / 17, loss 0.404: 100%|██████████| 17/17 [00:01<00:00, 13.28it/s]\n",
      "batch 2 / 17, loss 0.406:  12%|█▏        | 2/17 [00:00<00:01, 12.97it/s]"
     ]
    },
    {
     "name": "stdout",
     "output_type": "stream",
     "text": [
      "epoch 23 / 50: train loss 0.442 val loss 0.648 RMSE 132.869\n"
     ]
    },
    {
     "name": "stderr",
     "output_type": "stream",
     "text": [
      "batch 17 / 17, loss 0.429: 100%|██████████| 17/17 [00:01<00:00, 13.91it/s]\n",
      "batch 2 / 17, loss 0.415:  12%|█▏        | 2/17 [00:00<00:01, 14.29it/s]"
     ]
    },
    {
     "name": "stdout",
     "output_type": "stream",
     "text": [
      "epoch 24 / 50: train loss 0.427 val loss 0.644 RMSE 132.837\n"
     ]
    },
    {
     "name": "stderr",
     "output_type": "stream",
     "text": [
      "batch 17 / 17, loss 0.313: 100%|██████████| 17/17 [00:01<00:00, 11.77it/s]\n",
      "batch 3 / 17, loss 0.346:  12%|█▏        | 2/17 [00:00<00:00, 15.15it/s]"
     ]
    },
    {
     "name": "stdout",
     "output_type": "stream",
     "text": [
      "epoch 25 / 50: train loss 0.397 val loss 0.649 RMSE 134.476\n"
     ]
    },
    {
     "name": "stderr",
     "output_type": "stream",
     "text": [
      "batch 17 / 17, loss 0.416: 100%|██████████| 17/17 [00:01<00:00, 14.10it/s]\n",
      "batch 3 / 17, loss 0.334:  12%|█▏        | 2/17 [00:00<00:00, 15.28it/s]"
     ]
    },
    {
     "name": "stdout",
     "output_type": "stream",
     "text": [
      "epoch 26 / 50: train loss 0.410 val loss 0.608 RMSE 128.912\n"
     ]
    },
    {
     "name": "stderr",
     "output_type": "stream",
     "text": [
      "batch 17 / 17, loss 0.437: 100%|██████████| 17/17 [00:01<00:00, 14.91it/s]\n",
      "batch 3 / 17, loss 0.427:  12%|█▏        | 2/17 [00:00<00:00, 16.51it/s]"
     ]
    },
    {
     "name": "stdout",
     "output_type": "stream",
     "text": [
      "epoch 27 / 50: train loss 0.387 val loss 0.638 RMSE 132.981\n"
     ]
    },
    {
     "name": "stderr",
     "output_type": "stream",
     "text": [
      "batch 17 / 17, loss 0.474: 100%|██████████| 17/17 [00:01<00:00, 14.97it/s]\n",
      "batch 3 / 17, loss 0.316:  12%|█▏        | 2/17 [00:00<00:00, 15.46it/s]"
     ]
    },
    {
     "name": "stdout",
     "output_type": "stream",
     "text": [
      "epoch 28 / 50: train loss 0.371 val loss 0.609 RMSE 129.418\n"
     ]
    },
    {
     "name": "stderr",
     "output_type": "stream",
     "text": [
      "batch 17 / 17, loss 0.444: 100%|██████████| 17/17 [00:01<00:00, 15.11it/s]\n",
      "batch 3 / 17, loss 0.318:  12%|█▏        | 2/17 [00:00<00:00, 15.50it/s]"
     ]
    },
    {
     "name": "stdout",
     "output_type": "stream",
     "text": [
      "epoch 29 / 50: train loss 0.352 val loss 0.603 RMSE 127.669\n"
     ]
    },
    {
     "name": "stderr",
     "output_type": "stream",
     "text": [
      "batch 17 / 17, loss 0.402: 100%|██████████| 17/17 [00:00<00:00, 17.63it/s]\n",
      "batch 3 / 17, loss 0.285:  12%|█▏        | 2/17 [00:00<00:00, 18.08it/s]"
     ]
    },
    {
     "name": "stdout",
     "output_type": "stream",
     "text": [
      "epoch 30 / 50: train loss 0.363 val loss 0.580 RMSE 124.874\n"
     ]
    },
    {
     "name": "stderr",
     "output_type": "stream",
     "text": [
      "batch 17 / 17, loss 0.331: 100%|██████████| 17/17 [00:00<00:00, 17.10it/s]\n",
      "batch 3 / 17, loss 0.286:  12%|█▏        | 2/17 [00:00<00:01, 14.90it/s]"
     ]
    },
    {
     "name": "stdout",
     "output_type": "stream",
     "text": [
      "epoch 31 / 50: train loss 0.349 val loss 0.568 RMSE 122.965\n"
     ]
    },
    {
     "name": "stderr",
     "output_type": "stream",
     "text": [
      "batch 17 / 17, loss 0.359: 100%|██████████| 17/17 [00:01<00:00, 10.47it/s]\n",
      "batch 1 / 17, loss 0.484:   6%|▌         | 1/17 [00:00<00:01,  8.30it/s]"
     ]
    },
    {
     "name": "stdout",
     "output_type": "stream",
     "text": [
      "epoch 32 / 50: train loss 0.334 val loss 0.561 RMSE 121.764\n"
     ]
    },
    {
     "name": "stderr",
     "output_type": "stream",
     "text": [
      "batch 17 / 17, loss 0.277: 100%|██████████| 17/17 [00:01<00:00,  9.80it/s]\n",
      "batch 3 / 17, loss 0.271:  12%|█▏        | 2/17 [00:00<00:00, 15.18it/s]"
     ]
    },
    {
     "name": "stdout",
     "output_type": "stream",
     "text": [
      "epoch 33 / 50: train loss 0.335 val loss 0.548 RMSE 119.421\n"
     ]
    },
    {
     "name": "stderr",
     "output_type": "stream",
     "text": [
      "batch 17 / 17, loss 0.588: 100%|██████████| 17/17 [00:01<00:00,  8.92it/s]\n",
      "batch 2 / 17, loss 0.287:  12%|█▏        | 2/17 [00:00<00:01, 11.92it/s]"
     ]
    },
    {
     "name": "stdout",
     "output_type": "stream",
     "text": [
      "epoch 34 / 50: train loss 0.321 val loss 0.543 RMSE 118.831\n"
     ]
    },
    {
     "name": "stderr",
     "output_type": "stream",
     "text": [
      "batch 17 / 17, loss 0.314: 100%|██████████| 17/17 [00:01<00:00, 14.09it/s]\n",
      "batch 2 / 17, loss 0.255:  12%|█▏        | 2/17 [00:00<00:01, 14.12it/s]"
     ]
    },
    {
     "name": "stdout",
     "output_type": "stream",
     "text": [
      "epoch 35 / 50: train loss 0.317 val loss 0.530 RMSE 117.425\n"
     ]
    },
    {
     "name": "stderr",
     "output_type": "stream",
     "text": [
      "batch 17 / 17, loss 0.414: 100%|██████████| 17/17 [00:01<00:00, 11.10it/s]\n",
      "batch 2 / 17, loss 0.333:   6%|▌         | 1/17 [00:00<00:01,  9.17it/s]"
     ]
    },
    {
     "name": "stdout",
     "output_type": "stream",
     "text": [
      "epoch 36 / 50: train loss 0.312 val loss 0.533 RMSE 117.512\n"
     ]
    },
    {
     "name": "stderr",
     "output_type": "stream",
     "text": [
      "batch 17 / 17, loss 0.231: 100%|██████████| 17/17 [00:02<00:00,  8.33it/s]\n",
      "batch 2 / 17, loss 0.310:  12%|█▏        | 2/17 [00:00<00:01, 12.29it/s]"
     ]
    },
    {
     "name": "stdout",
     "output_type": "stream",
     "text": [
      "epoch 37 / 50: train loss 0.297 val loss 0.528 RMSE 116.578\n"
     ]
    },
    {
     "name": "stderr",
     "output_type": "stream",
     "text": [
      "batch 17 / 17, loss 0.318: 100%|██████████| 17/17 [00:01<00:00, 13.90it/s]\n",
      "batch 2 / 17, loss 0.246:  12%|█▏        | 2/17 [00:00<00:01, 10.98it/s]"
     ]
    },
    {
     "name": "stdout",
     "output_type": "stream",
     "text": [
      "epoch 38 / 50: train loss 0.306 val loss 0.524 RMSE 115.885\n"
     ]
    },
    {
     "name": "stderr",
     "output_type": "stream",
     "text": [
      "batch 17 / 17, loss 0.269: 100%|██████████| 17/17 [00:01<00:00, 11.44it/s]\n",
      "batch 3 / 17, loss 0.239:  12%|█▏        | 2/17 [00:00<00:00, 18.12it/s]"
     ]
    },
    {
     "name": "stdout",
     "output_type": "stream",
     "text": [
      "epoch 39 / 50: train loss 0.285 val loss 0.518 RMSE 114.779\n"
     ]
    },
    {
     "name": "stderr",
     "output_type": "stream",
     "text": [
      "batch 17 / 17, loss 0.236: 100%|██████████| 17/17 [00:01<00:00, 16.27it/s]\n",
      "  0%|          | 0/17 [00:00<?, ?it/s]"
     ]
    },
    {
     "name": "stdout",
     "output_type": "stream",
     "text": [
      "epoch 40 / 50: train loss 0.280 val loss 0.514 RMSE 113.881\n"
     ]
    },
    {
     "name": "stderr",
     "output_type": "stream",
     "text": [
      "batch 17 / 17, loss 0.267: 100%|██████████| 17/17 [00:01<00:00,  9.52it/s]\n",
      "batch 1 / 17, loss 0.356:   6%|▌         | 1/17 [00:00<00:01,  9.95it/s]"
     ]
    },
    {
     "name": "stdout",
     "output_type": "stream",
     "text": [
      "epoch 41 / 50: train loss 0.289 val loss 0.510 RMSE 113.712\n"
     ]
    },
    {
     "name": "stderr",
     "output_type": "stream",
     "text": [
      "batch 17 / 17, loss 0.280: 100%|██████████| 17/17 [00:01<00:00, 10.79it/s]\n",
      "batch 2 / 17, loss 0.276:  12%|█▏        | 2/17 [00:00<00:01, 12.59it/s]"
     ]
    },
    {
     "name": "stdout",
     "output_type": "stream",
     "text": [
      "epoch 42 / 50: train loss 0.274 val loss 0.506 RMSE 112.996\n"
     ]
    },
    {
     "name": "stderr",
     "output_type": "stream",
     "text": [
      "batch 17 / 17, loss 0.261: 100%|██████████| 17/17 [00:01<00:00,  9.89it/s]\n",
      "batch 2 / 17, loss 0.235:  12%|█▏        | 2/17 [00:00<00:01, 13.65it/s]"
     ]
    },
    {
     "name": "stdout",
     "output_type": "stream",
     "text": [
      "epoch 43 / 50: train loss 0.274 val loss 0.503 RMSE 112.540\n"
     ]
    },
    {
     "name": "stderr",
     "output_type": "stream",
     "text": [
      "batch 17 / 17, loss 0.248: 100%|██████████| 17/17 [00:01<00:00, 11.55it/s]\n",
      "batch 2 / 17, loss 0.254:  12%|█▏        | 2/17 [00:00<00:01, 10.72it/s]"
     ]
    },
    {
     "name": "stdout",
     "output_type": "stream",
     "text": [
      "epoch 44 / 50: train loss 0.280 val loss 0.500 RMSE 111.965\n"
     ]
    },
    {
     "name": "stderr",
     "output_type": "stream",
     "text": [
      "batch 17 / 17, loss 0.282: 100%|██████████| 17/17 [00:02<00:00,  8.10it/s]\n",
      "batch 3 / 17, loss 0.252:  12%|█▏        | 2/17 [00:00<00:00, 18.82it/s]"
     ]
    },
    {
     "name": "stdout",
     "output_type": "stream",
     "text": [
      "epoch 45 / 50: train loss 0.281 val loss 0.496 RMSE 111.318\n"
     ]
    },
    {
     "name": "stderr",
     "output_type": "stream",
     "text": [
      "batch 17 / 17, loss 0.303: 100%|██████████| 17/17 [00:00<00:00, 17.66it/s]\n",
      "batch 1 / 17, loss 0.276:   0%|          | 0/17 [00:00<?, ?it/s]"
     ]
    },
    {
     "name": "stdout",
     "output_type": "stream",
     "text": [
      "epoch 46 / 50: train loss 0.266 val loss 0.495 RMSE 111.210\n"
     ]
    },
    {
     "name": "stderr",
     "output_type": "stream",
     "text": [
      "batch 17 / 17, loss 0.258: 100%|██████████| 17/17 [00:01<00:00,  9.48it/s]\n",
      "batch 2 / 17, loss 0.225:  12%|█▏        | 2/17 [00:00<00:01, 10.65it/s]"
     ]
    },
    {
     "name": "stdout",
     "output_type": "stream",
     "text": [
      "epoch 47 / 50: train loss 0.268 val loss 0.493 RMSE 110.974\n"
     ]
    },
    {
     "name": "stderr",
     "output_type": "stream",
     "text": [
      "batch 17 / 17, loss 0.257: 100%|██████████| 17/17 [00:01<00:00, 11.67it/s]\n",
      "batch 2 / 17, loss 0.260:   6%|▌         | 1/17 [00:00<00:01,  9.77it/s]"
     ]
    },
    {
     "name": "stdout",
     "output_type": "stream",
     "text": [
      "epoch 48 / 50: train loss 0.269 val loss 0.492 RMSE 110.827\n"
     ]
    },
    {
     "name": "stderr",
     "output_type": "stream",
     "text": [
      "batch 17 / 17, loss 0.222: 100%|██████████| 17/17 [00:01<00:00, 11.17it/s]\n",
      "batch 2 / 17, loss 0.230:  12%|█▏        | 2/17 [00:00<00:01, 14.89it/s]"
     ]
    },
    {
     "name": "stdout",
     "output_type": "stream",
     "text": [
      "epoch 49 / 50: train loss 0.269 val loss 0.491 RMSE 110.662\n"
     ]
    },
    {
     "name": "stderr",
     "output_type": "stream",
     "text": [
      "batch 17 / 17, loss 0.250: 100%|██████████| 17/17 [00:01<00:00, 14.12it/s]\n"
     ]
    },
    {
     "name": "stdout",
     "output_type": "stream",
     "text": [
      "epoch 50 / 50: train loss 0.259 val loss 0.491 RMSE 110.530\n",
      "best model save in /home/zhouzr/project/Deep-Time-Series-Prediction/notebooks/logs/Seq2Seq_epoch_49_0.491.pkl\n"
     ]
    }
   ],
   "source": [
    "hp = {\n",
    "        'path': Path('.').resolve() / 'logs',\n",
    "        'target_size': 20,\n",
    "        'rnn_type': 'LSTM',\n",
    "        'dropout': 0.1,\n",
    "        'hidden_size': 128,\n",
    "        'teacher_forcing_rate': 0.5,\n",
    "        'n_head': 4,\n",
    "        'use_attn': False,\n",
    "        'trans_hidden_size': 4,\n",
    "        'trans_continuous_var': None,\n",
    "        'trans_category_var': [(13, 2)],\n",
    "        'trans_bidirectional': True,\n",
    "        'trans_rnn_type': 'LSTM',\n",
    "        'use_move_scale': True,\n",
    "    }\n",
    "\n",
    "compile_params = {\n",
    "    'loss_fn': 'MSELoss',\n",
    "    'optimizer': 'Adam',\n",
    "    'lr': 0.001,\n",
    "    'lr_scheduler': 'CosineAnnealingWarmRestarts',\n",
    "    'lr_scheduler_kw': {'T_0': 5, 'T_mult': 10},\n",
    "    'metric': 'RMSE',\n",
    "}\n",
    "\n",
    "model = Seq2Seq(hp)\n",
    "model.compile(**compile_params)\n",
    "model.fit(epochs, trn_ld, val_ld, early_stopping=10, save_every_n_epochs=None, save_best_model=True)"
   ]
  },
  {
   "cell_type": "code",
   "execution_count": 16,
   "metadata": {},
   "outputs": [
    {
     "name": "stdout",
     "output_type": "stream",
     "text": [
      " -  -  -  -  -  -  -  -  -  -  -  -  -  -  -  -  -  -  -  - \n",
      "train loss: 0.279, valid loss: 0.491, test loss :0.571, test RMSE :120.767, \n"
     ]
    }
   ],
   "source": [
    "model.reload(model.best_model_path())\n",
    "print(' - ' * 20)\n",
    "print(f'train loss: {model.eval_cycle(trn_ld)[0]:.3f}, '\n",
    "      f'valid loss: {model.eval_cycle(val_ld)[0]:.3f}, '\n",
    "      f'test loss :{model.eval_cycle(test_ld)[0]:.3f}, '\n",
    "      f'test RMSE :{model.eval_cycle(test_ld)[1]:.3f}, ')\n",
    "shutil.rmtree(hp['path'])"
   ]
  },
  {
   "cell_type": "markdown",
   "metadata": {},
   "source": [
    "## 3. Seq2Seq(Attention 1)"
   ]
  },
  {
   "cell_type": "code",
   "execution_count": 17,
   "metadata": {
    "scrolled": false
   },
   "outputs": [
    {
     "name": "stderr",
     "output_type": "stream",
     "text": [
      "batch 17 / 17, loss 0.865: 100%|██████████| 17/17 [00:01<00:00, 10.22it/s]\n",
      "batch 2 / 17, loss 0.941:  12%|█▏        | 2/17 [00:00<00:01, 11.06it/s]"
     ]
    },
    {
     "name": "stdout",
     "output_type": "stream",
     "text": [
      "epoch 1 / 50: train loss 1.039 val loss 1.118 RMSE 176.279\n",
      "create model path: /home/zhouzr/project/Deep-Time-Series-Prediction/notebooks/logs\n"
     ]
    },
    {
     "name": "stderr",
     "output_type": "stream",
     "text": [
      "batch 17 / 17, loss 0.694: 100%|██████████| 17/17 [00:01<00:00, 11.77it/s]\n",
      "batch 3 / 17, loss 0.796:  12%|█▏        | 2/17 [00:00<00:00, 16.08it/s]"
     ]
    },
    {
     "name": "stdout",
     "output_type": "stream",
     "text": [
      "epoch 2 / 50: train loss 0.857 val loss 1.011 RMSE 169.507\n"
     ]
    },
    {
     "name": "stderr",
     "output_type": "stream",
     "text": [
      "batch 17 / 17, loss 0.936: 100%|██████████| 17/17 [00:01<00:00, 15.41it/s]\n",
      "batch 3 / 17, loss 0.739:  12%|█▏        | 2/17 [00:00<00:00, 15.88it/s]"
     ]
    },
    {
     "name": "stdout",
     "output_type": "stream",
     "text": [
      "epoch 3 / 50: train loss 0.823 val loss 0.936 RMSE 164.690\n"
     ]
    },
    {
     "name": "stderr",
     "output_type": "stream",
     "text": [
      "batch 17 / 17, loss 0.705: 100%|██████████| 17/17 [00:01<00:00,  9.77it/s]\n",
      "batch 3 / 17, loss 0.671:  12%|█▏        | 2/17 [00:00<00:00, 15.78it/s]"
     ]
    },
    {
     "name": "stdout",
     "output_type": "stream",
     "text": [
      "epoch 4 / 50: train loss 0.779 val loss 0.906 RMSE 161.911\n"
     ]
    },
    {
     "name": "stderr",
     "output_type": "stream",
     "text": [
      "batch 17 / 17, loss 0.806: 100%|██████████| 17/17 [00:01<00:00, 14.27it/s]\n",
      "batch 1 / 17, loss 0.761:   6%|▌         | 1/17 [00:00<00:01,  8.21it/s]"
     ]
    },
    {
     "name": "stdout",
     "output_type": "stream",
     "text": [
      "epoch 5 / 50: train loss 0.774 val loss 0.905 RMSE 161.654\n"
     ]
    },
    {
     "name": "stderr",
     "output_type": "stream",
     "text": [
      "batch 17 / 17, loss 0.646: 100%|██████████| 17/17 [00:01<00:00, 13.00it/s]\n",
      "batch 3 / 17, loss 0.648:  12%|█▏        | 2/17 [00:00<00:00, 18.52it/s]"
     ]
    },
    {
     "name": "stdout",
     "output_type": "stream",
     "text": [
      "epoch 6 / 50: train loss 0.730 val loss 0.861 RMSE 156.183\n"
     ]
    },
    {
     "name": "stderr",
     "output_type": "stream",
     "text": [
      "batch 17 / 17, loss 0.633: 100%|██████████| 17/17 [00:01<00:00, 16.73it/s]\n",
      "batch 3 / 17, loss 0.604:  12%|█▏        | 2/17 [00:00<00:00, 16.66it/s]"
     ]
    },
    {
     "name": "stdout",
     "output_type": "stream",
     "text": [
      "epoch 7 / 50: train loss 0.678 val loss 0.857 RMSE 155.877\n"
     ]
    },
    {
     "name": "stderr",
     "output_type": "stream",
     "text": [
      "batch 17 / 17, loss 0.666: 100%|██████████| 17/17 [00:01<00:00, 13.45it/s]\n",
      "batch 2 / 17, loss 0.659:  12%|█▏        | 2/17 [00:00<00:01, 12.16it/s]"
     ]
    },
    {
     "name": "stdout",
     "output_type": "stream",
     "text": [
      "epoch 8 / 50: train loss 0.666 val loss 0.816 RMSE 151.545\n"
     ]
    },
    {
     "name": "stderr",
     "output_type": "stream",
     "text": [
      "batch 17 / 17, loss 0.587: 100%|██████████| 17/17 [00:01<00:00, 12.45it/s]\n",
      "batch 3 / 17, loss 0.667:  12%|█▏        | 2/17 [00:00<00:00, 17.31it/s]"
     ]
    },
    {
     "name": "stdout",
     "output_type": "stream",
     "text": [
      "epoch 9 / 50: train loss 0.633 val loss 0.787 RMSE 150.788\n"
     ]
    },
    {
     "name": "stderr",
     "output_type": "stream",
     "text": [
      "batch 17 / 17, loss 0.591: 100%|██████████| 17/17 [00:01<00:00, 11.63it/s]\n",
      "batch 2 / 17, loss 0.659:  12%|█▏        | 2/17 [00:00<00:01, 10.91it/s]"
     ]
    },
    {
     "name": "stdout",
     "output_type": "stream",
     "text": [
      "epoch 10 / 50: train loss 0.650 val loss 0.917 RMSE 161.762\n"
     ]
    },
    {
     "name": "stderr",
     "output_type": "stream",
     "text": [
      "batch 17 / 17, loss 0.716: 100%|██████████| 17/17 [00:01<00:00, 10.44it/s]\n",
      "batch 2 / 17, loss 0.757:  12%|█▏        | 2/17 [00:00<00:01, 13.53it/s]"
     ]
    },
    {
     "name": "stdout",
     "output_type": "stream",
     "text": [
      "epoch 11 / 50: train loss 0.650 val loss 0.769 RMSE 146.646\n"
     ]
    },
    {
     "name": "stderr",
     "output_type": "stream",
     "text": [
      "batch 17 / 17, loss 0.580: 100%|██████████| 17/17 [00:01<00:00, 13.50it/s]\n",
      "batch 2 / 17, loss 0.591:  12%|█▏        | 2/17 [00:00<00:01, 14.31it/s]"
     ]
    },
    {
     "name": "stdout",
     "output_type": "stream",
     "text": [
      "epoch 12 / 50: train loss 0.603 val loss 0.742 RMSE 144.805\n"
     ]
    },
    {
     "name": "stderr",
     "output_type": "stream",
     "text": [
      "batch 17 / 17, loss 0.464: 100%|██████████| 17/17 [00:01<00:00, 15.55it/s]\n",
      "batch 2 / 17, loss 0.509:  12%|█▏        | 2/17 [00:00<00:01, 13.05it/s]"
     ]
    },
    {
     "name": "stdout",
     "output_type": "stream",
     "text": [
      "epoch 13 / 50: train loss 0.534 val loss 0.727 RMSE 142.652\n"
     ]
    },
    {
     "name": "stderr",
     "output_type": "stream",
     "text": [
      "batch 17 / 17, loss 0.458: 100%|██████████| 17/17 [00:01<00:00,  9.00it/s]\n",
      "batch 2 / 17, loss 0.579:  12%|█▏        | 2/17 [00:00<00:01, 12.30it/s]"
     ]
    },
    {
     "name": "stdout",
     "output_type": "stream",
     "text": [
      "epoch 14 / 50: train loss 0.499 val loss 0.712 RMSE 141.804\n"
     ]
    },
    {
     "name": "stderr",
     "output_type": "stream",
     "text": [
      "batch 17 / 17, loss 0.543: 100%|██████████| 17/17 [00:01<00:00, 10.28it/s]\n",
      "batch 1 / 17, loss 0.438:   6%|▌         | 1/17 [00:00<00:01,  9.39it/s]"
     ]
    },
    {
     "name": "stdout",
     "output_type": "stream",
     "text": [
      "epoch 15 / 50: train loss 0.512 val loss 0.700 RMSE 141.208\n"
     ]
    },
    {
     "name": "stderr",
     "output_type": "stream",
     "text": [
      "batch 17 / 17, loss 0.419: 100%|██████████| 17/17 [00:01<00:00, 11.77it/s]\n",
      "batch 2 / 17, loss 0.422:  12%|█▏        | 2/17 [00:00<00:00, 15.93it/s]"
     ]
    },
    {
     "name": "stdout",
     "output_type": "stream",
     "text": [
      "epoch 16 / 50: train loss 0.468 val loss 0.728 RMSE 145.088\n"
     ]
    },
    {
     "name": "stderr",
     "output_type": "stream",
     "text": [
      "batch 17 / 17, loss 0.521: 100%|██████████| 17/17 [00:01<00:00, 10.52it/s]\n",
      "batch 1 / 17, loss 0.479:   6%|▌         | 1/17 [00:00<00:01,  9.10it/s]"
     ]
    },
    {
     "name": "stdout",
     "output_type": "stream",
     "text": [
      "epoch 17 / 50: train loss 0.493 val loss 0.681 RMSE 136.624\n"
     ]
    },
    {
     "name": "stderr",
     "output_type": "stream",
     "text": [
      "batch 17 / 17, loss 0.435: 100%|██████████| 17/17 [00:01<00:00, 10.60it/s]\n",
      "batch 2 / 17, loss 0.442:  12%|█▏        | 2/17 [00:00<00:01, 14.08it/s]"
     ]
    },
    {
     "name": "stdout",
     "output_type": "stream",
     "text": [
      "epoch 18 / 50: train loss 0.453 val loss 0.660 RMSE 135.015\n"
     ]
    },
    {
     "name": "stderr",
     "output_type": "stream",
     "text": [
      "batch 17 / 17, loss 0.495: 100%|██████████| 17/17 [00:01<00:00, 13.35it/s]\n",
      "batch 2 / 17, loss 0.356:  12%|█▏        | 2/17 [00:00<00:00, 16.33it/s]"
     ]
    },
    {
     "name": "stdout",
     "output_type": "stream",
     "text": [
      "epoch 19 / 50: train loss 0.446 val loss 0.665 RMSE 135.816\n"
     ]
    },
    {
     "name": "stderr",
     "output_type": "stream",
     "text": [
      "batch 17 / 17, loss 0.402: 100%|██████████| 17/17 [00:01<00:00, 12.93it/s]\n",
      "batch 2 / 17, loss 0.487:  12%|█▏        | 2/17 [00:00<00:01, 12.48it/s]"
     ]
    },
    {
     "name": "stdout",
     "output_type": "stream",
     "text": [
      "epoch 20 / 50: train loss 0.415 val loss 0.639 RMSE 133.157\n"
     ]
    },
    {
     "name": "stderr",
     "output_type": "stream",
     "text": [
      "batch 17 / 17, loss 0.333: 100%|██████████| 17/17 [00:01<00:00, 10.81it/s]\n",
      "batch 2 / 17, loss 0.425:  12%|█▏        | 2/17 [00:00<00:01, 11.44it/s]"
     ]
    },
    {
     "name": "stdout",
     "output_type": "stream",
     "text": [
      "epoch 21 / 50: train loss 0.416 val loss 0.622 RMSE 130.919\n"
     ]
    },
    {
     "name": "stderr",
     "output_type": "stream",
     "text": [
      "batch 17 / 17, loss 0.394: 100%|██████████| 17/17 [00:01<00:00, 13.19it/s]\n",
      "batch 2 / 17, loss 0.297:  12%|█▏        | 2/17 [00:00<00:01, 13.47it/s]"
     ]
    },
    {
     "name": "stdout",
     "output_type": "stream",
     "text": [
      "epoch 22 / 50: train loss 0.375 val loss 0.688 RMSE 141.499\n"
     ]
    },
    {
     "name": "stderr",
     "output_type": "stream",
     "text": [
      "batch 17 / 17, loss 0.342: 100%|██████████| 17/17 [00:01<00:00,  9.74it/s]\n",
      "batch 3 / 17, loss 0.331:  12%|█▏        | 2/17 [00:00<00:00, 15.47it/s]"
     ]
    },
    {
     "name": "stdout",
     "output_type": "stream",
     "text": [
      "epoch 23 / 50: train loss 0.406 val loss 0.705 RMSE 141.517\n"
     ]
    },
    {
     "name": "stderr",
     "output_type": "stream",
     "text": [
      "batch 17 / 17, loss 0.344: 100%|██████████| 17/17 [00:01<00:00, 11.88it/s]\n",
      "batch 1 / 17, loss 0.415:   6%|▌         | 1/17 [00:00<00:01,  8.56it/s]"
     ]
    },
    {
     "name": "stdout",
     "output_type": "stream",
     "text": [
      "epoch 24 / 50: train loss 0.405 val loss 0.663 RMSE 137.677\n"
     ]
    },
    {
     "name": "stderr",
     "output_type": "stream",
     "text": [
      "batch 17 / 17, loss 0.366: 100%|██████████| 17/17 [00:01<00:00,  9.80it/s]\n",
      "batch 1 / 17, loss 0.360:   6%|▌         | 1/17 [00:00<00:02,  7.20it/s]"
     ]
    },
    {
     "name": "stdout",
     "output_type": "stream",
     "text": [
      "epoch 25 / 50: train loss 0.362 val loss 0.576 RMSE 123.891\n"
     ]
    },
    {
     "name": "stderr",
     "output_type": "stream",
     "text": [
      "batch 17 / 17, loss 0.336: 100%|██████████| 17/17 [00:01<00:00, 12.07it/s]\n",
      "batch 2 / 17, loss 0.421:  12%|█▏        | 2/17 [00:00<00:01, 13.62it/s]"
     ]
    },
    {
     "name": "stdout",
     "output_type": "stream",
     "text": [
      "epoch 26 / 50: train loss 0.352 val loss 0.573 RMSE 123.508\n"
     ]
    },
    {
     "name": "stderr",
     "output_type": "stream",
     "text": [
      "batch 17 / 17, loss 0.262: 100%|██████████| 17/17 [00:01<00:00,  9.64it/s]\n",
      "batch 1 / 17, loss 0.280:   0%|          | 0/17 [00:00<?, ?it/s]"
     ]
    },
    {
     "name": "stdout",
     "output_type": "stream",
     "text": [
      "epoch 27 / 50: train loss 0.326 val loss 0.557 RMSE 121.280\n"
     ]
    },
    {
     "name": "stderr",
     "output_type": "stream",
     "text": [
      "batch 17 / 17, loss 0.354: 100%|██████████| 17/17 [00:02<00:00,  8.22it/s]\n",
      "batch 1 / 17, loss 0.309:   0%|          | 0/17 [00:00<?, ?it/s]"
     ]
    },
    {
     "name": "stdout",
     "output_type": "stream",
     "text": [
      "epoch 28 / 50: train loss 0.305 val loss 0.548 RMSE 120.321\n"
     ]
    },
    {
     "name": "stderr",
     "output_type": "stream",
     "text": [
      "batch 17 / 17, loss 0.277: 100%|██████████| 17/17 [00:02<00:00,  8.42it/s]\n",
      "batch 1 / 17, loss 0.363:   6%|▌         | 1/17 [00:00<00:01,  9.49it/s]"
     ]
    },
    {
     "name": "stdout",
     "output_type": "stream",
     "text": [
      "epoch 29 / 50: train loss 0.322 val loss 0.535 RMSE 118.693\n"
     ]
    },
    {
     "name": "stderr",
     "output_type": "stream",
     "text": [
      "batch 17 / 17, loss 0.318: 100%|██████████| 17/17 [00:01<00:00, 11.24it/s]\n",
      "batch 1 / 17, loss 0.276:   6%|▌         | 1/17 [00:00<00:02,  6.13it/s]"
     ]
    },
    {
     "name": "stdout",
     "output_type": "stream",
     "text": [
      "epoch 30 / 50: train loss 0.312 val loss 0.517 RMSE 116.337\n"
     ]
    },
    {
     "name": "stderr",
     "output_type": "stream",
     "text": [
      "batch 17 / 17, loss 0.221: 100%|██████████| 17/17 [00:02<00:00,  7.97it/s]\n",
      "batch 1 / 17, loss 0.239:   6%|▌         | 1/17 [00:00<00:01,  9.66it/s]"
     ]
    },
    {
     "name": "stdout",
     "output_type": "stream",
     "text": [
      "epoch 31 / 50: train loss 0.284 val loss 0.513 RMSE 114.919\n"
     ]
    },
    {
     "name": "stderr",
     "output_type": "stream",
     "text": [
      "batch 17 / 17, loss 0.270: 100%|██████████| 17/17 [00:01<00:00,  9.91it/s]\n",
      "batch 1 / 17, loss 0.314:   6%|▌         | 1/17 [00:00<00:01,  9.66it/s]"
     ]
    },
    {
     "name": "stdout",
     "output_type": "stream",
     "text": [
      "epoch 32 / 50: train loss 0.287 val loss 0.508 RMSE 114.648\n"
     ]
    },
    {
     "name": "stderr",
     "output_type": "stream",
     "text": [
      "batch 17 / 17, loss 0.251: 100%|██████████| 17/17 [00:01<00:00, 10.37it/s]\n",
      "batch 2 / 17, loss 0.234:   6%|▌         | 1/17 [00:00<00:01,  9.42it/s]"
     ]
    },
    {
     "name": "stdout",
     "output_type": "stream",
     "text": [
      "epoch 33 / 50: train loss 0.292 val loss 0.498 RMSE 112.714\n"
     ]
    },
    {
     "name": "stderr",
     "output_type": "stream",
     "text": [
      "batch 17 / 17, loss 0.280: 100%|██████████| 17/17 [00:01<00:00, 10.96it/s]\n",
      "batch 3 / 17, loss 0.328:  12%|█▏        | 2/17 [00:00<00:01, 14.67it/s]"
     ]
    },
    {
     "name": "stdout",
     "output_type": "stream",
     "text": [
      "epoch 34 / 50: train loss 0.273 val loss 0.504 RMSE 112.996\n"
     ]
    },
    {
     "name": "stderr",
     "output_type": "stream",
     "text": [
      "batch 17 / 17, loss 0.233: 100%|██████████| 17/17 [00:01<00:00, 11.45it/s]\n",
      "batch 1 / 17, loss 0.247:   0%|          | 0/17 [00:00<?, ?it/s]"
     ]
    },
    {
     "name": "stdout",
     "output_type": "stream",
     "text": [
      "epoch 35 / 50: train loss 0.256 val loss 0.486 RMSE 110.822\n"
     ]
    },
    {
     "name": "stderr",
     "output_type": "stream",
     "text": [
      "batch 17 / 17, loss 0.288: 100%|██████████| 17/17 [00:01<00:00, 11.67it/s]\n",
      "batch 2 / 17, loss 0.219:  12%|█▏        | 2/17 [00:00<00:01, 13.14it/s]"
     ]
    },
    {
     "name": "stdout",
     "output_type": "stream",
     "text": [
      "epoch 36 / 50: train loss 0.261 val loss 0.476 RMSE 109.462\n"
     ]
    },
    {
     "name": "stderr",
     "output_type": "stream",
     "text": [
      "batch 17 / 17, loss 0.293: 100%|██████████| 17/17 [00:01<00:00, 12.34it/s]\n",
      "batch 2 / 17, loss 0.245:  12%|█▏        | 2/17 [00:00<00:01, 14.00it/s]"
     ]
    },
    {
     "name": "stdout",
     "output_type": "stream",
     "text": [
      "epoch 37 / 50: train loss 0.257 val loss 0.464 RMSE 107.452\n"
     ]
    },
    {
     "name": "stderr",
     "output_type": "stream",
     "text": [
      "batch 17 / 17, loss 0.202: 100%|██████████| 17/17 [00:01<00:00, 13.75it/s]\n",
      "batch 2 / 17, loss 0.309:  12%|█▏        | 2/17 [00:00<00:01, 14.15it/s]"
     ]
    },
    {
     "name": "stdout",
     "output_type": "stream",
     "text": [
      "epoch 38 / 50: train loss 0.242 val loss 0.469 RMSE 107.563\n"
     ]
    },
    {
     "name": "stderr",
     "output_type": "stream",
     "text": [
      "batch 17 / 17, loss 0.214: 100%|██████████| 17/17 [00:01<00:00, 16.28it/s]\n",
      "batch 3 / 17, loss 0.258:  12%|█▏        | 2/17 [00:00<00:00, 17.08it/s]"
     ]
    },
    {
     "name": "stdout",
     "output_type": "stream",
     "text": [
      "epoch 39 / 50: train loss 0.233 val loss 0.457 RMSE 105.940\n"
     ]
    },
    {
     "name": "stderr",
     "output_type": "stream",
     "text": [
      "batch 17 / 17, loss 0.192: 100%|██████████| 17/17 [00:01<00:00, 16.29it/s]\n",
      "batch 2 / 17, loss 0.248:  12%|█▏        | 2/17 [00:00<00:01, 12.14it/s]"
     ]
    },
    {
     "name": "stdout",
     "output_type": "stream",
     "text": [
      "epoch 40 / 50: train loss 0.230 val loss 0.455 RMSE 105.534\n"
     ]
    },
    {
     "name": "stderr",
     "output_type": "stream",
     "text": [
      "batch 17 / 17, loss 0.396: 100%|██████████| 17/17 [00:01<00:00, 12.87it/s]\n",
      "batch 3 / 17, loss 0.204:  12%|█▏        | 2/17 [00:00<00:00, 15.33it/s]"
     ]
    },
    {
     "name": "stdout",
     "output_type": "stream",
     "text": [
      "epoch 41 / 50: train loss 0.240 val loss 0.457 RMSE 105.600\n"
     ]
    },
    {
     "name": "stderr",
     "output_type": "stream",
     "text": [
      "batch 17 / 17, loss 0.324: 100%|██████████| 17/17 [00:01<00:00, 14.25it/s]\n",
      "batch 2 / 17, loss 0.216:  12%|█▏        | 2/17 [00:00<00:01, 13.73it/s]"
     ]
    },
    {
     "name": "stdout",
     "output_type": "stream",
     "text": [
      "epoch 42 / 50: train loss 0.222 val loss 0.442 RMSE 103.724\n"
     ]
    },
    {
     "name": "stderr",
     "output_type": "stream",
     "text": [
      "batch 17 / 17, loss 0.197: 100%|██████████| 17/17 [00:01<00:00, 10.06it/s]\n",
      "batch 3 / 17, loss 0.195:  18%|█▊        | 3/17 [00:00<00:00, 20.28it/s]"
     ]
    },
    {
     "name": "stdout",
     "output_type": "stream",
     "text": [
      "epoch 43 / 50: train loss 0.231 val loss 0.438 RMSE 103.384\n"
     ]
    },
    {
     "name": "stderr",
     "output_type": "stream",
     "text": [
      "batch 17 / 17, loss 0.240: 100%|██████████| 17/17 [00:01<00:00, 16.55it/s]\n",
      "batch 2 / 17, loss 0.248:  12%|█▏        | 2/17 [00:00<00:01, 14.65it/s]"
     ]
    },
    {
     "name": "stdout",
     "output_type": "stream",
     "text": [
      "epoch 44 / 50: train loss 0.223 val loss 0.436 RMSE 102.519\n"
     ]
    },
    {
     "name": "stderr",
     "output_type": "stream",
     "text": [
      "batch 17 / 17, loss 0.214: 100%|██████████| 17/17 [00:01<00:00, 16.48it/s]\n",
      "batch 3 / 17, loss 0.217:  12%|█▏        | 2/17 [00:00<00:00, 17.22it/s]"
     ]
    },
    {
     "name": "stdout",
     "output_type": "stream",
     "text": [
      "epoch 45 / 50: train loss 0.220 val loss 0.432 RMSE 102.122\n"
     ]
    },
    {
     "name": "stderr",
     "output_type": "stream",
     "text": [
      "batch 17 / 17, loss 0.284: 100%|██████████| 17/17 [00:01<00:00, 16.94it/s]\n",
      "batch 3 / 17, loss 0.231:  12%|█▏        | 2/17 [00:00<00:00, 16.51it/s]"
     ]
    },
    {
     "name": "stdout",
     "output_type": "stream",
     "text": [
      "epoch 46 / 50: train loss 0.218 val loss 0.432 RMSE 102.221\n"
     ]
    },
    {
     "name": "stderr",
     "output_type": "stream",
     "text": [
      "batch 17 / 17, loss 0.212: 100%|██████████| 17/17 [00:01<00:00, 16.31it/s]\n",
      "batch 3 / 17, loss 0.191:  12%|█▏        | 2/17 [00:00<00:00, 15.55it/s]"
     ]
    },
    {
     "name": "stdout",
     "output_type": "stream",
     "text": [
      "epoch 47 / 50: train loss 0.213 val loss 0.430 RMSE 101.623\n"
     ]
    },
    {
     "name": "stderr",
     "output_type": "stream",
     "text": [
      "batch 17 / 17, loss 0.191: 100%|██████████| 17/17 [00:01<00:00, 13.10it/s]\n",
      "batch 2 / 17, loss 0.225:  12%|█▏        | 2/17 [00:00<00:01, 13.34it/s]"
     ]
    },
    {
     "name": "stdout",
     "output_type": "stream",
     "text": [
      "epoch 48 / 50: train loss 0.210 val loss 0.431 RMSE 101.745\n"
     ]
    },
    {
     "name": "stderr",
     "output_type": "stream",
     "text": [
      "batch 17 / 17, loss 0.173: 100%|██████████| 17/17 [00:01<00:00, 11.71it/s]\n",
      "batch 2 / 17, loss 0.220:  12%|█▏        | 2/17 [00:00<00:01, 13.41it/s]"
     ]
    },
    {
     "name": "stdout",
     "output_type": "stream",
     "text": [
      "epoch 49 / 50: train loss 0.214 val loss 0.427 RMSE 101.136\n"
     ]
    },
    {
     "name": "stderr",
     "output_type": "stream",
     "text": [
      "batch 17 / 17, loss 0.161: 100%|██████████| 17/17 [00:01<00:00,  9.27it/s]\n"
     ]
    },
    {
     "name": "stdout",
     "output_type": "stream",
     "text": [
      "epoch 50 / 50: train loss 0.212 val loss 0.428 RMSE 101.438\n",
      "best model save in /home/zhouzr/project/Deep-Time-Series-Prediction/notebooks/logs/Seq2Seq_epoch_49_0.427.pkl\n"
     ]
    }
   ],
   "source": [
    "hp = {\n",
    "        'path': Path('.').resolve() / 'logs',\n",
    "        'target_size': 20,\n",
    "        'rnn_type': 'LSTM',\n",
    "        'dropout': 0.1,\n",
    "        'hidden_size': 128,\n",
    "        'teacher_forcing_rate': 0.5,\n",
    "        'n_head': 1,\n",
    "        'use_attn': True,\n",
    "        'trans_hidden_size': 4,\n",
    "        'trans_continuous_var': None,\n",
    "        'trans_category_var': [(13, 2)],\n",
    "        'trans_bidirectional': True,\n",
    "        'trans_rnn_type': 'LSTM',\n",
    "        'use_move_scale': True,\n",
    "    }\n",
    "\n",
    "compile_params = {\n",
    "    'loss_fn': 'MSELoss',\n",
    "    'optimizer': 'Adam',\n",
    "    'lr': 0.001,\n",
    "    'lr_scheduler': 'CosineAnnealingWarmRestarts',\n",
    "    'lr_scheduler_kw': {'T_0': 5, 'T_mult': 10},\n",
    "    'metric': 'RMSE',\n",
    "}\n",
    "\n",
    "model = Seq2Seq(hp)\n",
    "model.compile(**compile_params)\n",
    "model.fit(epochs, trn_ld, val_ld, early_stopping=10, save_every_n_epochs=None, save_best_model=True)"
   ]
  },
  {
   "cell_type": "code",
   "execution_count": 19,
   "metadata": {},
   "outputs": [
    {
     "name": "stdout",
     "output_type": "stream",
     "text": [
      " -  -  -  -  -  -  -  -  -  -  -  -  -  -  -  -  -  -  -  - \n",
      "train loss: 0.222, valid loss: 0.427, test loss :0.532, test RMSE :113.921, \n"
     ]
    }
   ],
   "source": [
    "model.reload(model.best_model_path())\n",
    "print(' - ' * 20)\n",
    "print(f'train loss: {model.eval_cycle(trn_ld)[0]:.3f}, '\n",
    "      f'valid loss: {model.eval_cycle(val_ld)[0]:.3f}, '\n",
    "      f'test loss :{model.eval_cycle(test_ld)[0]:.3f}, '\n",
    "      f'test RMSE :{model.eval_cycle(test_ld)[1]:.3f}, ')\n",
    "shutil.rmtree(hp['path'])"
   ]
  },
  {
   "cell_type": "code",
   "execution_count": 20,
   "metadata": {},
   "outputs": [
    {
     "data": {
      "image/png": "[encoded data removed]",
      "text/plain": [
       "<Figure size 1152x192 with 2 Axes>"
      ]
     },
     "metadata": {
      "needs_background": "light"
     },
     "output_type": "display_data"
    }
   ],
   "source": [
    "pred_idx = 200\n",
    "enc_x = torch.tensor(series[pred_idx - enc_lens: pred_idx]).unsqueeze(0).float()\n",
    "cat_x = torch.tensor(month[pred_idx-enc_lens: pred_idx + dec_lens]).unsqueeze(0).unsqueeze(2).long()\n",
    "y_pred, attns = model.predict(enc_x, dec_lens, category_x=cat_x, use_move_scale=True, return_attns=True)\n",
    "plot_attentions(attns)"
   ]
  },
  {
   "cell_type": "markdown",
   "metadata": {},
   "source": [
    "## 4. Seq2Seq(Attention 4)"
   ]
  },
  {
   "cell_type": "code",
   "execution_count": 21,
   "metadata": {
    "scrolled": false
   },
   "outputs": [
    {
     "name": "stderr",
     "output_type": "stream",
     "text": [
      "batch 17 / 17, loss 1.017: 100%|██████████| 17/17 [00:02<00:00,  7.34it/s]\n",
      "batch 2 / 17, loss 0.731:  12%|█▏        | 2/17 [00:00<00:01, 11.14it/s]"
     ]
    },
    {
     "name": "stdout",
     "output_type": "stream",
     "text": [
      "epoch 1 / 50: train loss 1.055 val loss 1.099 RMSE 174.914\n",
      "create model path: /home/zhouzr/project/Deep-Time-Series-Prediction/notebooks/logs\n"
     ]
    },
    {
     "name": "stderr",
     "output_type": "stream",
     "text": [
      "batch 17 / 17, loss 0.818: 100%|██████████| 17/17 [00:02<00:00,  6.48it/s]\n",
      "batch 1 / 17, loss 0.763:   6%|▌         | 1/17 [00:00<00:02,  6.85it/s]"
     ]
    },
    {
     "name": "stdout",
     "output_type": "stream",
     "text": [
      "epoch 2 / 50: train loss 0.848 val loss 0.971 RMSE 167.287\n"
     ]
    },
    {
     "name": "stderr",
     "output_type": "stream",
     "text": [
      "batch 17 / 17, loss 0.967: 100%|██████████| 17/17 [00:02<00:00,  7.44it/s]\n",
      "batch 3 / 17, loss 0.714:  12%|█▏        | 2/17 [00:00<00:00, 16.07it/s]"
     ]
    },
    {
     "name": "stdout",
     "output_type": "stream",
     "text": [
      "epoch 3 / 50: train loss 0.810 val loss 0.927 RMSE 164.324\n"
     ]
    },
    {
     "name": "stderr",
     "output_type": "stream",
     "text": [
      "batch 17 / 17, loss 0.879: 100%|██████████| 17/17 [00:01<00:00, 11.49it/s]\n",
      "batch 2 / 17, loss 0.759:  12%|█▏        | 2/17 [00:00<00:01, 11.27it/s]"
     ]
    },
    {
     "name": "stdout",
     "output_type": "stream",
     "text": [
      "epoch 4 / 50: train loss 0.766 val loss 0.901 RMSE 161.712\n"
     ]
    },
    {
     "name": "stderr",
     "output_type": "stream",
     "text": [
      "batch 17 / 17, loss 0.844: 100%|██████████| 17/17 [00:01<00:00, 12.94it/s]\n",
      "batch 1 / 17, loss 0.719:   0%|          | 0/17 [00:00<?, ?it/s]"
     ]
    },
    {
     "name": "stdout",
     "output_type": "stream",
     "text": [
      "epoch 5 / 50: train loss 0.757 val loss 0.899 RMSE 161.588\n"
     ]
    },
    {
     "name": "stderr",
     "output_type": "stream",
     "text": [
      "batch 17 / 17, loss 1.327: 100%|██████████| 17/17 [00:01<00:00, 13.49it/s]\n",
      "batch 2 / 17, loss 0.678:  12%|█▏        | 2/17 [00:00<00:01, 14.00it/s]"
     ]
    },
    {
     "name": "stdout",
     "output_type": "stream",
     "text": [
      "epoch 6 / 50: train loss 0.752 val loss 0.901 RMSE 159.958\n"
     ]
    },
    {
     "name": "stderr",
     "output_type": "stream",
     "text": [
      "batch 17 / 17, loss 0.577: 100%|██████████| 17/17 [00:01<00:00, 14.31it/s]\n",
      "batch 2 / 17, loss 0.659:  12%|█▏        | 2/17 [00:00<00:01, 14.61it/s]"
     ]
    },
    {
     "name": "stdout",
     "output_type": "stream",
     "text": [
      "epoch 7 / 50: train loss 0.698 val loss 0.813 RMSE 152.476\n"
     ]
    },
    {
     "name": "stderr",
     "output_type": "stream",
     "text": [
      "batch 17 / 17, loss 0.740: 100%|██████████| 17/17 [00:01<00:00, 12.70it/s]\n",
      "batch 1 / 17, loss 0.665:   6%|▌         | 1/17 [00:00<00:02,  6.66it/s]"
     ]
    },
    {
     "name": "stdout",
     "output_type": "stream",
     "text": [
      "epoch 8 / 50: train loss 0.651 val loss 0.807 RMSE 152.238\n"
     ]
    },
    {
     "name": "stderr",
     "output_type": "stream",
     "text": [
      "batch 17 / 17, loss 0.541: 100%|██████████| 17/17 [00:02<00:00,  7.27it/s]\n",
      "batch 2 / 17, loss 0.603:  12%|█▏        | 2/17 [00:00<00:01, 12.73it/s]"
     ]
    },
    {
     "name": "stdout",
     "output_type": "stream",
     "text": [
      "epoch 9 / 50: train loss 0.611 val loss 0.804 RMSE 151.848\n"
     ]
    },
    {
     "name": "stderr",
     "output_type": "stream",
     "text": [
      "batch 17 / 17, loss 0.590: 100%|██████████| 17/17 [00:02<00:00,  8.15it/s]\n",
      "batch 2 / 17, loss 0.570:  12%|█▏        | 2/17 [00:00<00:01, 11.35it/s]"
     ]
    },
    {
     "name": "stdout",
     "output_type": "stream",
     "text": [
      "epoch 10 / 50: train loss 0.616 val loss 0.783 RMSE 149.992\n"
     ]
    },
    {
     "name": "stderr",
     "output_type": "stream",
     "text": [
      "batch 17 / 17, loss 0.532: 100%|██████████| 17/17 [00:01<00:00, 10.45it/s]\n",
      "batch 1 / 17, loss 0.690:   6%|▌         | 1/17 [00:00<00:01,  9.87it/s]"
     ]
    },
    {
     "name": "stdout",
     "output_type": "stream",
     "text": [
      "epoch 11 / 50: train loss 0.588 val loss 0.765 RMSE 148.142\n"
     ]
    },
    {
     "name": "stderr",
     "output_type": "stream",
     "text": [
      "batch 17 / 17, loss 0.508: 100%|██████████| 17/17 [00:01<00:00,  9.61it/s]\n",
      "batch 1 / 17, loss 0.504:   0%|          | 0/17 [00:00<?, ?it/s]"
     ]
    },
    {
     "name": "stdout",
     "output_type": "stream",
     "text": [
      "epoch 12 / 50: train loss 0.565 val loss 0.816 RMSE 151.477\n"
     ]
    },
    {
     "name": "stderr",
     "output_type": "stream",
     "text": [
      "batch 17 / 17, loss 0.736: 100%|██████████| 17/17 [00:02<00:00,  8.39it/s]\n",
      "batch 1 / 17, loss 0.451:   0%|          | 0/17 [00:00<?, ?it/s]"
     ]
    },
    {
     "name": "stdout",
     "output_type": "stream",
     "text": [
      "epoch 13 / 50: train loss 0.604 val loss 0.851 RMSE 156.867\n"
     ]
    },
    {
     "name": "stderr",
     "output_type": "stream",
     "text": [
      "batch 17 / 17, loss 0.427: 100%|██████████| 17/17 [00:01<00:00,  9.85it/s]\n",
      "batch 1 / 17, loss 0.456:   6%|▌         | 1/17 [00:00<00:01,  9.98it/s]"
     ]
    },
    {
     "name": "stdout",
     "output_type": "stream",
     "text": [
      "epoch 14 / 50: train loss 0.537 val loss 0.725 RMSE 142.606\n"
     ]
    },
    {
     "name": "stderr",
     "output_type": "stream",
     "text": [
      "batch 17 / 17, loss 0.410: 100%|██████████| 17/17 [00:02<00:00,  7.77it/s]\n",
      "batch 1 / 17, loss 0.545:   6%|▌         | 1/17 [00:00<00:01,  9.14it/s]"
     ]
    },
    {
     "name": "stdout",
     "output_type": "stream",
     "text": [
      "epoch 15 / 50: train loss 0.516 val loss 0.736 RMSE 144.502\n"
     ]
    },
    {
     "name": "stderr",
     "output_type": "stream",
     "text": [
      "batch 17 / 17, loss 0.413: 100%|██████████| 17/17 [00:01<00:00,  9.10it/s]\n",
      "batch 1 / 17, loss 0.452:   0%|          | 0/17 [00:00<?, ?it/s]"
     ]
    },
    {
     "name": "stdout",
     "output_type": "stream",
     "text": [
      "epoch 16 / 50: train loss 0.493 val loss 0.747 RMSE 145.285\n"
     ]
    },
    {
     "name": "stderr",
     "output_type": "stream",
     "text": [
      "batch 17 / 17, loss 0.407: 100%|██████████| 17/17 [00:01<00:00,  8.78it/s]\n",
      "batch 2 / 17, loss 0.407:  12%|█▏        | 2/17 [00:00<00:01, 14.93it/s]"
     ]
    },
    {
     "name": "stdout",
     "output_type": "stream",
     "text": [
      "epoch 17 / 50: train loss 0.464 val loss 0.697 RMSE 140.141\n"
     ]
    },
    {
     "name": "stderr",
     "output_type": "stream",
     "text": [
      "batch 17 / 17, loss 0.521: 100%|██████████| 17/17 [00:01<00:00, 10.71it/s]\n",
      "batch 1 / 17, loss 0.456:   0%|          | 0/17 [00:00<?, ?it/s]"
     ]
    },
    {
     "name": "stdout",
     "output_type": "stream",
     "text": [
      "epoch 18 / 50: train loss 0.476 val loss 0.659 RMSE 136.171\n"
     ]
    },
    {
     "name": "stderr",
     "output_type": "stream",
     "text": [
      "batch 17 / 17, loss 0.439: 100%|██████████| 17/17 [00:01<00:00, 10.36it/s]\n",
      "batch 2 / 17, loss 0.361:  12%|█▏        | 2/17 [00:00<00:01, 13.85it/s]"
     ]
    },
    {
     "name": "stdout",
     "output_type": "stream",
     "text": [
      "epoch 19 / 50: train loss 0.452 val loss 0.663 RMSE 136.713\n"
     ]
    },
    {
     "name": "stderr",
     "output_type": "stream",
     "text": [
      "batch 17 / 17, loss 0.418: 100%|██████████| 17/17 [00:01<00:00,  9.60it/s]\n",
      "batch 1 / 17, loss 0.441:   6%|▌         | 1/17 [00:00<00:01,  8.72it/s]"
     ]
    },
    {
     "name": "stdout",
     "output_type": "stream",
     "text": [
      "epoch 20 / 50: train loss 0.420 val loss 0.636 RMSE 134.769\n"
     ]
    },
    {
     "name": "stderr",
     "output_type": "stream",
     "text": [
      "batch 17 / 17, loss 0.291: 100%|██████████| 17/17 [00:01<00:00,  9.11it/s]\n",
      "batch 2 / 17, loss 0.335:  12%|█▏        | 2/17 [00:00<00:01, 12.06it/s]"
     ]
    },
    {
     "name": "stdout",
     "output_type": "stream",
     "text": [
      "epoch 21 / 50: train loss 0.419 val loss 0.630 RMSE 133.451\n"
     ]
    },
    {
     "name": "stderr",
     "output_type": "stream",
     "text": [
      "batch 17 / 17, loss 0.393: 100%|██████████| 17/17 [00:01<00:00,  9.70it/s]\n",
      "batch 1 / 17, loss 0.373:   0%|          | 0/17 [00:00<?, ?it/s]"
     ]
    },
    {
     "name": "stdout",
     "output_type": "stream",
     "text": [
      "epoch 22 / 50: train loss 0.391 val loss 0.602 RMSE 129.517\n"
     ]
    },
    {
     "name": "stderr",
     "output_type": "stream",
     "text": [
      "batch 17 / 17, loss 0.346: 100%|██████████| 17/17 [00:01<00:00, 11.10it/s]\n",
      "batch 1 / 17, loss 0.422:   6%|▌         | 1/17 [00:00<00:01,  9.99it/s]"
     ]
    },
    {
     "name": "stdout",
     "output_type": "stream",
     "text": [
      "epoch 23 / 50: train loss 0.375 val loss 0.596 RMSE 128.097\n"
     ]
    },
    {
     "name": "stderr",
     "output_type": "stream",
     "text": [
      "batch 17 / 17, loss 0.391: 100%|██████████| 17/17 [00:01<00:00,  9.82it/s]\n",
      "batch 2 / 17, loss 0.375:  12%|█▏        | 2/17 [00:00<00:01, 14.33it/s]"
     ]
    },
    {
     "name": "stdout",
     "output_type": "stream",
     "text": [
      "epoch 24 / 50: train loss 0.370 val loss 0.588 RMSE 126.907\n"
     ]
    },
    {
     "name": "stderr",
     "output_type": "stream",
     "text": [
      "batch 17 / 17, loss 0.328: 100%|██████████| 17/17 [00:01<00:00, 15.19it/s]\n",
      "batch 2 / 17, loss 0.318:  12%|█▏        | 2/17 [00:00<00:01, 13.46it/s]"
     ]
    },
    {
     "name": "stdout",
     "output_type": "stream",
     "text": [
      "epoch 25 / 50: train loss 0.348 val loss 0.590 RMSE 126.578\n"
     ]
    },
    {
     "name": "stderr",
     "output_type": "stream",
     "text": [
      "batch 17 / 17, loss 0.354: 100%|██████████| 17/17 [00:01<00:00, 13.35it/s]\n",
      "batch 2 / 17, loss 0.298:  12%|█▏        | 2/17 [00:00<00:00, 16.00it/s]"
     ]
    },
    {
     "name": "stdout",
     "output_type": "stream",
     "text": [
      "epoch 26 / 50: train loss 0.349 val loss 0.552 RMSE 121.573\n"
     ]
    },
    {
     "name": "stderr",
     "output_type": "stream",
     "text": [
      "batch 17 / 17, loss 0.343: 100%|██████████| 17/17 [00:01<00:00, 13.72it/s]\n",
      "batch 2 / 17, loss 0.260:  12%|█▏        | 2/17 [00:00<00:01, 13.31it/s]"
     ]
    },
    {
     "name": "stdout",
     "output_type": "stream",
     "text": [
      "epoch 27 / 50: train loss 0.322 val loss 0.551 RMSE 121.590\n"
     ]
    },
    {
     "name": "stderr",
     "output_type": "stream",
     "text": [
      "batch 17 / 17, loss 0.306: 100%|██████████| 17/17 [00:01<00:00,  9.42it/s]\n",
      "batch 1 / 17, loss 0.333:   0%|          | 0/17 [00:00<?, ?it/s]"
     ]
    },
    {
     "name": "stdout",
     "output_type": "stream",
     "text": [
      "epoch 28 / 50: train loss 0.302 val loss 0.530 RMSE 117.080\n"
     ]
    },
    {
     "name": "stderr",
     "output_type": "stream",
     "text": [
      "batch 17 / 17, loss 0.328: 100%|██████████| 17/17 [00:01<00:00, 10.28it/s]\n",
      "batch 2 / 17, loss 0.454:  12%|█▏        | 2/17 [00:00<00:01, 14.91it/s]"
     ]
    },
    {
     "name": "stdout",
     "output_type": "stream",
     "text": [
      "epoch 29 / 50: train loss 0.296 val loss 0.528 RMSE 116.614\n"
     ]
    },
    {
     "name": "stderr",
     "output_type": "stream",
     "text": [
      "batch 17 / 17, loss 0.238: 100%|██████████| 17/17 [00:01<00:00, 14.93it/s]\n",
      "batch 1 / 17, loss 0.288:   6%|▌         | 1/17 [00:00<00:01,  8.91it/s]"
     ]
    },
    {
     "name": "stdout",
     "output_type": "stream",
     "text": [
      "epoch 30 / 50: train loss 0.273 val loss 0.523 RMSE 117.008\n"
     ]
    },
    {
     "name": "stderr",
     "output_type": "stream",
     "text": [
      "batch 17 / 17, loss 0.309: 100%|██████████| 17/17 [00:01<00:00,  9.20it/s]\n",
      "batch 3 / 17, loss 0.228:  12%|█▏        | 2/17 [00:00<00:00, 16.68it/s]"
     ]
    },
    {
     "name": "stdout",
     "output_type": "stream",
     "text": [
      "epoch 31 / 50: train loss 0.265 val loss 0.502 RMSE 113.239\n"
     ]
    },
    {
     "name": "stderr",
     "output_type": "stream",
     "text": [
      "batch 17 / 17, loss 0.252: 100%|██████████| 17/17 [00:01<00:00, 16.81it/s]\n",
      "batch 3 / 17, loss 0.251:  12%|█▏        | 2/17 [00:00<00:00, 15.18it/s]"
     ]
    },
    {
     "name": "stdout",
     "output_type": "stream",
     "text": [
      "epoch 32 / 50: train loss 0.271 val loss 0.535 RMSE 118.974\n"
     ]
    },
    {
     "name": "stderr",
     "output_type": "stream",
     "text": [
      "batch 17 / 17, loss 0.295: 100%|██████████| 17/17 [00:00<00:00, 17.99it/s]\n",
      "batch 3 / 17, loss 0.222:  12%|█▏        | 2/17 [00:00<00:00, 15.26it/s]"
     ]
    },
    {
     "name": "stdout",
     "output_type": "stream",
     "text": [
      "epoch 33 / 50: train loss 0.261 val loss 0.541 RMSE 118.182\n"
     ]
    },
    {
     "name": "stderr",
     "output_type": "stream",
     "text": [
      "batch 17 / 17, loss 0.289: 100%|██████████| 17/17 [00:01<00:00, 13.47it/s]\n",
      "batch 2 / 17, loss 0.220:  12%|█▏        | 2/17 [00:00<00:01, 13.65it/s]"
     ]
    },
    {
     "name": "stdout",
     "output_type": "stream",
     "text": [
      "epoch 34 / 50: train loss 0.274 val loss 0.485 RMSE 110.154\n"
     ]
    },
    {
     "name": "stderr",
     "output_type": "stream",
     "text": [
      "batch 17 / 17, loss 0.539: 100%|██████████| 17/17 [00:01<00:00, 10.63it/s]\n",
      "batch 2 / 17, loss 0.228:  12%|█▏        | 2/17 [00:00<00:01, 12.72it/s]"
     ]
    },
    {
     "name": "stdout",
     "output_type": "stream",
     "text": [
      "epoch 35 / 50: train loss 0.298 val loss 0.494 RMSE 110.883\n"
     ]
    },
    {
     "name": "stderr",
     "output_type": "stream",
     "text": [
      "batch 17 / 17, loss 0.217: 100%|██████████| 17/17 [00:01<00:00, 13.17it/s]\n",
      "batch 2 / 17, loss 0.245:  12%|█▏        | 2/17 [00:00<00:01, 14.39it/s]"
     ]
    },
    {
     "name": "stdout",
     "output_type": "stream",
     "text": [
      "epoch 36 / 50: train loss 0.254 val loss 0.475 RMSE 108.336\n"
     ]
    },
    {
     "name": "stderr",
     "output_type": "stream",
     "text": [
      "batch 17 / 17, loss 0.226: 100%|██████████| 17/17 [00:01<00:00, 10.88it/s]\n",
      "batch 2 / 17, loss 0.289:  12%|█▏        | 2/17 [00:00<00:01, 13.88it/s]"
     ]
    },
    {
     "name": "stdout",
     "output_type": "stream",
     "text": [
      "epoch 37 / 50: train loss 0.230 val loss 0.460 RMSE 105.878\n"
     ]
    },
    {
     "name": "stderr",
     "output_type": "stream",
     "text": [
      "batch 17 / 17, loss 0.231: 100%|██████████| 17/17 [00:01<00:00,  9.25it/s]\n",
      "batch 2 / 17, loss 0.257:  12%|█▏        | 2/17 [00:00<00:01, 10.64it/s]"
     ]
    },
    {
     "name": "stdout",
     "output_type": "stream",
     "text": [
      "epoch 38 / 50: train loss 0.228 val loss 0.461 RMSE 105.567\n"
     ]
    },
    {
     "name": "stderr",
     "output_type": "stream",
     "text": [
      "batch 17 / 17, loss 0.263: 100%|██████████| 17/17 [00:01<00:00,  9.07it/s]\n",
      "batch 2 / 17, loss 0.269:  12%|█▏        | 2/17 [00:00<00:01, 11.72it/s]"
     ]
    },
    {
     "name": "stdout",
     "output_type": "stream",
     "text": [
      "epoch 39 / 50: train loss 0.230 val loss 0.448 RMSE 103.209\n"
     ]
    },
    {
     "name": "stderr",
     "output_type": "stream",
     "text": [
      "batch 17 / 17, loss 0.170: 100%|██████████| 17/17 [00:01<00:00, 11.30it/s]\n",
      "batch 2 / 17, loss 0.221:  12%|█▏        | 2/17 [00:00<00:01, 12.22it/s]"
     ]
    },
    {
     "name": "stdout",
     "output_type": "stream",
     "text": [
      "epoch 40 / 50: train loss 0.214 val loss 0.441 RMSE 102.488\n"
     ]
    },
    {
     "name": "stderr",
     "output_type": "stream",
     "text": [
      "batch 17 / 17, loss 0.170: 100%|██████████| 17/17 [00:01<00:00,  9.26it/s]\n",
      "batch 2 / 17, loss 0.177:  12%|█▏        | 2/17 [00:00<00:00, 15.79it/s]"
     ]
    },
    {
     "name": "stdout",
     "output_type": "stream",
     "text": [
      "epoch 41 / 50: train loss 0.213 val loss 0.437 RMSE 101.451\n"
     ]
    },
    {
     "name": "stderr",
     "output_type": "stream",
     "text": [
      "batch 17 / 17, loss 0.172: 100%|██████████| 17/17 [00:01<00:00, 10.30it/s]\n",
      "batch 2 / 17, loss 0.190:  12%|█▏        | 2/17 [00:00<00:00, 15.85it/s]"
     ]
    },
    {
     "name": "stdout",
     "output_type": "stream",
     "text": [
      "epoch 42 / 50: train loss 0.204 val loss 0.438 RMSE 100.981\n"
     ]
    },
    {
     "name": "stderr",
     "output_type": "stream",
     "text": [
      "batch 17 / 17, loss 0.145: 100%|██████████| 17/17 [00:01<00:00, 12.21it/s]\n",
      "batch 1 / 17, loss 0.188:   6%|▌         | 1/17 [00:00<00:01,  9.98it/s]"
     ]
    },
    {
     "name": "stdout",
     "output_type": "stream",
     "text": [
      "epoch 43 / 50: train loss 0.206 val loss 0.432 RMSE 100.088\n"
     ]
    },
    {
     "name": "stderr",
     "output_type": "stream",
     "text": [
      "batch 17 / 17, loss 0.184: 100%|██████████| 17/17 [00:02<00:00,  5.72it/s]\n",
      "batch 2 / 17, loss 0.161:  12%|█▏        | 2/17 [00:00<00:01, 14.37it/s]"
     ]
    },
    {
     "name": "stdout",
     "output_type": "stream",
     "text": [
      "epoch 44 / 50: train loss 0.206 val loss 0.430 RMSE 99.942\n"
     ]
    },
    {
     "name": "stderr",
     "output_type": "stream",
     "text": [
      "batch 17 / 17, loss 0.175: 100%|██████████| 17/17 [00:01<00:00, 10.05it/s]\n",
      "batch 2 / 17, loss 0.230:  12%|█▏        | 2/17 [00:00<00:01, 12.30it/s]"
     ]
    },
    {
     "name": "stdout",
     "output_type": "stream",
     "text": [
      "epoch 45 / 50: train loss 0.204 val loss 0.425 RMSE 99.023\n"
     ]
    },
    {
     "name": "stderr",
     "output_type": "stream",
     "text": [
      "batch 17 / 17, loss 0.185: 100%|██████████| 17/17 [00:01<00:00,  9.66it/s]\n",
      "batch 2 / 17, loss 0.179:  12%|█▏        | 2/17 [00:00<00:01, 11.64it/s]"
     ]
    },
    {
     "name": "stdout",
     "output_type": "stream",
     "text": [
      "epoch 46 / 50: train loss 0.192 val loss 0.426 RMSE 98.980\n"
     ]
    },
    {
     "name": "stderr",
     "output_type": "stream",
     "text": [
      "batch 17 / 17, loss 0.189: 100%|██████████| 17/17 [00:01<00:00, 10.64it/s]\n",
      "batch 1 / 17, loss 0.190:   0%|          | 0/17 [00:00<?, ?it/s]"
     ]
    },
    {
     "name": "stdout",
     "output_type": "stream",
     "text": [
      "epoch 47 / 50: train loss 0.197 val loss 0.425 RMSE 98.768\n"
     ]
    },
    {
     "name": "stderr",
     "output_type": "stream",
     "text": [
      "batch 17 / 17, loss 0.128: 100%|██████████| 17/17 [00:02<00:00,  7.92it/s]\n",
      "batch 1 / 17, loss 0.201:   6%|▌         | 1/17 [00:00<00:01,  8.39it/s]"
     ]
    },
    {
     "name": "stdout",
     "output_type": "stream",
     "text": [
      "epoch 48 / 50: train loss 0.189 val loss 0.424 RMSE 98.664\n"
     ]
    },
    {
     "name": "stderr",
     "output_type": "stream",
     "text": [
      "batch 17 / 17, loss 0.203: 100%|██████████| 17/17 [00:01<00:00,  9.99it/s]\n",
      "batch 2 / 17, loss 0.274:  12%|█▏        | 2/17 [00:00<00:01, 14.40it/s]"
     ]
    },
    {
     "name": "stdout",
     "output_type": "stream",
     "text": [
      "epoch 49 / 50: train loss 0.196 val loss 0.422 RMSE 98.367\n"
     ]
    },
    {
     "name": "stderr",
     "output_type": "stream",
     "text": [
      "batch 17 / 17, loss 0.186: 100%|██████████| 17/17 [00:01<00:00,  9.36it/s]\n"
     ]
    },
    {
     "name": "stdout",
     "output_type": "stream",
     "text": [
      "epoch 50 / 50: train loss 0.192 val loss 0.422 RMSE 98.308\n",
      "best model save in /home/zhouzr/project/Deep-Time-Series-Prediction/notebooks/logs/Seq2Seq_epoch_50_0.422.pkl\n"
     ]
    }
   ],
   "source": [
    "hp = {\n",
    "        'path': Path('.').resolve() / 'logs',\n",
    "        'target_size': 20,\n",
    "        'rnn_type': 'LSTM',\n",
    "        'dropout': 0.1,\n",
    "        'hidden_size': 128,\n",
    "        'teacher_forcing_rate': 0.5,\n",
    "        'n_head': 4,\n",
    "        'use_attn': True,\n",
    "        'trans_hidden_size': 4,\n",
    "        'trans_continuous_var': None,\n",
    "        'trans_category_var': [(13, 2)],\n",
    "        'trans_bidirectional': True,\n",
    "        'trans_rnn_type': 'LSTM',\n",
    "        'use_move_scale': True,\n",
    "    }\n",
    "\n",
    "compile_params = {\n",
    "    'loss_fn': 'MSELoss',\n",
    "    'optimizer': 'Adam',\n",
    "    'lr': 0.001,\n",
    "    'lr_scheduler': 'CosineAnnealingWarmRestarts',\n",
    "    'lr_scheduler_kw': {'T_0': 5, 'T_mult': 10},\n",
    "    'metric': 'RMSE',\n",
    "}\n",
    "\n",
    "model = Seq2Seq(hp)\n",
    "model.compile(**compile_params)\n",
    "model.fit(epochs, trn_ld, val_ld, early_stopping=10, save_every_n_epochs=None, save_best_model=True)"
   ]
  },
  {
   "cell_type": "code",
   "execution_count": 22,
   "metadata": {},
   "outputs": [
    {
     "name": "stdout",
     "output_type": "stream",
     "text": [
      " -  -  -  -  -  -  -  -  -  -  -  -  -  -  -  -  -  -  -  - \n",
      "train loss: 0.192, valid loss: 0.422, test loss :0.534, test RMSE :111.768, \n"
     ]
    }
   ],
   "source": [
    "model.reload(model.best_model_path())\n",
    "print(' - ' * 20)\n",
    "print(f'train loss: {model.eval_cycle(trn_ld)[0]:.3f}, '\n",
    "      f'valid loss: {model.eval_cycle(val_ld)[0]:.3f}, '\n",
    "      f'test loss :{model.eval_cycle(test_ld)[0]:.3f}, '\n",
    "      f'test RMSE :{model.eval_cycle(test_ld)[1]:.3f}, ')\n",
    "shutil.rmtree(hp['path'])"
   ]
  },
  {
   "cell_type": "code",
   "execution_count": 23,
   "metadata": {},
   "outputs": [
    {
     "data": {
      "image/png": "[encoded data removed]",
      "text/plain": [
       "<Figure size 1152x192 with 2 Axes>"
      ]
     },
     "metadata": {
      "needs_background": "light"
     },
     "output_type": "display_data"
    },
    {
     "data": {
      "image/png": "[encoded data removed]",
      "text/plain": [
       "<Figure size 1152x192 with 2 Axes>"
      ]
     },
     "metadata": {
      "needs_background": "light"
     },
     "output_type": "display_data"
    },
    {
     "data": {
      "image/png": "[encoded data removed]",
      "text/plain": [
       "<Figure size 1152x192 with 2 Axes>"
      ]
     },
     "metadata": {
      "needs_background": "light"
     },
     "output_type": "display_data"
    },
    {
     "data": {
      "image/png": "[encoded data removed]",
      "text/plain": [
       "<Figure size 1152x192 with 2 Axes>"
      ]
     },
     "metadata": {
      "needs_background": "light"
     },
     "output_type": "display_data"
    }
   ],
   "source": [
    "pred_idx = 200\n",
    "enc_x = torch.tensor(series[pred_idx - enc_lens: pred_idx]).unsqueeze(0).float()\n",
    "cat_x = torch.tensor(month[pred_idx-enc_lens: pred_idx + dec_lens]).unsqueeze(0).unsqueeze(2).long()\n",
    "y_pred, attns = model.predict(enc_x, dec_lens, category_x=cat_x, use_move_scale=True, return_attns=True)\n",
    "plot_attentions(attns)"
   ]
  },
  {
   "cell_type": "markdown",
   "metadata": {},
   "source": [
    "## 5. Simple WaveNet"
   ]
  },
  {
   "cell_type": "code",
   "execution_count": 24,
   "metadata": {},
   "outputs": [],
   "source": [
    "dataset = SimpleWaveNetDataSet(series, enc_lens, dec_lens)\n",
    "idxes = list(range(len(dataset)))\n",
    "train_idxes, _idxes = walk_forward_split(idxes, enc_lens, dec_lens, test_size=n_test + n_val)\n",
    "valid_idxes, test_idxes = walk_forward_split(_idxes, enc_lens, dec_lens, test_size=n_test)\n",
    "\n",
    "trn_set = Subset(dataset, train_idxes)\n",
    "val_set = Subset(dataset, valid_idxes)\n",
    "test_set = Subset(dataset, test_idxes)\n",
    "trn_ld = DataLoader(trn_set, batch_size=batch_size, shuffle=True, drop_last=False)\n",
    "val_ld = DataLoader(val_set, batch_size=batch_size, shuffle=False, drop_last=False)\n",
    "test_ld = DataLoader(test_set, batch_size=batch_size, shuffle=False)"
   ]
  },
  {
   "cell_type": "code",
   "execution_count": 27,
   "metadata": {},
   "outputs": [],
   "source": [
    "hp = {\n",
    "        'path': Path('.').resolve() / 'logs',\n",
    "        'target_size': 20,\n",
    "        'dilation': [1, 2, 4, 8, 16, 32, 64],\n",
    "        'dropout': 0.2,\n",
    "        'residual_channels': 72,\n",
    "        'teacher_forcing_rate': 0.5,\n",
    "        'use_move_scale': True,\n",
    "    }\n",
    "\n",
    "compile_params = {\n",
    "    'optimizer': 'Adam',\n",
    "    'lr': 0.001,\n",
    "    'lr_scheduler': 'CosineAnnealingWarmRestarts',\n",
    "    'lr_scheduler_kw': {'T_0': 5, 'T_mult': 10},\n",
    "    'metric': 'RMSE',\n",
    "    'loss_fn': 'MSELoss',\n",
    "}"
   ]
  },
  {
   "cell_type": "code",
   "execution_count": 28,
   "metadata": {
    "scrolled": false
   },
   "outputs": [
    {
     "name": "stderr",
     "output_type": "stream",
     "text": [
      "batch 17 / 17, loss 0.900: 100%|██████████| 17/17 [00:02<00:00,  8.22it/s]\n",
      "batch 3 / 17, loss 0.842:  12%|█▏        | 2/17 [00:00<00:00, 18.95it/s]"
     ]
    },
    {
     "name": "stdout",
     "output_type": "stream",
     "text": [
      "epoch 1 / 50: train loss 1.057 val loss 1.173 RMSE 179.898\n"
     ]
    },
    {
     "name": "stderr",
     "output_type": "stream",
     "text": [
      "batch 17 / 17, loss 0.840: 100%|██████████| 17/17 [00:00<00:00, 19.15it/s]\n",
      "batch 3 / 17, loss 0.807:  12%|█▏        | 2/17 [00:00<00:00, 19.24it/s]"
     ]
    },
    {
     "name": "stdout",
     "output_type": "stream",
     "text": [
      "epoch 2 / 50: train loss 0.881 val loss 0.939 RMSE 163.532\n"
     ]
    },
    {
     "name": "stderr",
     "output_type": "stream",
     "text": [
      "batch 17 / 17, loss 0.614: 100%|██████████| 17/17 [00:00<00:00, 19.48it/s]\n",
      "batch 3 / 17, loss 0.660:  12%|█▏        | 2/17 [00:00<00:00, 18.45it/s]"
     ]
    },
    {
     "name": "stdout",
     "output_type": "stream",
     "text": [
      "epoch 3 / 50: train loss 0.766 val loss 0.876 RMSE 156.244\n"
     ]
    },
    {
     "name": "stderr",
     "output_type": "stream",
     "text": [
      "batch 17 / 17, loss 0.672: 100%|██████████| 17/17 [00:00<00:00, 19.15it/s]\n",
      "  0%|          | 0/17 [00:00<?, ?it/s]"
     ]
    },
    {
     "name": "stdout",
     "output_type": "stream",
     "text": [
      "epoch 4 / 50: train loss 0.720 val loss 0.868 RMSE 155.451\n"
     ]
    },
    {
     "name": "stderr",
     "output_type": "stream",
     "text": [
      "batch 17 / 17, loss 0.722: 100%|██████████| 17/17 [00:02<00:00,  6.75it/s]\n",
      "batch 3 / 17, loss 0.606:  12%|█▏        | 2/17 [00:00<00:00, 19.20it/s]"
     ]
    },
    {
     "name": "stdout",
     "output_type": "stream",
     "text": [
      "epoch 5 / 50: train loss 0.707 val loss 0.855 RMSE 154.125\n"
     ]
    },
    {
     "name": "stderr",
     "output_type": "stream",
     "text": [
      "batch 17 / 17, loss 0.644: 100%|██████████| 17/17 [00:01<00:00, 15.69it/s]\n",
      "  0%|          | 0/17 [00:00<?, ?it/s]"
     ]
    },
    {
     "name": "stdout",
     "output_type": "stream",
     "text": [
      "epoch 6 / 50: train loss 0.680 val loss 0.801 RMSE 148.029\n"
     ]
    },
    {
     "name": "stderr",
     "output_type": "stream",
     "text": [
      "batch 17 / 17, loss 0.592: 100%|██████████| 17/17 [00:01<00:00, 14.27it/s]\n",
      "batch 3 / 17, loss 0.542:  12%|█▏        | 2/17 [00:00<00:00, 19.12it/s]"
     ]
    },
    {
     "name": "stdout",
     "output_type": "stream",
     "text": [
      "epoch 7 / 50: train loss 0.609 val loss 0.844 RMSE 153.834\n"
     ]
    },
    {
     "name": "stderr",
     "output_type": "stream",
     "text": [
      "batch 17 / 17, loss 0.500: 100%|██████████| 17/17 [00:00<00:00, 17.92it/s]\n",
      "  0%|          | 0/17 [00:00<?, ?it/s]"
     ]
    },
    {
     "name": "stdout",
     "output_type": "stream",
     "text": [
      "epoch 8 / 50: train loss 0.548 val loss 0.748 RMSE 143.691\n"
     ]
    },
    {
     "name": "stderr",
     "output_type": "stream",
     "text": [
      "batch 17 / 17, loss 0.468: 100%|██████████| 17/17 [00:01<00:00, 10.80it/s]\n",
      "  0%|          | 0/17 [00:00<?, ?it/s]"
     ]
    },
    {
     "name": "stdout",
     "output_type": "stream",
     "text": [
      "epoch 9 / 50: train loss 0.494 val loss 0.734 RMSE 140.205\n"
     ]
    },
    {
     "name": "stderr",
     "output_type": "stream",
     "text": [
      "batch 17 / 17, loss 0.470: 100%|██████████| 17/17 [00:01<00:00, 12.94it/s]\n",
      "  0%|          | 0/17 [00:00<?, ?it/s]"
     ]
    },
    {
     "name": "stdout",
     "output_type": "stream",
     "text": [
      "epoch 10 / 50: train loss 0.453 val loss 0.679 RMSE 134.601\n"
     ]
    },
    {
     "name": "stderr",
     "output_type": "stream",
     "text": [
      "batch 17 / 17, loss 0.410: 100%|██████████| 17/17 [00:02<00:00,  7.23it/s]\n",
      "  0%|          | 0/17 [00:00<?, ?it/s]"
     ]
    },
    {
     "name": "stdout",
     "output_type": "stream",
     "text": [
      "epoch 11 / 50: train loss 0.403 val loss 0.666 RMSE 132.383\n"
     ]
    },
    {
     "name": "stderr",
     "output_type": "stream",
     "text": [
      "batch 17 / 17, loss 0.334: 100%|██████████| 17/17 [00:01<00:00, 11.75it/s]\n",
      "  0%|          | 0/17 [00:00<?, ?it/s]"
     ]
    },
    {
     "name": "stdout",
     "output_type": "stream",
     "text": [
      "epoch 12 / 50: train loss 0.374 val loss 0.621 RMSE 127.452\n"
     ]
    },
    {
     "name": "stderr",
     "output_type": "stream",
     "text": [
      "batch 17 / 17, loss 0.279: 100%|██████████| 17/17 [00:02<00:00,  5.69it/s]\n",
      "  0%|          | 0/17 [00:00<?, ?it/s]"
     ]
    },
    {
     "name": "stdout",
     "output_type": "stream",
     "text": [
      "epoch 13 / 50: train loss 0.342 val loss 0.564 RMSE 119.600\n"
     ]
    },
    {
     "name": "stderr",
     "output_type": "stream",
     "text": [
      "batch 17 / 17, loss 0.282: 100%|██████████| 17/17 [00:01<00:00, 13.90it/s]\n",
      "batch 1 / 17, loss 0.281:   6%|▌         | 1/17 [00:00<00:02,  6.15it/s]"
     ]
    },
    {
     "name": "stdout",
     "output_type": "stream",
     "text": [
      "epoch 14 / 50: train loss 0.312 val loss 0.540 RMSE 114.267\n"
     ]
    },
    {
     "name": "stderr",
     "output_type": "stream",
     "text": [
      "batch 17 / 17, loss 0.281: 100%|██████████| 17/17 [00:02<00:00,  5.95it/s]\n",
      "  0%|          | 0/17 [00:00<?, ?it/s]"
     ]
    },
    {
     "name": "stdout",
     "output_type": "stream",
     "text": [
      "epoch 15 / 50: train loss 0.288 val loss 0.531 RMSE 113.396\n"
     ]
    },
    {
     "name": "stderr",
     "output_type": "stream",
     "text": [
      "batch 17 / 17, loss 0.344: 100%|██████████| 17/17 [00:04<00:00,  4.07it/s]\n",
      "batch 3 / 17, loss 0.215:  12%|█▏        | 2/17 [00:00<00:00, 18.71it/s]"
     ]
    },
    {
     "name": "stdout",
     "output_type": "stream",
     "text": [
      "epoch 16 / 50: train loss 0.277 val loss 0.527 RMSE 111.443\n"
     ]
    },
    {
     "name": "stderr",
     "output_type": "stream",
     "text": [
      "batch 17 / 17, loss 0.192: 100%|██████████| 17/17 [00:00<00:00, 18.15it/s]\n",
      "  0%|          | 0/17 [00:00<?, ?it/s]"
     ]
    },
    {
     "name": "stdout",
     "output_type": "stream",
     "text": [
      "epoch 17 / 50: train loss 0.262 val loss 0.453 RMSE 102.037\n"
     ]
    },
    {
     "name": "stderr",
     "output_type": "stream",
     "text": [
      "batch 17 / 17, loss 0.255: 100%|██████████| 17/17 [00:03<00:00,  4.63it/s]\n",
      "  0%|          | 0/17 [00:00<?, ?it/s]"
     ]
    },
    {
     "name": "stdout",
     "output_type": "stream",
     "text": [
      "epoch 18 / 50: train loss 0.254 val loss 0.436 RMSE 100.543\n"
     ]
    },
    {
     "name": "stderr",
     "output_type": "stream",
     "text": [
      "batch 17 / 17, loss 0.179: 100%|██████████| 17/17 [00:01<00:00, 15.61it/s]\n",
      "batch 3 / 17, loss 0.188:  12%|█▏        | 2/17 [00:00<00:00, 19.00it/s]"
     ]
    },
    {
     "name": "stdout",
     "output_type": "stream",
     "text": [
      "epoch 19 / 50: train loss 0.243 val loss 0.399 RMSE 93.799\n"
     ]
    },
    {
     "name": "stderr",
     "output_type": "stream",
     "text": [
      "batch 17 / 17, loss 0.184: 100%|██████████| 17/17 [00:00<00:00, 18.67it/s]\n",
      "batch 4 / 17, loss 0.188:  12%|█▏        | 2/17 [00:00<00:00, 19.52it/s]"
     ]
    },
    {
     "name": "stdout",
     "output_type": "stream",
     "text": [
      "epoch 20 / 50: train loss 0.231 val loss 0.401 RMSE 93.277\n"
     ]
    },
    {
     "name": "stderr",
     "output_type": "stream",
     "text": [
      "batch 17 / 17, loss 0.208: 100%|██████████| 17/17 [00:00<00:00, 19.34it/s]\n",
      "  0%|          | 0/17 [00:00<?, ?it/s]"
     ]
    },
    {
     "name": "stdout",
     "output_type": "stream",
     "text": [
      "epoch 21 / 50: train loss 0.223 val loss 0.364 RMSE 87.506\n"
     ]
    },
    {
     "name": "stderr",
     "output_type": "stream",
     "text": [
      "batch 17 / 17, loss 0.179: 100%|██████████| 17/17 [00:01<00:00, 13.40it/s]\n",
      "batch 1 / 17, loss 0.181:   0%|          | 0/17 [00:00<?, ?it/s]"
     ]
    },
    {
     "name": "stdout",
     "output_type": "stream",
     "text": [
      "epoch 22 / 50: train loss 0.214 val loss 0.371 RMSE 91.152\n"
     ]
    },
    {
     "name": "stderr",
     "output_type": "stream",
     "text": [
      "batch 17 / 17, loss 0.189: 100%|██████████| 17/17 [00:01<00:00, 13.28it/s]\n",
      "batch 3 / 17, loss 0.186:  12%|█▏        | 2/17 [00:00<00:00, 16.50it/s]"
     ]
    },
    {
     "name": "stdout",
     "output_type": "stream",
     "text": [
      "epoch 23 / 50: train loss 0.209 val loss 0.332 RMSE 84.243\n"
     ]
    },
    {
     "name": "stderr",
     "output_type": "stream",
     "text": [
      "batch 17 / 17, loss 0.177: 100%|██████████| 17/17 [00:01<00:00, 16.22it/s]\n",
      "  0%|          | 0/17 [00:00<?, ?it/s]"
     ]
    },
    {
     "name": "stdout",
     "output_type": "stream",
     "text": [
      "epoch 24 / 50: train loss 0.208 val loss 0.328 RMSE 83.592\n"
     ]
    },
    {
     "name": "stderr",
     "output_type": "stream",
     "text": [
      "batch 17 / 17, loss 0.226: 100%|██████████| 17/17 [00:01<00:00, 15.07it/s]\n",
      "batch 3 / 17, loss 0.203:  18%|█▊        | 3/17 [00:00<00:00, 20.42it/s]"
     ]
    },
    {
     "name": "stdout",
     "output_type": "stream",
     "text": [
      "epoch 25 / 50: train loss 0.201 val loss 0.308 RMSE 78.556\n"
     ]
    },
    {
     "name": "stderr",
     "output_type": "stream",
     "text": [
      "batch 17 / 17, loss 0.312: 100%|██████████| 17/17 [00:00<00:00, 19.35it/s]\n",
      "batch 4 / 17, loss 0.159:  18%|█▊        | 3/17 [00:00<00:00, 21.04it/s]"
     ]
    },
    {
     "name": "stdout",
     "output_type": "stream",
     "text": [
      "epoch 26 / 50: train loss 0.204 val loss 0.325 RMSE 82.689\n"
     ]
    },
    {
     "name": "stderr",
     "output_type": "stream",
     "text": [
      "batch 17 / 17, loss 0.219: 100%|██████████| 17/17 [00:00<00:00, 19.75it/s]\n",
      "batch 3 / 17, loss 0.170:  12%|█▏        | 2/17 [00:00<00:00, 19.60it/s]"
     ]
    },
    {
     "name": "stdout",
     "output_type": "stream",
     "text": [
      "epoch 27 / 50: train loss 0.185 val loss 0.306 RMSE 82.197\n"
     ]
    },
    {
     "name": "stderr",
     "output_type": "stream",
     "text": [
      "batch 17 / 17, loss 0.212: 100%|██████████| 17/17 [00:00<00:00, 19.85it/s]\n",
      "batch 3 / 17, loss 0.150:  12%|█▏        | 2/17 [00:00<00:00, 18.95it/s]"
     ]
    },
    {
     "name": "stdout",
     "output_type": "stream",
     "text": [
      "epoch 28 / 50: train loss 0.190 val loss 0.287 RMSE 76.511\n"
     ]
    },
    {
     "name": "stderr",
     "output_type": "stream",
     "text": [
      "batch 17 / 17, loss 0.187: 100%|██████████| 17/17 [00:00<00:00, 19.29it/s]\n",
      "batch 3 / 17, loss 0.181:  18%|█▊        | 3/17 [00:00<00:00, 20.94it/s]"
     ]
    },
    {
     "name": "stdout",
     "output_type": "stream",
     "text": [
      "epoch 29 / 50: train loss 0.184 val loss 0.283 RMSE 77.379\n"
     ]
    },
    {
     "name": "stderr",
     "output_type": "stream",
     "text": [
      "batch 17 / 17, loss 0.135: 100%|██████████| 17/17 [00:00<00:00, 17.85it/s]\n",
      "batch 3 / 17, loss 0.204:  12%|█▏        | 2/17 [00:00<00:00, 17.90it/s]"
     ]
    },
    {
     "name": "stdout",
     "output_type": "stream",
     "text": [
      "epoch 30 / 50: train loss 0.185 val loss 0.269 RMSE 73.755\n"
     ]
    },
    {
     "name": "stderr",
     "output_type": "stream",
     "text": [
      "batch 17 / 17, loss 0.209: 100%|██████████| 17/17 [00:01<00:00, 13.96it/s]\n",
      "batch 3 / 17, loss 0.202:  12%|█▏        | 2/17 [00:00<00:00, 17.90it/s]"
     ]
    },
    {
     "name": "stdout",
     "output_type": "stream",
     "text": [
      "epoch 31 / 50: train loss 0.179 val loss 0.264 RMSE 74.897\n"
     ]
    },
    {
     "name": "stderr",
     "output_type": "stream",
     "text": [
      "batch 17 / 17, loss 0.195: 100%|██████████| 17/17 [00:01<00:00, 16.64it/s]\n",
      "batch 3 / 17, loss 0.197:  12%|█▏        | 2/17 [00:00<00:00, 18.83it/s]"
     ]
    },
    {
     "name": "stdout",
     "output_type": "stream",
     "text": [
      "epoch 32 / 50: train loss 0.186 val loss 0.279 RMSE 75.156\n"
     ]
    },
    {
     "name": "stderr",
     "output_type": "stream",
     "text": [
      "batch 17 / 17, loss 0.214: 100%|██████████| 17/17 [00:01<00:00, 16.97it/s]\n",
      "batch 3 / 17, loss 0.194:  12%|█▏        | 2/17 [00:00<00:00, 18.35it/s]"
     ]
    },
    {
     "name": "stdout",
     "output_type": "stream",
     "text": [
      "epoch 33 / 50: train loss 0.184 val loss 0.295 RMSE 76.422\n"
     ]
    },
    {
     "name": "stderr",
     "output_type": "stream",
     "text": [
      "batch 17 / 17, loss 0.150: 100%|██████████| 17/17 [00:01<00:00, 13.31it/s]\n",
      "batch 3 / 17, loss 0.176:  12%|█▏        | 2/17 [00:00<00:00, 18.53it/s]"
     ]
    },
    {
     "name": "stdout",
     "output_type": "stream",
     "text": [
      "epoch 34 / 50: train loss 0.174 val loss 0.259 RMSE 73.251\n"
     ]
    },
    {
     "name": "stderr",
     "output_type": "stream",
     "text": [
      "batch 17 / 17, loss 0.164: 100%|██████████| 17/17 [00:00<00:00, 17.37it/s]\n",
      "batch 3 / 17, loss 0.190:  12%|█▏        | 2/17 [00:00<00:00, 17.90it/s]"
     ]
    },
    {
     "name": "stdout",
     "output_type": "stream",
     "text": [
      "epoch 35 / 50: train loss 0.178 val loss 0.275 RMSE 74.150\n"
     ]
    },
    {
     "name": "stderr",
     "output_type": "stream",
     "text": [
      "batch 17 / 17, loss 0.174: 100%|██████████| 17/17 [00:00<00:00, 17.22it/s]\n",
      "batch 3 / 17, loss 0.150:  12%|█▏        | 2/17 [00:00<00:00, 18.34it/s]"
     ]
    },
    {
     "name": "stdout",
     "output_type": "stream",
     "text": [
      "epoch 36 / 50: train loss 0.177 val loss 0.258 RMSE 71.918\n"
     ]
    },
    {
     "name": "stderr",
     "output_type": "stream",
     "text": [
      "batch 17 / 17, loss 0.128: 100%|██████████| 17/17 [00:01<00:00, 16.44it/s]\n",
      "batch 3 / 17, loss 0.159:  12%|█▏        | 2/17 [00:00<00:00, 18.66it/s]"
     ]
    },
    {
     "name": "stdout",
     "output_type": "stream",
     "text": [
      "epoch 37 / 50: train loss 0.169 val loss 0.247 RMSE 70.740\n"
     ]
    },
    {
     "name": "stderr",
     "output_type": "stream",
     "text": [
      "batch 17 / 17, loss 0.220: 100%|██████████| 17/17 [00:01<00:00,  9.47it/s]\n",
      "  0%|          | 0/17 [00:00<?, ?it/s]"
     ]
    },
    {
     "name": "stdout",
     "output_type": "stream",
     "text": [
      "epoch 38 / 50: train loss 0.176 val loss 0.255 RMSE 72.002\n"
     ]
    },
    {
     "name": "stderr",
     "output_type": "stream",
     "text": [
      "batch 17 / 17, loss 0.147: 100%|██████████| 17/17 [00:01<00:00, 14.37it/s]\n",
      "  0%|          | 0/17 [00:00<?, ?it/s]"
     ]
    },
    {
     "name": "stdout",
     "output_type": "stream",
     "text": [
      "epoch 39 / 50: train loss 0.172 val loss 0.253 RMSE 70.386\n"
     ]
    },
    {
     "name": "stderr",
     "output_type": "stream",
     "text": [
      "batch 17 / 17, loss 0.224: 100%|██████████| 17/17 [00:01<00:00, 13.24it/s]\n",
      "batch 4 / 17, loss 0.193:  18%|█▊        | 3/17 [00:00<00:00, 21.23it/s]"
     ]
    },
    {
     "name": "stdout",
     "output_type": "stream",
     "text": [
      "epoch 40 / 50: train loss 0.173 val loss 0.246 RMSE 70.237\n"
     ]
    },
    {
     "name": "stderr",
     "output_type": "stream",
     "text": [
      "batch 17 / 17, loss 0.189: 100%|██████████| 17/17 [00:00<00:00, 19.83it/s]\n",
      "batch 3 / 17, loss 0.181:  18%|█▊        | 3/17 [00:00<00:00, 20.08it/s]"
     ]
    },
    {
     "name": "stdout",
     "output_type": "stream",
     "text": [
      "epoch 41 / 50: train loss 0.170 val loss 0.252 RMSE 69.373\n"
     ]
    },
    {
     "name": "stderr",
     "output_type": "stream",
     "text": [
      "batch 17 / 17, loss 0.127: 100%|██████████| 17/17 [00:00<00:00, 19.92it/s]\n",
      "  0%|          | 0/17 [00:00<?, ?it/s]"
     ]
    },
    {
     "name": "stdout",
     "output_type": "stream",
     "text": [
      "epoch 42 / 50: train loss 0.172 val loss 0.237 RMSE 69.141\n"
     ]
    },
    {
     "name": "stderr",
     "output_type": "stream",
     "text": [
      "batch 17 / 17, loss 0.129: 100%|██████████| 17/17 [00:01<00:00, 13.74it/s]\n",
      "  0%|          | 0/17 [00:00<?, ?it/s]"
     ]
    },
    {
     "name": "stdout",
     "output_type": "stream",
     "text": [
      "epoch 43 / 50: train loss 0.171 val loss 0.245 RMSE 69.418\n"
     ]
    },
    {
     "name": "stderr",
     "output_type": "stream",
     "text": [
      "batch 17 / 17, loss 0.194: 100%|██████████| 17/17 [00:03<00:00,  4.78it/s]\n",
      "batch 3 / 17, loss 0.155:  12%|█▏        | 2/17 [00:00<00:00, 16.88it/s]"
     ]
    },
    {
     "name": "stdout",
     "output_type": "stream",
     "text": [
      "epoch 44 / 50: train loss 0.170 val loss 0.242 RMSE 69.430\n"
     ]
    },
    {
     "name": "stderr",
     "output_type": "stream",
     "text": [
      "batch 17 / 17, loss 0.176: 100%|██████████| 17/17 [00:01<00:00, 13.00it/s]\n",
      "batch 3 / 17, loss 0.164:  12%|█▏        | 2/17 [00:00<00:00, 17.33it/s]"
     ]
    },
    {
     "name": "stdout",
     "output_type": "stream",
     "text": [
      "epoch 45 / 50: train loss 0.171 val loss 0.241 RMSE 68.726\n"
     ]
    },
    {
     "name": "stderr",
     "output_type": "stream",
     "text": [
      "batch 17 / 17, loss 0.175: 100%|██████████| 17/17 [00:01<00:00, 15.61it/s]\n",
      "batch 3 / 17, loss 0.156:  12%|█▏        | 2/17 [00:00<00:01, 14.71it/s]"
     ]
    },
    {
     "name": "stdout",
     "output_type": "stream",
     "text": [
      "epoch 46 / 50: train loss 0.167 val loss 0.242 RMSE 69.493\n"
     ]
    },
    {
     "name": "stderr",
     "output_type": "stream",
     "text": [
      "batch 17 / 17, loss 0.234: 100%|██████████| 17/17 [00:01<00:00, 16.16it/s]\n",
      "batch 3 / 17, loss 0.198:  12%|█▏        | 2/17 [00:00<00:00, 18.36it/s]"
     ]
    },
    {
     "name": "stdout",
     "output_type": "stream",
     "text": [
      "epoch 47 / 50: train loss 0.172 val loss 0.244 RMSE 69.022\n"
     ]
    },
    {
     "name": "stderr",
     "output_type": "stream",
     "text": [
      "batch 17 / 17, loss 0.199: 100%|██████████| 17/17 [00:01<00:00, 12.75it/s]\n",
      "batch 4 / 17, loss 0.130:  18%|█▊        | 3/17 [00:00<00:00, 20.72it/s]"
     ]
    },
    {
     "name": "stdout",
     "output_type": "stream",
     "text": [
      "epoch 48 / 50: train loss 0.165 val loss 0.242 RMSE 68.454\n"
     ]
    },
    {
     "name": "stderr",
     "output_type": "stream",
     "text": [
      "batch 17 / 17, loss 0.144: 100%|██████████| 17/17 [00:00<00:00, 19.81it/s]\n",
      "batch 4 / 17, loss 0.164:  18%|█▊        | 3/17 [00:00<00:00, 20.88it/s]"
     ]
    },
    {
     "name": "stdout",
     "output_type": "stream",
     "text": [
      "epoch 49 / 50: train loss 0.163 val loss 0.240 RMSE 68.773\n"
     ]
    },
    {
     "name": "stderr",
     "output_type": "stream",
     "text": [
      "batch 17 / 17, loss 0.155: 100%|██████████| 17/17 [00:00<00:00, 19.22it/s]\n"
     ]
    },
    {
     "name": "stdout",
     "output_type": "stream",
     "text": [
      "epoch 50 / 50: train loss 0.171 val loss 0.237 RMSE 68.203\n",
      "best model save in /home/zhouzr/project/Deep-Time-Series-Prediction/notebooks/logs/SimpleWaveNet_epoch_42_0.237.pkl\n"
     ]
    }
   ],
   "source": [
    "model = SimpleWaveNet(hp)\n",
    "model.compile(**compile_params)\n",
    "model.fit(epochs, trn_ld, val_ld, early_stopping=10, save_every_n_epochs=None, save_best_model=True)"
   ]
  },
  {
   "cell_type": "code",
   "execution_count": 29,
   "metadata": {},
   "outputs": [
    {
     "name": "stdout",
     "output_type": "stream",
     "text": [
      " -  -  -  -  -  -  -  -  -  -  -  -  -  -  -  -  -  -  -  - \n",
      "train loss: 0.093 valid loss: 0.237 test loss :0.355 test RMSE :84.503, \n"
     ]
    }
   ],
   "source": [
    "model.reload(model.best_model_path())\n",
    "print(' - ' * 20)\n",
    "print(f'train loss: {model.eval_cycle(trn_ld)[0]:.3f} '\n",
    "      f'valid loss: {model.eval_cycle(val_ld)[0]:.3f} '\n",
    "      f'test loss :{model.eval_cycle(test_ld)[0]:.3f} '\n",
    "      f'test RMSE :{model.eval_cycle(test_ld)[1]:.3f}, ')\n",
    "shutil.rmtree(hp['path'])"
   ]
  },
  {
   "cell_type": "markdown",
   "metadata": {},
   "source": [
    "## 6. Summary"
   ]
  },
  {
   "cell_type": "markdown",
   "metadata": {},
   "source": [
    "| model | num of attention | RMSE(test) | loss(test) | loss(val) | loss(train)|\n",
    "|:-:| :-: | :-:| :-:| :-:| :-:|\n",
    "| SimpleSeq2Seq | / | 141.54 | 0.725|0.682|0.476|\n",
    "| Seq2Seq| 0| 120.7| 0.571| 0.491| 0.279|\n",
    "| Seq2Seq| 1| 113.9| 0.532| 0.427| 0.222|\n",
    "| Seq2Seq| 4| 111.7 | 0.534| 0.422| 0.192|\n",
    "| SimpleWaveNet| / | 84.5 | 0.355 | 0.237| 0.093|"
   ]
  }
 ],
 "metadata": {
  "kernelspec": {
   "display_name": "Python [conda env:pytorch_1.3]",
   "language": "python",
   "name": "conda-env-pytorch_1.3-py"
  },
  "language_info": {
   "codemirror_mode": {
    "name": "ipython",
    "version": 3
   },
   "file_extension": ".py",
   "mimetype": "text/x-python",
   "name": "python",
   "nbconvert_exporter": "python",
   "pygments_lexer": "ipython3",
   "version": "3.7.4"
  }
 },
 "nbformat": 4,
 "nbformat_minor": 2
}
