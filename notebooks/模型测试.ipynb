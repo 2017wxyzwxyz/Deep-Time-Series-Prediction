{
 "cells": [
  {
   "cell_type": "code",
   "execution_count": 22,
   "metadata": {},
   "outputs": [],
   "source": [
    "from dtsp.dataset import walk_forward_split, Seq2SeqDataSet, SimpleSeq2SeqDataSet, SimpleWaveNetDataSet\n",
    "from dtsp.models import Seq2Seq, SimpleSeq2Seq, SimpleWaveNet\n",
    "from torch.utils.data import DataLoader\n",
    "from torch.utils.data import Subset, DataLoader\n",
    "import torch\n",
    "import os\n",
    "import matplotlib.pyplot as plt\n",
    "import numpy as np\n",
    "import pandas as pd\n",
    "from sklearn.metrics import mean_squared_error\n",
    "from pathlib import Path\n",
    "\n",
    "%matplotlib inline"
   ]
  },
  {
   "cell_type": "code",
   "execution_count": 3,
   "metadata": {},
   "outputs": [],
   "source": [
    "df = pd.read_csv('./data.csv', index_col='date_time', parse_dates=['date_time'])\n",
    "series = df.values\n",
    "month = df.index.month.values"
   ]
  },
  {
   "cell_type": "code",
   "execution_count": 6,
   "metadata": {},
   "outputs": [
    {
     "data": {
      "text/html": [
       "<div>\n",
       "<style scoped>\n",
       "    .dataframe tbody tr th:only-of-type {\n",
       "        vertical-align: middle;\n",
       "    }\n",
       "\n",
       "    .dataframe tbody tr th {\n",
       "        vertical-align: top;\n",
       "    }\n",
       "\n",
       "    .dataframe thead th {\n",
       "        text-align: right;\n",
       "    }\n",
       "</style>\n",
       "<table border=\"1\" class=\"dataframe\">\n",
       "  <thead>\n",
       "    <tr style=\"text-align: right;\">\n",
       "      <th></th>\n",
       "      <th>col_0</th>\n",
       "      <th>col_1</th>\n",
       "      <th>col_2</th>\n",
       "      <th>col_3</th>\n",
       "      <th>col_4</th>\n",
       "      <th>col_5</th>\n",
       "      <th>col_6</th>\n",
       "      <th>col_7</th>\n",
       "      <th>col_8</th>\n",
       "      <th>col_9</th>\n",
       "      <th>col_10</th>\n",
       "      <th>col_11</th>\n",
       "      <th>col_12</th>\n",
       "      <th>col_13</th>\n",
       "      <th>col_14</th>\n",
       "      <th>col_15</th>\n",
       "      <th>col_16</th>\n",
       "      <th>col_17</th>\n",
       "      <th>col_18</th>\n",
       "      <th>col_19</th>\n",
       "    </tr>\n",
       "    <tr>\n",
       "      <th>date_time</th>\n",
       "      <th></th>\n",
       "      <th></th>\n",
       "      <th></th>\n",
       "      <th></th>\n",
       "      <th></th>\n",
       "      <th></th>\n",
       "      <th></th>\n",
       "      <th></th>\n",
       "      <th></th>\n",
       "      <th></th>\n",
       "      <th></th>\n",
       "      <th></th>\n",
       "      <th></th>\n",
       "      <th></th>\n",
       "      <th></th>\n",
       "      <th></th>\n",
       "      <th></th>\n",
       "      <th></th>\n",
       "      <th></th>\n",
       "      <th></th>\n",
       "    </tr>\n",
       "  </thead>\n",
       "  <tbody>\n",
       "    <tr>\n",
       "      <th>1998-01-01</th>\n",
       "      <td>0.0</td>\n",
       "      <td>0.0</td>\n",
       "      <td>0.0</td>\n",
       "      <td>0.0</td>\n",
       "      <td>0.0</td>\n",
       "      <td>0.0</td>\n",
       "      <td>0.0</td>\n",
       "      <td>0.0</td>\n",
       "      <td>0.0</td>\n",
       "      <td>0.0</td>\n",
       "      <td>0</td>\n",
       "      <td>0.0</td>\n",
       "      <td>0.0</td>\n",
       "      <td>0</td>\n",
       "      <td>0</td>\n",
       "      <td>0.0</td>\n",
       "      <td>0.0</td>\n",
       "      <td>0</td>\n",
       "      <td>0.0</td>\n",
       "      <td>0</td>\n",
       "    </tr>\n",
       "    <tr>\n",
       "      <th>1998-02-01</th>\n",
       "      <td>0.0</td>\n",
       "      <td>0.0</td>\n",
       "      <td>0.0</td>\n",
       "      <td>0.0</td>\n",
       "      <td>0.0</td>\n",
       "      <td>0.0</td>\n",
       "      <td>0.0</td>\n",
       "      <td>0.0</td>\n",
       "      <td>0.0</td>\n",
       "      <td>0.0</td>\n",
       "      <td>0</td>\n",
       "      <td>0.0</td>\n",
       "      <td>0.0</td>\n",
       "      <td>0</td>\n",
       "      <td>0</td>\n",
       "      <td>0.0</td>\n",
       "      <td>0.0</td>\n",
       "      <td>0</td>\n",
       "      <td>0.0</td>\n",
       "      <td>0</td>\n",
       "    </tr>\n",
       "    <tr>\n",
       "      <th>1998-03-01</th>\n",
       "      <td>0.0</td>\n",
       "      <td>0.0</td>\n",
       "      <td>0.0</td>\n",
       "      <td>0.0</td>\n",
       "      <td>0.0</td>\n",
       "      <td>0.0</td>\n",
       "      <td>0.0</td>\n",
       "      <td>0.0</td>\n",
       "      <td>0.0</td>\n",
       "      <td>0.0</td>\n",
       "      <td>0</td>\n",
       "      <td>0.0</td>\n",
       "      <td>0.0</td>\n",
       "      <td>0</td>\n",
       "      <td>0</td>\n",
       "      <td>0.0</td>\n",
       "      <td>0.0</td>\n",
       "      <td>0</td>\n",
       "      <td>0.0</td>\n",
       "      <td>0</td>\n",
       "    </tr>\n",
       "    <tr>\n",
       "      <th>1998-04-01</th>\n",
       "      <td>0.0</td>\n",
       "      <td>0.0</td>\n",
       "      <td>0.0</td>\n",
       "      <td>0.0</td>\n",
       "      <td>0.0</td>\n",
       "      <td>0.0</td>\n",
       "      <td>0.0</td>\n",
       "      <td>0.0</td>\n",
       "      <td>0.0</td>\n",
       "      <td>0.0</td>\n",
       "      <td>0</td>\n",
       "      <td>0.0</td>\n",
       "      <td>0.0</td>\n",
       "      <td>0</td>\n",
       "      <td>0</td>\n",
       "      <td>0.0</td>\n",
       "      <td>0.0</td>\n",
       "      <td>0</td>\n",
       "      <td>0.0</td>\n",
       "      <td>0</td>\n",
       "    </tr>\n",
       "    <tr>\n",
       "      <th>1998-05-01</th>\n",
       "      <td>0.0</td>\n",
       "      <td>0.0</td>\n",
       "      <td>0.0</td>\n",
       "      <td>0.0</td>\n",
       "      <td>0.0</td>\n",
       "      <td>0.0</td>\n",
       "      <td>0.0</td>\n",
       "      <td>0.0</td>\n",
       "      <td>0.0</td>\n",
       "      <td>0.0</td>\n",
       "      <td>0</td>\n",
       "      <td>0.0</td>\n",
       "      <td>0.0</td>\n",
       "      <td>0</td>\n",
       "      <td>0</td>\n",
       "      <td>0.0</td>\n",
       "      <td>0.0</td>\n",
       "      <td>0</td>\n",
       "      <td>0.0</td>\n",
       "      <td>0</td>\n",
       "    </tr>\n",
       "  </tbody>\n",
       "</table>\n",
       "</div>"
      ],
      "text/plain": [
       "            col_0  col_1  col_2  col_3  col_4  col_5  col_6  col_7  col_8  \\\n",
       "date_time                                                                   \n",
       "1998-01-01    0.0    0.0    0.0    0.0    0.0    0.0    0.0    0.0    0.0   \n",
       "1998-02-01    0.0    0.0    0.0    0.0    0.0    0.0    0.0    0.0    0.0   \n",
       "1998-03-01    0.0    0.0    0.0    0.0    0.0    0.0    0.0    0.0    0.0   \n",
       "1998-04-01    0.0    0.0    0.0    0.0    0.0    0.0    0.0    0.0    0.0   \n",
       "1998-05-01    0.0    0.0    0.0    0.0    0.0    0.0    0.0    0.0    0.0   \n",
       "\n",
       "            col_9  col_10  col_11  col_12  col_13  col_14  col_15  col_16  \\\n",
       "date_time                                                                   \n",
       "1998-01-01    0.0       0     0.0     0.0       0       0     0.0     0.0   \n",
       "1998-02-01    0.0       0     0.0     0.0       0       0     0.0     0.0   \n",
       "1998-03-01    0.0       0     0.0     0.0       0       0     0.0     0.0   \n",
       "1998-04-01    0.0       0     0.0     0.0       0       0     0.0     0.0   \n",
       "1998-05-01    0.0       0     0.0     0.0       0       0     0.0     0.0   \n",
       "\n",
       "            col_17  col_18  col_19  \n",
       "date_time                           \n",
       "1998-01-01       0     0.0       0  \n",
       "1998-02-01       0     0.0       0  \n",
       "1998-03-01       0     0.0       0  \n",
       "1998-04-01       0     0.0       0  \n",
       "1998-05-01       0     0.0       0  "
      ]
     },
     "execution_count": 6,
     "metadata": {},
     "output_type": "execute_result"
    }
   ],
   "source": [
    "df.head()"
   ]
  },
  {
   "cell_type": "code",
   "execution_count": 7,
   "metadata": {},
   "outputs": [],
   "source": [
    "idxes = list(range(len(series)))"
   ]
  },
  {
   "cell_type": "code",
   "execution_count": 18,
   "metadata": {},
   "outputs": [],
   "source": [
    "n_test = 12\n",
    "n_val = 12\n",
    "enc_lens = 72\n",
    "dec_lens = 12\n",
    "batch_size = 8"
   ]
  },
  {
   "cell_type": "code",
   "execution_count": 19,
   "metadata": {},
   "outputs": [],
   "source": [
    "dataset = Seq2SeqDataSet(series, enc_lens, dec_lens, categorical_var=month)\n",
    "idxes = list(range(len(dataset)))\n",
    "train_idxes, _idxes = walk_forward_split(idxes, enc_lens, dec_lens, test_size=n_test + n_val)\n",
    "valid_idxes, test_idxes = walk_forward_split(_idxes, enc_lens, dec_lens, test_size=n_test)\n",
    "\n",
    "trn_set = Subset(dataset, train_idxes)\n",
    "val_set = Subset(dataset, valid_idxes)\n",
    "test_set = Subset(dataset, test_idxes)\n",
    "trn_ld = DataLoader(trn_set, batch_size=batch_size, shuffle=True, drop_last=False)\n",
    "val_ld = DataLoader(val_set, batch_size=batch_size, shuffle=False, drop_last=False)\n",
    "test_ld = DataLoader(test_set, batch_size=batch_size, shuffle=False)"
   ]
  },
  {
   "cell_type": "code",
   "execution_count": 25,
   "metadata": {},
   "outputs": [],
   "source": [
    "hp = {\n",
    "        'path': Path('.').resolve() / 'logs',\n",
    "        'target_size': 20,\n",
    "        'rnn_type': 'LSTM',\n",
    "        'dropout': 0.1,\n",
    "        'hidden_size': 128,\n",
    "        'teacher_forcing_rate': 0.5,\n",
    "        'n_head': 2,\n",
    "        'use_attn': False,\n",
    "        'trans_hidden_size': 4,\n",
    "        'trans_continuous_var': None,\n",
    "        'trans_category_var': [(13, 2)],\n",
    "        'trans_bidirectional': True,\n",
    "        'trans_rnn_type': 'LSTM',\n",
    "        'use_move_scale': True,\n",
    "    }\n",
    "\n",
    "compile_params = {\n",
    "    'loss_fn': 'MSELoss',\n",
    "    'optimizer': 'Adam',\n",
    "    'lr': 0.001,\n",
    "    'lr_scheduler': 'CosineAnnealingWarmRestarts',\n",
    "    'lr_scheduler_kw': {'T_0': 5, 'T_mult': 10},\n",
    "    'metric': 'RMSE',\n",
    "}"
   ]
  },
  {
   "cell_type": "code",
   "execution_count": 26,
   "metadata": {
    "scrolled": false
   },
   "outputs": [
    {
     "name": "stderr",
     "output_type": "stream",
     "text": [
      "batch 17 / 17, loss 0.885: 100%|██████████| 17/17 [00:01<00:00, 12.39it/s]\n",
      "batch 2 / 17, loss 0.944:  12%|█▏        | 2/17 [00:00<00:01, 13.13it/s]"
     ]
    },
    {
     "name": "stdout",
     "output_type": "stream",
     "text": [
      "epoch 1 / 50: train loss 1.034 val loss 1.137 RMSE 177.692\n"
     ]
    },
    {
     "name": "stderr",
     "output_type": "stream",
     "text": [
      "batch 17 / 17, loss 1.023: 100%|██████████| 17/17 [00:01<00:00, 13.73it/s]\n",
      "batch 3 / 17, loss 0.812:  12%|█▏        | 2/17 [00:00<00:00, 15.41it/s]"
     ]
    },
    {
     "name": "stdout",
     "output_type": "stream",
     "text": [
      "epoch 2 / 50: train loss 0.857 val loss 0.981 RMSE 167.018\n"
     ]
    },
    {
     "name": "stderr",
     "output_type": "stream",
     "text": [
      "batch 17 / 17, loss 0.721: 100%|██████████| 17/17 [00:01<00:00, 15.38it/s]\n",
      "batch 2 / 17, loss 0.656:  12%|█▏        | 2/17 [00:00<00:01, 14.69it/s]"
     ]
    },
    {
     "name": "stdout",
     "output_type": "stream",
     "text": [
      "epoch 3 / 50: train loss 0.773 val loss 0.900 RMSE 160.477\n"
     ]
    },
    {
     "name": "stderr",
     "output_type": "stream",
     "text": [
      "batch 17 / 17, loss 0.762: 100%|██████████| 17/17 [00:01<00:00, 13.01it/s]\n",
      "batch 2 / 17, loss 0.651:  12%|█▏        | 2/17 [00:00<00:01, 14.46it/s]"
     ]
    },
    {
     "name": "stdout",
     "output_type": "stream",
     "text": [
      "epoch 4 / 50: train loss 0.726 val loss 0.882 RMSE 158.250\n"
     ]
    },
    {
     "name": "stderr",
     "output_type": "stream",
     "text": [
      "batch 17 / 17, loss 0.729: 100%|██████████| 17/17 [00:01<00:00, 14.53it/s]\n",
      "batch 2 / 17, loss 0.654:  12%|█▏        | 2/17 [00:00<00:01, 13.02it/s]"
     ]
    },
    {
     "name": "stdout",
     "output_type": "stream",
     "text": [
      "epoch 5 / 50: train loss 0.721 val loss 0.877 RMSE 157.699\n"
     ]
    },
    {
     "name": "stderr",
     "output_type": "stream",
     "text": [
      "batch 17 / 17, loss 0.864: 100%|██████████| 17/17 [00:01<00:00, 13.52it/s]\n",
      "batch 2 / 17, loss 0.723:  12%|█▏        | 2/17 [00:00<00:01, 14.58it/s]"
     ]
    },
    {
     "name": "stdout",
     "output_type": "stream",
     "text": [
      "epoch 6 / 50: train loss 0.751 val loss 1.174 RMSE 182.822\n"
     ]
    },
    {
     "name": "stderr",
     "output_type": "stream",
     "text": [
      "batch 17 / 17, loss 0.616: 100%|██████████| 17/17 [00:01<00:00, 14.76it/s]\n",
      "batch 2 / 17, loss 0.619:  12%|█▏        | 2/17 [00:00<00:01, 12.75it/s]"
     ]
    },
    {
     "name": "stdout",
     "output_type": "stream",
     "text": [
      "epoch 7 / 50: train loss 0.761 val loss 0.877 RMSE 157.558\n"
     ]
    },
    {
     "name": "stderr",
     "output_type": "stream",
     "text": [
      "batch 17 / 17, loss 0.546: 100%|██████████| 17/17 [00:01<00:00, 12.96it/s]\n",
      "batch 2 / 17, loss 0.568:  12%|█▏        | 2/17 [00:00<00:01, 14.90it/s]"
     ]
    },
    {
     "name": "stdout",
     "output_type": "stream",
     "text": [
      "epoch 8 / 50: train loss 0.677 val loss 0.833 RMSE 152.944\n"
     ]
    },
    {
     "name": "stderr",
     "output_type": "stream",
     "text": [
      "batch 17 / 17, loss 0.688: 100%|██████████| 17/17 [00:01<00:00, 13.79it/s]\n",
      "batch 2 / 17, loss 0.632:  12%|█▏        | 2/17 [00:00<00:01, 13.97it/s]"
     ]
    },
    {
     "name": "stdout",
     "output_type": "stream",
     "text": [
      "epoch 9 / 50: train loss 0.684 val loss 0.837 RMSE 152.307\n"
     ]
    },
    {
     "name": "stderr",
     "output_type": "stream",
     "text": [
      "batch 17 / 17, loss 0.796: 100%|██████████| 17/17 [00:01<00:00, 10.63it/s]\n",
      "batch 2 / 17, loss 0.970:  12%|█▏        | 2/17 [00:00<00:01, 10.30it/s]"
     ]
    },
    {
     "name": "stdout",
     "output_type": "stream",
     "text": [
      "epoch 10 / 50: train loss 0.708 val loss 1.044 RMSE 170.083\n"
     ]
    },
    {
     "name": "stderr",
     "output_type": "stream",
     "text": [
      "batch 17 / 17, loss 0.579: 100%|██████████| 17/17 [00:01<00:00, 12.65it/s]\n",
      "batch 2 / 17, loss 0.944:  12%|█▏        | 2/17 [00:00<00:01, 13.63it/s]"
     ]
    },
    {
     "name": "stdout",
     "output_type": "stream",
     "text": [
      "epoch 11 / 50: train loss 0.663 val loss 0.890 RMSE 159.685\n"
     ]
    },
    {
     "name": "stderr",
     "output_type": "stream",
     "text": [
      "batch 17 / 17, loss 0.510: 100%|██████████| 17/17 [00:01<00:00, 13.77it/s]\n",
      "batch 2 / 17, loss 0.590:  12%|█▏        | 2/17 [00:00<00:01, 13.04it/s]"
     ]
    },
    {
     "name": "stdout",
     "output_type": "stream",
     "text": [
      "epoch 12 / 50: train loss 0.599 val loss 0.791 RMSE 149.166\n"
     ]
    },
    {
     "name": "stderr",
     "output_type": "stream",
     "text": [
      "batch 17 / 17, loss 0.479: 100%|██████████| 17/17 [00:01<00:00, 12.20it/s]\n",
      "batch 2 / 17, loss 0.563:  12%|█▏        | 2/17 [00:00<00:01, 10.89it/s]"
     ]
    },
    {
     "name": "stdout",
     "output_type": "stream",
     "text": [
      "epoch 13 / 50: train loss 0.605 val loss 0.795 RMSE 149.677\n"
     ]
    },
    {
     "name": "stderr",
     "output_type": "stream",
     "text": [
      "batch 17 / 17, loss 0.546: 100%|██████████| 17/17 [00:01<00:00, 11.74it/s]\n",
      "batch 2 / 17, loss 0.468:  12%|█▏        | 2/17 [00:00<00:01, 13.90it/s]"
     ]
    },
    {
     "name": "stdout",
     "output_type": "stream",
     "text": [
      "epoch 14 / 50: train loss 0.590 val loss 0.774 RMSE 146.052\n"
     ]
    },
    {
     "name": "stderr",
     "output_type": "stream",
     "text": [
      "batch 17 / 17, loss 0.482: 100%|██████████| 17/17 [00:01<00:00, 10.01it/s]\n",
      "batch 2 / 17, loss 0.610:  12%|█▏        | 2/17 [00:00<00:01, 12.62it/s]"
     ]
    },
    {
     "name": "stdout",
     "output_type": "stream",
     "text": [
      "epoch 15 / 50: train loss 0.539 val loss 0.762 RMSE 145.264\n"
     ]
    },
    {
     "name": "stderr",
     "output_type": "stream",
     "text": [
      "batch 17 / 17, loss 0.604: 100%|██████████| 17/17 [00:01<00:00, 11.28it/s]\n",
      "batch 2 / 17, loss 0.471:  12%|█▏        | 2/17 [00:00<00:01, 14.21it/s]"
     ]
    },
    {
     "name": "stdout",
     "output_type": "stream",
     "text": [
      "epoch 16 / 50: train loss 0.539 val loss 0.723 RMSE 141.023\n"
     ]
    },
    {
     "name": "stderr",
     "output_type": "stream",
     "text": [
      "batch 17 / 17, loss 0.550: 100%|██████████| 17/17 [00:01<00:00, 11.33it/s]\n",
      "batch 2 / 17, loss 0.440:   6%|▌         | 1/17 [00:00<00:01,  8.80it/s]"
     ]
    },
    {
     "name": "stdout",
     "output_type": "stream",
     "text": [
      "epoch 17 / 50: train loss 0.512 val loss 0.719 RMSE 140.394\n"
     ]
    },
    {
     "name": "stderr",
     "output_type": "stream",
     "text": [
      "batch 17 / 17, loss 0.499: 100%|██████████| 17/17 [00:01<00:00, 12.33it/s]\n",
      "batch 2 / 17, loss 0.489:  12%|█▏        | 2/17 [00:00<00:01, 12.33it/s]"
     ]
    },
    {
     "name": "stdout",
     "output_type": "stream",
     "text": [
      "epoch 18 / 50: train loss 0.504 val loss 0.712 RMSE 139.636\n"
     ]
    },
    {
     "name": "stderr",
     "output_type": "stream",
     "text": [
      "batch 17 / 17, loss 0.534: 100%|██████████| 17/17 [00:01<00:00, 11.20it/s]\n",
      "batch 1 / 17, loss 0.418:   0%|          | 0/17 [00:00<?, ?it/s]"
     ]
    },
    {
     "name": "stdout",
     "output_type": "stream",
     "text": [
      "epoch 19 / 50: train loss 0.476 val loss 0.691 RMSE 138.037\n"
     ]
    },
    {
     "name": "stderr",
     "output_type": "stream",
     "text": [
      "batch 17 / 17, loss 0.835: 100%|██████████| 17/17 [00:01<00:00, 10.05it/s]\n",
      "batch 2 / 17, loss 0.489:  12%|█▏        | 2/17 [00:00<00:01, 11.36it/s]"
     ]
    },
    {
     "name": "stdout",
     "output_type": "stream",
     "text": [
      "epoch 20 / 50: train loss 0.457 val loss 0.694 RMSE 137.732\n"
     ]
    },
    {
     "name": "stderr",
     "output_type": "stream",
     "text": [
      "batch 17 / 17, loss 0.374: 100%|██████████| 17/17 [00:01<00:00, 13.96it/s]\n",
      "batch 2 / 17, loss 0.361:  12%|█▏        | 2/17 [00:00<00:01, 14.26it/s]"
     ]
    },
    {
     "name": "stdout",
     "output_type": "stream",
     "text": [
      "epoch 21 / 50: train loss 0.463 val loss 0.708 RMSE 139.159\n"
     ]
    },
    {
     "name": "stderr",
     "output_type": "stream",
     "text": [
      "batch 17 / 17, loss 0.512: 100%|██████████| 17/17 [00:01<00:00, 13.47it/s]\n",
      "batch 2 / 17, loss 0.351:  12%|█▏        | 2/17 [00:00<00:01, 14.56it/s]"
     ]
    },
    {
     "name": "stdout",
     "output_type": "stream",
     "text": [
      "epoch 22 / 50: train loss 0.414 val loss 0.663 RMSE 135.398\n"
     ]
    },
    {
     "name": "stderr",
     "output_type": "stream",
     "text": [
      "batch 17 / 17, loss 0.506: 100%|██████████| 17/17 [00:01<00:00, 13.92it/s]\n",
      "batch 3 / 17, loss 0.471:  12%|█▏        | 2/17 [00:00<00:00, 18.61it/s]"
     ]
    },
    {
     "name": "stdout",
     "output_type": "stream",
     "text": [
      "epoch 23 / 50: train loss 0.433 val loss 0.652 RMSE 132.979\n"
     ]
    },
    {
     "name": "stderr",
     "output_type": "stream",
     "text": [
      "batch 17 / 17, loss 0.309: 100%|██████████| 17/17 [00:01<00:00, 16.86it/s]\n",
      "batch 2 / 17, loss 0.483:  12%|█▏        | 2/17 [00:00<00:01, 12.69it/s]"
     ]
    },
    {
     "name": "stdout",
     "output_type": "stream",
     "text": [
      "epoch 24 / 50: train loss 0.392 val loss 0.639 RMSE 131.435\n"
     ]
    },
    {
     "name": "stderr",
     "output_type": "stream",
     "text": [
      "batch 17 / 17, loss 0.362: 100%|██████████| 17/17 [00:01<00:00, 12.73it/s]\n",
      "batch 2 / 17, loss 0.315:  12%|█▏        | 2/17 [00:00<00:01, 13.72it/s]"
     ]
    },
    {
     "name": "stdout",
     "output_type": "stream",
     "text": [
      "epoch 25 / 50: train loss 0.396 val loss 0.610 RMSE 128.234\n"
     ]
    },
    {
     "name": "stderr",
     "output_type": "stream",
     "text": [
      "batch 17 / 17, loss 0.346: 100%|██████████| 17/17 [00:01<00:00, 12.96it/s]\n",
      "batch 3 / 17, loss 0.365:  12%|█▏        | 2/17 [00:00<00:00, 17.66it/s]"
     ]
    },
    {
     "name": "stdout",
     "output_type": "stream",
     "text": [
      "epoch 26 / 50: train loss 0.374 val loss 0.599 RMSE 126.571\n"
     ]
    },
    {
     "name": "stderr",
     "output_type": "stream",
     "text": [
      "batch 17 / 17, loss 0.308: 100%|██████████| 17/17 [00:00<00:00, 17.47it/s]\n",
      "batch 3 / 17, loss 0.419:  12%|█▏        | 2/17 [00:00<00:00, 18.78it/s]"
     ]
    },
    {
     "name": "stdout",
     "output_type": "stream",
     "text": [
      "epoch 27 / 50: train loss 0.369 val loss 0.625 RMSE 129.908\n"
     ]
    },
    {
     "name": "stderr",
     "output_type": "stream",
     "text": [
      "batch 17 / 17, loss 0.304: 100%|██████████| 17/17 [00:00<00:00, 17.36it/s]\n",
      "batch 2 / 17, loss 0.348:  12%|█▏        | 2/17 [00:00<00:01, 12.77it/s]"
     ]
    },
    {
     "name": "stdout",
     "output_type": "stream",
     "text": [
      "epoch 28 / 50: train loss 0.361 val loss 0.591 RMSE 125.539\n"
     ]
    },
    {
     "name": "stderr",
     "output_type": "stream",
     "text": [
      "batch 17 / 17, loss 0.394: 100%|██████████| 17/17 [00:01<00:00,  9.49it/s]\n",
      "batch 2 / 17, loss 0.272:  12%|█▏        | 2/17 [00:00<00:00, 16.78it/s]"
     ]
    },
    {
     "name": "stdout",
     "output_type": "stream",
     "text": [
      "epoch 29 / 50: train loss 0.353 val loss 0.582 RMSE 123.659\n"
     ]
    },
    {
     "name": "stderr",
     "output_type": "stream",
     "text": [
      "batch 17 / 17, loss 0.348: 100%|██████████| 17/17 [00:01<00:00,  9.07it/s]\n",
      "batch 2 / 17, loss 0.315:  12%|█▏        | 2/17 [00:00<00:01, 11.06it/s]"
     ]
    },
    {
     "name": "stdout",
     "output_type": "stream",
     "text": [
      "epoch 30 / 50: train loss 0.332 val loss 0.565 RMSE 121.200\n"
     ]
    },
    {
     "name": "stderr",
     "output_type": "stream",
     "text": [
      "batch 17 / 17, loss 0.260: 100%|██████████| 17/17 [00:01<00:00,  9.17it/s]\n",
      "batch 2 / 17, loss 0.236:  12%|█▏        | 2/17 [00:00<00:01, 14.75it/s]"
     ]
    },
    {
     "name": "stdout",
     "output_type": "stream",
     "text": [
      "epoch 31 / 50: train loss 0.318 val loss 0.553 RMSE 120.003\n"
     ]
    },
    {
     "name": "stderr",
     "output_type": "stream",
     "text": [
      "batch 17 / 17, loss 0.362: 100%|██████████| 17/17 [00:01<00:00, 10.60it/s]\n",
      "batch 2 / 17, loss 0.255:  12%|█▏        | 2/17 [00:00<00:01, 11.88it/s]"
     ]
    },
    {
     "name": "stdout",
     "output_type": "stream",
     "text": [
      "epoch 32 / 50: train loss 0.300 val loss 0.551 RMSE 119.485\n"
     ]
    },
    {
     "name": "stderr",
     "output_type": "stream",
     "text": [
      "batch 17 / 17, loss 0.295: 100%|██████████| 17/17 [00:01<00:00, 10.48it/s]\n",
      "batch 1 / 17, loss 0.323:   6%|▌         | 1/17 [00:00<00:01,  9.56it/s]"
     ]
    },
    {
     "name": "stdout",
     "output_type": "stream",
     "text": [
      "epoch 33 / 50: train loss 0.299 val loss 0.543 RMSE 118.147\n"
     ]
    },
    {
     "name": "stderr",
     "output_type": "stream",
     "text": [
      "batch 17 / 17, loss 0.257: 100%|██████████| 17/17 [00:01<00:00,  9.75it/s]\n",
      "batch 2 / 17, loss 0.304:  12%|█▏        | 2/17 [00:00<00:00, 15.67it/s]"
     ]
    },
    {
     "name": "stdout",
     "output_type": "stream",
     "text": [
      "epoch 34 / 50: train loss 0.311 val loss 0.524 RMSE 114.998\n"
     ]
    },
    {
     "name": "stderr",
     "output_type": "stream",
     "text": [
      "batch 17 / 17, loss 0.353: 100%|██████████| 17/17 [00:01<00:00, 14.37it/s]\n",
      "batch 2 / 17, loss 0.407:  12%|█▏        | 2/17 [00:00<00:00, 15.04it/s]"
     ]
    },
    {
     "name": "stdout",
     "output_type": "stream",
     "text": [
      "epoch 35 / 50: train loss 0.292 val loss 0.519 RMSE 113.891\n"
     ]
    },
    {
     "name": "stderr",
     "output_type": "stream",
     "text": [
      "batch 17 / 17, loss 0.299: 100%|██████████| 17/17 [00:01<00:00, 12.51it/s]\n",
      "batch 2 / 17, loss 0.234:  12%|█▏        | 2/17 [00:00<00:00, 15.58it/s]"
     ]
    },
    {
     "name": "stdout",
     "output_type": "stream",
     "text": [
      "epoch 36 / 50: train loss 0.288 val loss 0.516 RMSE 113.588\n"
     ]
    },
    {
     "name": "stderr",
     "output_type": "stream",
     "text": [
      "batch 17 / 17, loss 0.222: 100%|██████████| 17/17 [00:01<00:00,  9.27it/s]\n",
      "batch 1 / 17, loss 0.252:   0%|          | 0/17 [00:00<?, ?it/s]"
     ]
    },
    {
     "name": "stdout",
     "output_type": "stream",
     "text": [
      "epoch 37 / 50: train loss 0.265 val loss 0.510 RMSE 112.511\n"
     ]
    },
    {
     "name": "stderr",
     "output_type": "stream",
     "text": [
      "batch 17 / 17, loss 0.229: 100%|██████████| 17/17 [00:01<00:00,  9.98it/s]\n",
      "batch 2 / 17, loss 0.259:  12%|█▏        | 2/17 [00:00<00:01, 13.00it/s]"
     ]
    },
    {
     "name": "stdout",
     "output_type": "stream",
     "text": [
      "epoch 38 / 50: train loss 0.276 val loss 0.501 RMSE 110.832\n"
     ]
    },
    {
     "name": "stderr",
     "output_type": "stream",
     "text": [
      "batch 17 / 17, loss 0.290: 100%|██████████| 17/17 [00:01<00:00, 11.97it/s]\n",
      "batch 3 / 17, loss 0.257:  12%|█▏        | 2/17 [00:00<00:00, 17.84it/s]"
     ]
    },
    {
     "name": "stdout",
     "output_type": "stream",
     "text": [
      "epoch 39 / 50: train loss 0.267 val loss 0.498 RMSE 110.000\n"
     ]
    },
    {
     "name": "stderr",
     "output_type": "stream",
     "text": [
      "batch 17 / 17, loss 0.235: 100%|██████████| 17/17 [00:01<00:00, 15.52it/s]\n",
      "batch 3 / 17, loss 0.354:  18%|█▊        | 3/17 [00:00<00:00, 19.40it/s]"
     ]
    },
    {
     "name": "stdout",
     "output_type": "stream",
     "text": [
      "epoch 40 / 50: train loss 0.255 val loss 0.493 RMSE 109.329\n"
     ]
    },
    {
     "name": "stderr",
     "output_type": "stream",
     "text": [
      "batch 17 / 17, loss 0.227: 100%|██████████| 17/17 [00:01<00:00, 16.89it/s]\n",
      "batch 3 / 17, loss 0.231:  12%|█▏        | 2/17 [00:00<00:00, 17.99it/s]"
     ]
    },
    {
     "name": "stdout",
     "output_type": "stream",
     "text": [
      "epoch 41 / 50: train loss 0.257 val loss 0.492 RMSE 108.897\n"
     ]
    },
    {
     "name": "stderr",
     "output_type": "stream",
     "text": [
      "batch 17 / 17, loss 0.203: 100%|██████████| 17/17 [00:01<00:00, 12.83it/s]\n",
      "batch 2 / 17, loss 0.231:  12%|█▏        | 2/17 [00:00<00:00, 15.58it/s]"
     ]
    },
    {
     "name": "stdout",
     "output_type": "stream",
     "text": [
      "epoch 42 / 50: train loss 0.248 val loss 0.492 RMSE 108.925\n"
     ]
    },
    {
     "name": "stderr",
     "output_type": "stream",
     "text": [
      "batch 17 / 17, loss 0.211: 100%|██████████| 17/17 [00:01<00:00, 13.52it/s]\n",
      "batch 2 / 17, loss 0.273:  12%|█▏        | 2/17 [00:00<00:01, 12.98it/s]"
     ]
    },
    {
     "name": "stdout",
     "output_type": "stream",
     "text": [
      "epoch 43 / 50: train loss 0.253 val loss 0.485 RMSE 107.674\n"
     ]
    },
    {
     "name": "stderr",
     "output_type": "stream",
     "text": [
      "batch 17 / 17, loss 0.194: 100%|██████████| 17/17 [00:01<00:00, 13.67it/s]\n",
      "batch 3 / 17, loss 0.274:  12%|█▏        | 2/17 [00:00<00:00, 15.39it/s]"
     ]
    },
    {
     "name": "stdout",
     "output_type": "stream",
     "text": [
      "epoch 44 / 50: train loss 0.245 val loss 0.484 RMSE 107.279\n"
     ]
    },
    {
     "name": "stderr",
     "output_type": "stream",
     "text": [
      "batch 17 / 17, loss 0.252: 100%|██████████| 17/17 [00:01<00:00, 14.40it/s]\n",
      "batch 3 / 17, loss 0.410:  12%|█▏        | 2/17 [00:00<00:00, 16.26it/s]"
     ]
    },
    {
     "name": "stdout",
     "output_type": "stream",
     "text": [
      "epoch 45 / 50: train loss 0.254 val loss 0.480 RMSE 106.511\n"
     ]
    },
    {
     "name": "stderr",
     "output_type": "stream",
     "text": [
      "batch 17 / 17, loss 0.266: 100%|██████████| 17/17 [00:01<00:00, 13.99it/s]\n",
      "batch 2 / 17, loss 0.331:  12%|█▏        | 2/17 [00:00<00:01, 12.55it/s]"
     ]
    },
    {
     "name": "stdout",
     "output_type": "stream",
     "text": [
      "epoch 46 / 50: train loss 0.245 val loss 0.477 RMSE 106.229\n"
     ]
    },
    {
     "name": "stderr",
     "output_type": "stream",
     "text": [
      "batch 17 / 17, loss 0.192: 100%|██████████| 17/17 [00:01<00:00, 13.42it/s]\n",
      "batch 3 / 17, loss 0.211:  12%|█▏        | 2/17 [00:00<00:00, 19.53it/s]"
     ]
    },
    {
     "name": "stdout",
     "output_type": "stream",
     "text": [
      "epoch 47 / 50: train loss 0.236 val loss 0.479 RMSE 106.444\n"
     ]
    },
    {
     "name": "stderr",
     "output_type": "stream",
     "text": [
      "batch 17 / 17, loss 0.421: 100%|██████████| 17/17 [00:01<00:00, 15.99it/s]\n",
      "batch 3 / 17, loss 0.220:  12%|█▏        | 2/17 [00:00<00:00, 17.50it/s]"
     ]
    },
    {
     "name": "stdout",
     "output_type": "stream",
     "text": [
      "epoch 48 / 50: train loss 0.246 val loss 0.478 RMSE 106.177\n"
     ]
    },
    {
     "name": "stderr",
     "output_type": "stream",
     "text": [
      "batch 17 / 17, loss 0.268: 100%|██████████| 17/17 [00:01<00:00, 15.41it/s]\n",
      "batch 3 / 17, loss 0.192:  12%|█▏        | 2/17 [00:00<00:00, 16.75it/s]"
     ]
    },
    {
     "name": "stdout",
     "output_type": "stream",
     "text": [
      "epoch 49 / 50: train loss 0.244 val loss 0.475 RMSE 105.842\n"
     ]
    },
    {
     "name": "stderr",
     "output_type": "stream",
     "text": [
      "batch 17 / 17, loss 0.241: 100%|██████████| 17/17 [00:01<00:00, 15.58it/s]\n"
     ]
    },
    {
     "name": "stdout",
     "output_type": "stream",
     "text": [
      "epoch 50 / 50: train loss 0.241 val loss 0.475 RMSE 105.761\n",
      "best model save in /home/zhouzr/project/Deep-Time-Series-Prediction/notebooks/logs/Seq2Seq_epoch_49_0.475.pkl\n"
     ]
    }
   ],
   "source": [
    "model = Seq2Seq(hp)\n",
    "model.compile(**compile_params)\n",
    "model.fit(50, trn_ld, val_ld, early_stopping=10, save_every_n_epochs=None, save_best_model=True)"
   ]
  },
  {
   "cell_type": "code",
   "execution_count": 28,
   "metadata": {},
   "outputs": [
    {
     "name": "stdout",
     "output_type": "stream",
     "text": [
      " -  -  -  -  -  -  -  -  -  -  -  -  -  -  -  -  -  -  -  - \n",
      "train loss: 0.247, valid loss: 0.475, test loss :0.555, test RMSE :116.132, \n"
     ]
    }
   ],
   "source": [
    "model.reload(model.best_model_path())\n",
    "print(' - ' * 20)\n",
    "print(f'train loss: {model.eval_cycle(trn_ld)[0]:.3f}, '\n",
    "      f'valid loss: {model.eval_cycle(val_ld)[0]:.3f}, '\n",
    "      f'test loss :{model.eval_cycle(test_ld)[0]:.3f}, '\n",
    "      f'test RMSE :{model.eval_cycle(test_ld)[1]:.3f}, ')"
   ]
  },
  {
   "cell_type": "code",
   "execution_count": 43,
   "metadata": {},
   "outputs": [
    {
     "data": {
      "text/plain": [
       "239"
      ]
     },
     "execution_count": 43,
     "metadata": {},
     "output_type": "execute_result"
    }
   ],
   "source": [
    "len(series)"
   ]
  },
  {
   "cell_type": "code",
   "execution_count": 59,
   "metadata": {},
   "outputs": [
    {
     "ename": "AttributeError",
     "evalue": "'list' object has no attribute 'shape'",
     "output_type": "error",
     "traceback": [
      "\u001b[0;31m---------------------------------------------------------------------------\u001b[0m",
      "\u001b[0;31mAttributeError\u001b[0m                            Traceback (most recent call last)",
      "\u001b[0;32m<ipython-input-59-3c5fa583a5c1>\u001b[0m in \u001b[0;36m<module>\u001b[0;34m\u001b[0m\n\u001b[1;32m      3\u001b[0m \u001b[0mcat_x\u001b[0m \u001b[0;34m=\u001b[0m \u001b[0mtorch\u001b[0m\u001b[0;34m.\u001b[0m\u001b[0mtensor\u001b[0m\u001b[0;34m(\u001b[0m\u001b[0mmonth\u001b[0m\u001b[0;34m[\u001b[0m\u001b[0mpred_idx\u001b[0m\u001b[0;34m-\u001b[0m\u001b[0menc_lens\u001b[0m\u001b[0;34m:\u001b[0m \u001b[0mpred_idx\u001b[0m \u001b[0;34m+\u001b[0m \u001b[0mdec_lens\u001b[0m\u001b[0;34m]\u001b[0m\u001b[0;34m)\u001b[0m\u001b[0;34m.\u001b[0m\u001b[0munsqueeze\u001b[0m\u001b[0;34m(\u001b[0m\u001b[0;36m0\u001b[0m\u001b[0;34m)\u001b[0m\u001b[0;34m.\u001b[0m\u001b[0munsqueeze\u001b[0m\u001b[0;34m(\u001b[0m\u001b[0;36m2\u001b[0m\u001b[0;34m)\u001b[0m\u001b[0;34m.\u001b[0m\u001b[0mlong\u001b[0m\u001b[0;34m(\u001b[0m\u001b[0;34m)\u001b[0m\u001b[0;34m\u001b[0m\u001b[0;34m\u001b[0m\u001b[0m\n\u001b[1;32m      4\u001b[0m \u001b[0;34m\u001b[0m\u001b[0m\n\u001b[0;32m----> 5\u001b[0;31m \u001b[0mmodel\u001b[0m\u001b[0;34m.\u001b[0m\u001b[0mpredict\u001b[0m\u001b[0;34m(\u001b[0m\u001b[0menc_x\u001b[0m\u001b[0;34m,\u001b[0m \u001b[0mdec_lens\u001b[0m\u001b[0;34m,\u001b[0m \u001b[0mcategory_x\u001b[0m\u001b[0;34m=\u001b[0m\u001b[0mcat_x\u001b[0m\u001b[0;34m,\u001b[0m \u001b[0muse_move_scale\u001b[0m\u001b[0;34m=\u001b[0m\u001b[0;32mTrue\u001b[0m\u001b[0;34m)\u001b[0m\u001b[0;34m\u001b[0m\u001b[0;34m\u001b[0m\u001b[0m\n\u001b[0m",
      "\u001b[0;32m~/anaconda3/envs/pytorch_1.3/lib/python3.7/site-packages/dtsp-0.3-py3.7.egg/dtsp/models/seq2seq.py\u001b[0m in \u001b[0;36mpredict\u001b[0;34m(self, enc_inputs, dec_lens, continuous_x, category_x, return_attns, use_move_scale)\u001b[0m\n\u001b[1;32m     75\u001b[0m             \u001b[0menc_inputs\u001b[0m \u001b[0;34m=\u001b[0m \u001b[0mself\u001b[0m\u001b[0;34m.\u001b[0m\u001b[0mmove_scale\u001b[0m\u001b[0;34m.\u001b[0m\u001b[0mtransform\u001b[0m\u001b[0;34m(\u001b[0m\u001b[0menc_inputs\u001b[0m\u001b[0;34m)\u001b[0m\u001b[0;34m\u001b[0m\u001b[0;34m\u001b[0m\u001b[0m\n\u001b[1;32m     76\u001b[0m \u001b[0;34m\u001b[0m\u001b[0m\n\u001b[0;32m---> 77\u001b[0;31m         \u001b[0menc_lens\u001b[0m \u001b[0;34m=\u001b[0m \u001b[0menc_inputs\u001b[0m\u001b[0;34m.\u001b[0m\u001b[0mshape\u001b[0m\u001b[0;34m[\u001b[0m\u001b[0;36m1\u001b[0m\u001b[0;34m]\u001b[0m\u001b[0;34m\u001b[0m\u001b[0;34m\u001b[0m\u001b[0m\n\u001b[0m\u001b[1;32m     78\u001b[0m         \u001b[0;32mif\u001b[0m \u001b[0mself\u001b[0m\u001b[0;34m.\u001b[0m\u001b[0mtrans\u001b[0m \u001b[0;32mis\u001b[0m \u001b[0;32mnot\u001b[0m \u001b[0;32mNone\u001b[0m\u001b[0;34m:\u001b[0m\u001b[0;34m\u001b[0m\u001b[0;34m\u001b[0m\u001b[0m\n\u001b[1;32m     79\u001b[0m             \u001b[0mtrans_x\u001b[0m \u001b[0;34m=\u001b[0m \u001b[0mself\u001b[0m\u001b[0;34m.\u001b[0m\u001b[0mtrans\u001b[0m\u001b[0;34m(\u001b[0m\u001b[0mcontinuous_x\u001b[0m\u001b[0;34m,\u001b[0m \u001b[0mcategory_x\u001b[0m\u001b[0;34m)\u001b[0m\u001b[0;34m\u001b[0m\u001b[0;34m\u001b[0m\u001b[0m\n",
      "\u001b[0;31mAttributeError\u001b[0m: 'list' object has no attribute 'shape'"
     ]
    }
   ],
   "source": [
    "pred_idx = 200\n",
    "enc_x = torch.tensor(series[pred_idx - enc_lens: pred_idx]).unsqueeze(0).float()\n",
    "cat_x = torch.tensor(month[pred_idx-enc_lens: pred_idx + dec_lens]).unsqueeze(0).unsqueeze(2).long()\n",
    "\n",
    "model.predict(enc_x, dec_lens, category_x=cat_x, use_move_scale=True)"
   ]
  },
  {
   "cell_type": "code",
   "execution_count": 61,
   "metadata": {},
   "outputs": [
    {
     "data": {
      "text/plain": [
       "torch.Size([1, 72, 20])"
      ]
     },
     "execution_count": 61,
     "metadata": {},
     "output_type": "execute_result"
    }
   ],
   "source": [
    "enc_x.shape"
   ]
  },
  {
   "cell_type": "code",
   "execution_count": null,
   "metadata": {},
   "outputs": [],
   "source": []
  }
 ],
 "metadata": {
  "kernelspec": {
   "display_name": "Python [conda env:pytorch_1.3]",
   "language": "python",
   "name": "conda-env-pytorch_1.3-py"
  },
  "language_info": {
   "codemirror_mode": {
    "name": "ipython",
    "version": 3
   },
   "file_extension": ".py",
   "mimetype": "text/x-python",
   "name": "python",
   "nbconvert_exporter": "python",
   "pygments_lexer": "ipython3",
   "version": "3.7.4"
  }
 },
 "nbformat": 4,
 "nbformat_minor": 2
}
