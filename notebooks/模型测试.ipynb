{
 "cells": [
  {
   "cell_type": "code",
   "execution_count": 1,
   "metadata": {},
   "outputs": [],
   "source": [
    "from dtsp.dataset import walk_forward_split, Seq2SeqDataSet, SimpleSeq2SeqDataSet, SimpleWaveNetDataSet\n",
    "from dtsp.models import Seq2Seq, SimpleSeq2Seq, SimpleWaveNet\n",
    "from torch.utils.data import DataLoader\n",
    "from torch.utils.data import Subset, DataLoader\n",
    "import torch\n",
    "import os\n",
    "import matplotlib.pyplot as plt\n",
    "import numpy as np\n",
    "import pandas as pd\n",
    "from sklearn.metrics import mean_squared_error\n",
    "from pathlib import Path\n",
    "\n",
    "%matplotlib inline"
   ]
  },
  {
   "cell_type": "code",
   "execution_count": 2,
   "metadata": {},
   "outputs": [],
   "source": [
    "df = pd.read_csv('./data.csv', index_col='date_time', parse_dates=['date_time'])\n",
    "series = df.values\n",
    "month = df.index.month.values"
   ]
  },
  {
   "cell_type": "code",
   "execution_count": 3,
   "metadata": {},
   "outputs": [
    {
     "data": {
      "text/html": [
       "<div>\n",
       "<style scoped>\n",
       "    .dataframe tbody tr th:only-of-type {\n",
       "        vertical-align: middle;\n",
       "    }\n",
       "\n",
       "    .dataframe tbody tr th {\n",
       "        vertical-align: top;\n",
       "    }\n",
       "\n",
       "    .dataframe thead th {\n",
       "        text-align: right;\n",
       "    }\n",
       "</style>\n",
       "<table border=\"1\" class=\"dataframe\">\n",
       "  <thead>\n",
       "    <tr style=\"text-align: right;\">\n",
       "      <th></th>\n",
       "      <th>col_0</th>\n",
       "      <th>col_1</th>\n",
       "      <th>col_2</th>\n",
       "      <th>col_3</th>\n",
       "      <th>col_4</th>\n",
       "      <th>col_5</th>\n",
       "      <th>col_6</th>\n",
       "      <th>col_7</th>\n",
       "      <th>col_8</th>\n",
       "      <th>col_9</th>\n",
       "      <th>col_10</th>\n",
       "      <th>col_11</th>\n",
       "      <th>col_12</th>\n",
       "      <th>col_13</th>\n",
       "      <th>col_14</th>\n",
       "      <th>col_15</th>\n",
       "      <th>col_16</th>\n",
       "      <th>col_17</th>\n",
       "      <th>col_18</th>\n",
       "      <th>col_19</th>\n",
       "    </tr>\n",
       "    <tr>\n",
       "      <th>date_time</th>\n",
       "      <th></th>\n",
       "      <th></th>\n",
       "      <th></th>\n",
       "      <th></th>\n",
       "      <th></th>\n",
       "      <th></th>\n",
       "      <th></th>\n",
       "      <th></th>\n",
       "      <th></th>\n",
       "      <th></th>\n",
       "      <th></th>\n",
       "      <th></th>\n",
       "      <th></th>\n",
       "      <th></th>\n",
       "      <th></th>\n",
       "      <th></th>\n",
       "      <th></th>\n",
       "      <th></th>\n",
       "      <th></th>\n",
       "      <th></th>\n",
       "    </tr>\n",
       "  </thead>\n",
       "  <tbody>\n",
       "    <tr>\n",
       "      <th>1998-01-01</th>\n",
       "      <td>0.0</td>\n",
       "      <td>0.0</td>\n",
       "      <td>0.0</td>\n",
       "      <td>0.0</td>\n",
       "      <td>0.0</td>\n",
       "      <td>0.0</td>\n",
       "      <td>0.0</td>\n",
       "      <td>0.0</td>\n",
       "      <td>0.0</td>\n",
       "      <td>0.0</td>\n",
       "      <td>0</td>\n",
       "      <td>0.0</td>\n",
       "      <td>0.0</td>\n",
       "      <td>0</td>\n",
       "      <td>0</td>\n",
       "      <td>0.0</td>\n",
       "      <td>0.0</td>\n",
       "      <td>0</td>\n",
       "      <td>0.0</td>\n",
       "      <td>0</td>\n",
       "    </tr>\n",
       "    <tr>\n",
       "      <th>1998-02-01</th>\n",
       "      <td>0.0</td>\n",
       "      <td>0.0</td>\n",
       "      <td>0.0</td>\n",
       "      <td>0.0</td>\n",
       "      <td>0.0</td>\n",
       "      <td>0.0</td>\n",
       "      <td>0.0</td>\n",
       "      <td>0.0</td>\n",
       "      <td>0.0</td>\n",
       "      <td>0.0</td>\n",
       "      <td>0</td>\n",
       "      <td>0.0</td>\n",
       "      <td>0.0</td>\n",
       "      <td>0</td>\n",
       "      <td>0</td>\n",
       "      <td>0.0</td>\n",
       "      <td>0.0</td>\n",
       "      <td>0</td>\n",
       "      <td>0.0</td>\n",
       "      <td>0</td>\n",
       "    </tr>\n",
       "    <tr>\n",
       "      <th>1998-03-01</th>\n",
       "      <td>0.0</td>\n",
       "      <td>0.0</td>\n",
       "      <td>0.0</td>\n",
       "      <td>0.0</td>\n",
       "      <td>0.0</td>\n",
       "      <td>0.0</td>\n",
       "      <td>0.0</td>\n",
       "      <td>0.0</td>\n",
       "      <td>0.0</td>\n",
       "      <td>0.0</td>\n",
       "      <td>0</td>\n",
       "      <td>0.0</td>\n",
       "      <td>0.0</td>\n",
       "      <td>0</td>\n",
       "      <td>0</td>\n",
       "      <td>0.0</td>\n",
       "      <td>0.0</td>\n",
       "      <td>0</td>\n",
       "      <td>0.0</td>\n",
       "      <td>0</td>\n",
       "    </tr>\n",
       "    <tr>\n",
       "      <th>1998-04-01</th>\n",
       "      <td>0.0</td>\n",
       "      <td>0.0</td>\n",
       "      <td>0.0</td>\n",
       "      <td>0.0</td>\n",
       "      <td>0.0</td>\n",
       "      <td>0.0</td>\n",
       "      <td>0.0</td>\n",
       "      <td>0.0</td>\n",
       "      <td>0.0</td>\n",
       "      <td>0.0</td>\n",
       "      <td>0</td>\n",
       "      <td>0.0</td>\n",
       "      <td>0.0</td>\n",
       "      <td>0</td>\n",
       "      <td>0</td>\n",
       "      <td>0.0</td>\n",
       "      <td>0.0</td>\n",
       "      <td>0</td>\n",
       "      <td>0.0</td>\n",
       "      <td>0</td>\n",
       "    </tr>\n",
       "    <tr>\n",
       "      <th>1998-05-01</th>\n",
       "      <td>0.0</td>\n",
       "      <td>0.0</td>\n",
       "      <td>0.0</td>\n",
       "      <td>0.0</td>\n",
       "      <td>0.0</td>\n",
       "      <td>0.0</td>\n",
       "      <td>0.0</td>\n",
       "      <td>0.0</td>\n",
       "      <td>0.0</td>\n",
       "      <td>0.0</td>\n",
       "      <td>0</td>\n",
       "      <td>0.0</td>\n",
       "      <td>0.0</td>\n",
       "      <td>0</td>\n",
       "      <td>0</td>\n",
       "      <td>0.0</td>\n",
       "      <td>0.0</td>\n",
       "      <td>0</td>\n",
       "      <td>0.0</td>\n",
       "      <td>0</td>\n",
       "    </tr>\n",
       "  </tbody>\n",
       "</table>\n",
       "</div>"
      ],
      "text/plain": [
       "            col_0  col_1  col_2  col_3  col_4  col_5  col_6  col_7  col_8  \\\n",
       "date_time                                                                   \n",
       "1998-01-01    0.0    0.0    0.0    0.0    0.0    0.0    0.0    0.0    0.0   \n",
       "1998-02-01    0.0    0.0    0.0    0.0    0.0    0.0    0.0    0.0    0.0   \n",
       "1998-03-01    0.0    0.0    0.0    0.0    0.0    0.0    0.0    0.0    0.0   \n",
       "1998-04-01    0.0    0.0    0.0    0.0    0.0    0.0    0.0    0.0    0.0   \n",
       "1998-05-01    0.0    0.0    0.0    0.0    0.0    0.0    0.0    0.0    0.0   \n",
       "\n",
       "            col_9  col_10  col_11  col_12  col_13  col_14  col_15  col_16  \\\n",
       "date_time                                                                   \n",
       "1998-01-01    0.0       0     0.0     0.0       0       0     0.0     0.0   \n",
       "1998-02-01    0.0       0     0.0     0.0       0       0     0.0     0.0   \n",
       "1998-03-01    0.0       0     0.0     0.0       0       0     0.0     0.0   \n",
       "1998-04-01    0.0       0     0.0     0.0       0       0     0.0     0.0   \n",
       "1998-05-01    0.0       0     0.0     0.0       0       0     0.0     0.0   \n",
       "\n",
       "            col_17  col_18  col_19  \n",
       "date_time                           \n",
       "1998-01-01       0     0.0       0  \n",
       "1998-02-01       0     0.0       0  \n",
       "1998-03-01       0     0.0       0  \n",
       "1998-04-01       0     0.0       0  \n",
       "1998-05-01       0     0.0       0  "
      ]
     },
     "execution_count": 3,
     "metadata": {},
     "output_type": "execute_result"
    }
   ],
   "source": [
    "df.head()"
   ]
  },
  {
   "cell_type": "code",
   "execution_count": 4,
   "metadata": {},
   "outputs": [],
   "source": [
    "idxes = list(range(len(series)))"
   ]
  },
  {
   "cell_type": "code",
   "execution_count": 5,
   "metadata": {},
   "outputs": [],
   "source": [
    "n_test = 12\n",
    "n_val = 12\n",
    "enc_lens = 72\n",
    "dec_lens = 12\n",
    "batch_size = 8"
   ]
  },
  {
   "cell_type": "code",
   "execution_count": 6,
   "metadata": {},
   "outputs": [],
   "source": [
    "dataset = Seq2SeqDataSet(series, enc_lens, dec_lens, categorical_var=month)\n",
    "idxes = list(range(len(dataset)))\n",
    "train_idxes, _idxes = walk_forward_split(idxes, enc_lens, dec_lens, test_size=n_test + n_val)\n",
    "valid_idxes, test_idxes = walk_forward_split(_idxes, enc_lens, dec_lens, test_size=n_test)\n",
    "\n",
    "trn_set = Subset(dataset, train_idxes)\n",
    "val_set = Subset(dataset, valid_idxes)\n",
    "test_set = Subset(dataset, test_idxes)\n",
    "trn_ld = DataLoader(trn_set, batch_size=batch_size, shuffle=True, drop_last=False)\n",
    "val_ld = DataLoader(val_set, batch_size=batch_size, shuffle=False, drop_last=False)\n",
    "test_ld = DataLoader(test_set, batch_size=batch_size, shuffle=False)"
   ]
  },
  {
   "cell_type": "code",
   "execution_count": 23,
   "metadata": {},
   "outputs": [],
   "source": [
    "hp = {\n",
    "        'path': Path('.').resolve() / 'logs',\n",
    "        'target_size': 20,\n",
    "        'rnn_type': 'LSTM',\n",
    "        'dropout': 0.1,\n",
    "        'hidden_size': 128,\n",
    "        'teacher_forcing_rate': 0.5,\n",
    "        'n_head': 4,\n",
    "        'use_attn': True,\n",
    "        'trans_hidden_size': 4,\n",
    "        'trans_continuous_var': None,\n",
    "        'trans_category_var': [(13, 2)],\n",
    "        'trans_bidirectional': True,\n",
    "        'trans_rnn_type': 'LSTM',\n",
    "        'use_move_scale': True,\n",
    "    }\n",
    "\n",
    "compile_params = {\n",
    "    'loss_fn': 'MSELoss',\n",
    "    'optimizer': 'Adam',\n",
    "    'lr': 0.001,\n",
    "    'lr_scheduler': 'CosineAnnealingWarmRestarts',\n",
    "    'lr_scheduler_kw': {'T_0': 5, 'T_mult': 10},\n",
    "    'metric': 'RMSE',\n",
    "}"
   ]
  },
  {
   "cell_type": "code",
   "execution_count": 24,
   "metadata": {
    "scrolled": false
   },
   "outputs": [
    {
     "name": "stderr",
     "output_type": "stream",
     "text": [
      "batch 17 / 17, loss 1.125: 100%|██████████| 17/17 [00:01<00:00,  9.56it/s]\n",
      "batch 1 / 17, loss 0.887:   6%|▌         | 1/17 [00:00<00:01,  9.05it/s]"
     ]
    },
    {
     "name": "stdout",
     "output_type": "stream",
     "text": [
      "epoch 1 / 50: train loss 1.065 val loss 1.153 RMSE 178.948\n"
     ]
    },
    {
     "name": "stderr",
     "output_type": "stream",
     "text": [
      "batch 17 / 17, loss 1.024: 100%|██████████| 17/17 [00:02<00:00,  7.50it/s]\n",
      "batch 1 / 17, loss 0.758:   6%|▌         | 1/17 [00:00<00:02,  7.87it/s]"
     ]
    },
    {
     "name": "stdout",
     "output_type": "stream",
     "text": [
      "epoch 2 / 50: train loss 0.896 val loss 1.017 RMSE 169.886\n"
     ]
    },
    {
     "name": "stderr",
     "output_type": "stream",
     "text": [
      "batch 17 / 17, loss 0.811: 100%|██████████| 17/17 [00:01<00:00,  8.71it/s]\n",
      "batch 1 / 17, loss 0.849:   0%|          | 0/17 [00:00<?, ?it/s]"
     ]
    },
    {
     "name": "stdout",
     "output_type": "stream",
     "text": [
      "epoch 3 / 50: train loss 0.822 val loss 0.946 RMSE 165.823\n"
     ]
    },
    {
     "name": "stderr",
     "output_type": "stream",
     "text": [
      "batch 17 / 17, loss 0.770: 100%|██████████| 17/17 [00:01<00:00,  9.32it/s]\n",
      "batch 2 / 17, loss 0.728:  12%|█▏        | 2/17 [00:00<00:01, 14.34it/s]"
     ]
    },
    {
     "name": "stdout",
     "output_type": "stream",
     "text": [
      "epoch 4 / 50: train loss 0.785 val loss 0.930 RMSE 164.611\n"
     ]
    },
    {
     "name": "stderr",
     "output_type": "stream",
     "text": [
      "batch 17 / 17, loss 0.715: 100%|██████████| 17/17 [00:01<00:00, 11.91it/s]\n",
      "batch 2 / 17, loss 0.781:  12%|█▏        | 2/17 [00:00<00:01, 11.41it/s]"
     ]
    },
    {
     "name": "stdout",
     "output_type": "stream",
     "text": [
      "epoch 5 / 50: train loss 0.772 val loss 0.927 RMSE 164.244\n"
     ]
    },
    {
     "name": "stderr",
     "output_type": "stream",
     "text": [
      "batch 17 / 17, loss 0.917: 100%|██████████| 17/17 [00:01<00:00, 11.42it/s]\n",
      "batch 2 / 17, loss 0.708:  12%|█▏        | 2/17 [00:00<00:01, 10.29it/s]"
     ]
    },
    {
     "name": "stdout",
     "output_type": "stream",
     "text": [
      "epoch 6 / 50: train loss 0.755 val loss 0.874 RMSE 158.372\n"
     ]
    },
    {
     "name": "stderr",
     "output_type": "stream",
     "text": [
      "batch 17 / 17, loss 0.580: 100%|██████████| 17/17 [00:01<00:00, 12.67it/s]\n",
      "batch 2 / 17, loss 0.539:   6%|▌         | 1/17 [00:00<00:01,  9.22it/s]"
     ]
    },
    {
     "name": "stdout",
     "output_type": "stream",
     "text": [
      "epoch 7 / 50: train loss 0.696 val loss 0.834 RMSE 153.884\n"
     ]
    },
    {
     "name": "stderr",
     "output_type": "stream",
     "text": [
      "batch 17 / 17, loss 0.589: 100%|██████████| 17/17 [00:01<00:00, 11.48it/s]\n",
      "batch 2 / 17, loss 0.856:  12%|█▏        | 2/17 [00:00<00:01, 10.31it/s]"
     ]
    },
    {
     "name": "stdout",
     "output_type": "stream",
     "text": [
      "epoch 8 / 50: train loss 0.657 val loss 0.883 RMSE 158.863\n"
     ]
    },
    {
     "name": "stderr",
     "output_type": "stream",
     "text": [
      "batch 17 / 17, loss 0.713: 100%|██████████| 17/17 [00:01<00:00,  9.89it/s]\n",
      "batch 2 / 17, loss 0.545:  12%|█▏        | 2/17 [00:00<00:01, 12.24it/s]"
     ]
    },
    {
     "name": "stdout",
     "output_type": "stream",
     "text": [
      "epoch 9 / 50: train loss 0.652 val loss 0.782 RMSE 149.488\n"
     ]
    },
    {
     "name": "stderr",
     "output_type": "stream",
     "text": [
      "batch 17 / 17, loss 0.431: 100%|██████████| 17/17 [00:01<00:00, 12.62it/s]\n",
      "batch 2 / 17, loss 0.775:   0%|          | 0/17 [00:00<?, ?it/s]"
     ]
    },
    {
     "name": "stdout",
     "output_type": "stream",
     "text": [
      "epoch 10 / 50: train loss 0.572 val loss 0.765 RMSE 147.581\n"
     ]
    },
    {
     "name": "stderr",
     "output_type": "stream",
     "text": [
      "batch 17 / 17, loss 0.595: 100%|██████████| 17/17 [00:01<00:00, 11.34it/s]\n",
      "batch 1 / 17, loss 0.640:   0%|          | 0/17 [00:00<?, ?it/s]"
     ]
    },
    {
     "name": "stdout",
     "output_type": "stream",
     "text": [
      "epoch 11 / 50: train loss 0.569 val loss 0.743 RMSE 145.057\n"
     ]
    },
    {
     "name": "stderr",
     "output_type": "stream",
     "text": [
      "batch 17 / 17, loss 0.506: 100%|██████████| 17/17 [00:01<00:00,  9.09it/s]\n",
      "batch 1 / 17, loss 0.438:   0%|          | 0/17 [00:00<?, ?it/s]"
     ]
    },
    {
     "name": "stdout",
     "output_type": "stream",
     "text": [
      "epoch 12 / 50: train loss 0.580 val loss 0.753 RMSE 145.836\n"
     ]
    },
    {
     "name": "stderr",
     "output_type": "stream",
     "text": [
      "batch 17 / 17, loss 0.549: 100%|██████████| 17/17 [00:02<00:00,  8.45it/s]\n",
      "batch 1 / 17, loss 0.428:   0%|          | 0/17 [00:00<?, ?it/s]"
     ]
    },
    {
     "name": "stdout",
     "output_type": "stream",
     "text": [
      "epoch 13 / 50: train loss 0.552 val loss 0.718 RMSE 141.909\n"
     ]
    },
    {
     "name": "stderr",
     "output_type": "stream",
     "text": [
      "batch 17 / 17, loss 0.416: 100%|██████████| 17/17 [00:02<00:00,  8.48it/s]\n",
      "batch 2 / 17, loss 0.482:  12%|█▏        | 2/17 [00:00<00:00, 15.47it/s]"
     ]
    },
    {
     "name": "stdout",
     "output_type": "stream",
     "text": [
      "epoch 14 / 50: train loss 0.505 val loss 0.714 RMSE 142.374\n"
     ]
    },
    {
     "name": "stderr",
     "output_type": "stream",
     "text": [
      "batch 17 / 17, loss 0.499: 100%|██████████| 17/17 [00:01<00:00, 13.33it/s]\n",
      "batch 1 / 17, loss 0.521:   6%|▌         | 1/17 [00:00<00:02,  6.33it/s]"
     ]
    },
    {
     "name": "stdout",
     "output_type": "stream",
     "text": [
      "epoch 15 / 50: train loss 0.505 val loss 0.698 RMSE 139.455\n"
     ]
    },
    {
     "name": "stderr",
     "output_type": "stream",
     "text": [
      "batch 17 / 17, loss 0.487: 100%|██████████| 17/17 [00:01<00:00, 11.42it/s]\n",
      "batch 2 / 17, loss 0.615:  12%|█▏        | 2/17 [00:00<00:01, 13.21it/s]"
     ]
    },
    {
     "name": "stdout",
     "output_type": "stream",
     "text": [
      "epoch 16 / 50: train loss 0.497 val loss 0.672 RMSE 138.534\n"
     ]
    },
    {
     "name": "stderr",
     "output_type": "stream",
     "text": [
      "batch 17 / 17, loss 0.437: 100%|██████████| 17/17 [00:01<00:00, 14.76it/s]\n",
      "batch 2 / 17, loss 0.440:  12%|█▏        | 2/17 [00:00<00:01, 13.86it/s]"
     ]
    },
    {
     "name": "stdout",
     "output_type": "stream",
     "text": [
      "epoch 17 / 50: train loss 0.470 val loss 0.652 RMSE 135.377\n"
     ]
    },
    {
     "name": "stderr",
     "output_type": "stream",
     "text": [
      "batch 17 / 17, loss 0.425: 100%|██████████| 17/17 [00:01<00:00, 14.20it/s]\n",
      "batch 1 / 17, loss 0.439:   6%|▌         | 1/17 [00:00<00:02,  7.62it/s]"
     ]
    },
    {
     "name": "stdout",
     "output_type": "stream",
     "text": [
      "epoch 18 / 50: train loss 0.442 val loss 0.638 RMSE 133.528\n"
     ]
    },
    {
     "name": "stderr",
     "output_type": "stream",
     "text": [
      "batch 17 / 17, loss 0.369: 100%|██████████| 17/17 [00:01<00:00,  8.53it/s]\n",
      "batch 3 / 17, loss 0.381:  12%|█▏        | 2/17 [00:00<00:00, 15.69it/s]"
     ]
    },
    {
     "name": "stdout",
     "output_type": "stream",
     "text": [
      "epoch 19 / 50: train loss 0.442 val loss 0.852 RMSE 159.669\n"
     ]
    },
    {
     "name": "stderr",
     "output_type": "stream",
     "text": [
      "batch 17 / 17, loss 0.444: 100%|██████████| 17/17 [00:01<00:00, 14.60it/s]\n",
      "batch 3 / 17, loss 0.376:  12%|█▏        | 2/17 [00:00<00:00, 15.37it/s]"
     ]
    },
    {
     "name": "stdout",
     "output_type": "stream",
     "text": [
      "epoch 20 / 50: train loss 0.478 val loss 0.835 RMSE 155.081\n"
     ]
    },
    {
     "name": "stderr",
     "output_type": "stream",
     "text": [
      "batch 17 / 17, loss 0.484: 100%|██████████| 17/17 [00:01<00:00, 14.47it/s]\n",
      "batch 2 / 17, loss 0.442:  12%|█▏        | 2/17 [00:00<00:01, 13.51it/s]"
     ]
    },
    {
     "name": "stdout",
     "output_type": "stream",
     "text": [
      "epoch 21 / 50: train loss 0.451 val loss 0.645 RMSE 134.999\n"
     ]
    },
    {
     "name": "stderr",
     "output_type": "stream",
     "text": [
      "batch 17 / 17, loss 0.398: 100%|██████████| 17/17 [00:01<00:00, 13.76it/s]\n",
      "batch 2 / 17, loss 0.330:  12%|█▏        | 2/17 [00:00<00:01, 13.01it/s]"
     ]
    },
    {
     "name": "stdout",
     "output_type": "stream",
     "text": [
      "epoch 22 / 50: train loss 0.412 val loss 0.606 RMSE 129.742\n"
     ]
    },
    {
     "name": "stderr",
     "output_type": "stream",
     "text": [
      "batch 17 / 17, loss 0.306: 100%|██████████| 17/17 [00:01<00:00, 12.26it/s]\n",
      "batch 3 / 17, loss 0.280:  12%|█▏        | 2/17 [00:00<00:00, 17.81it/s]"
     ]
    },
    {
     "name": "stdout",
     "output_type": "stream",
     "text": [
      "epoch 23 / 50: train loss 0.368 val loss 0.609 RMSE 129.081\n"
     ]
    },
    {
     "name": "stderr",
     "output_type": "stream",
     "text": [
      "batch 17 / 17, loss 0.347: 100%|██████████| 17/17 [00:01<00:00, 15.48it/s]\n",
      "batch 1 / 17, loss 0.408:   6%|▌         | 1/17 [00:00<00:01,  8.85it/s]"
     ]
    },
    {
     "name": "stdout",
     "output_type": "stream",
     "text": [
      "epoch 24 / 50: train loss 0.356 val loss 0.592 RMSE 128.137\n"
     ]
    },
    {
     "name": "stderr",
     "output_type": "stream",
     "text": [
      "batch 17 / 17, loss 0.226: 100%|██████████| 17/17 [00:01<00:00,  9.51it/s]\n",
      "batch 2 / 17, loss 0.290:  12%|█▏        | 2/17 [00:00<00:01, 10.58it/s]"
     ]
    },
    {
     "name": "stdout",
     "output_type": "stream",
     "text": [
      "epoch 25 / 50: train loss 0.343 val loss 0.592 RMSE 126.834\n"
     ]
    },
    {
     "name": "stderr",
     "output_type": "stream",
     "text": [
      "batch 17 / 17, loss 0.335: 100%|██████████| 17/17 [00:01<00:00,  8.82it/s]\n",
      "batch 3 / 17, loss 0.269:  12%|█▏        | 2/17 [00:00<00:00, 15.82it/s]"
     ]
    },
    {
     "name": "stdout",
     "output_type": "stream",
     "text": [
      "epoch 26 / 50: train loss 0.329 val loss 0.557 RMSE 121.359\n"
     ]
    },
    {
     "name": "stderr",
     "output_type": "stream",
     "text": [
      "batch 17 / 17, loss 0.415: 100%|██████████| 17/17 [00:01<00:00,  9.40it/s]\n",
      "batch 2 / 17, loss 0.398:  12%|█▏        | 2/17 [00:00<00:01, 12.64it/s]"
     ]
    },
    {
     "name": "stdout",
     "output_type": "stream",
     "text": [
      "epoch 27 / 50: train loss 0.335 val loss 0.539 RMSE 119.793\n"
     ]
    },
    {
     "name": "stderr",
     "output_type": "stream",
     "text": [
      "batch 17 / 17, loss 0.299: 100%|██████████| 17/17 [00:01<00:00, 11.36it/s]\n",
      "batch 2 / 17, loss 0.333:  12%|█▏        | 2/17 [00:00<00:01, 11.76it/s]"
     ]
    },
    {
     "name": "stdout",
     "output_type": "stream",
     "text": [
      "epoch 28 / 50: train loss 0.304 val loss 0.532 RMSE 117.052\n"
     ]
    },
    {
     "name": "stderr",
     "output_type": "stream",
     "text": [
      "batch 17 / 17, loss 0.299: 100%|██████████| 17/17 [00:01<00:00, 10.11it/s]\n",
      "batch 2 / 17, loss 0.238:  12%|█▏        | 2/17 [00:00<00:01, 13.89it/s]"
     ]
    },
    {
     "name": "stdout",
     "output_type": "stream",
     "text": [
      "epoch 29 / 50: train loss 0.295 val loss 0.522 RMSE 116.525\n"
     ]
    },
    {
     "name": "stderr",
     "output_type": "stream",
     "text": [
      "batch 17 / 17, loss 0.260: 100%|██████████| 17/17 [00:01<00:00, 10.59it/s]\n",
      "batch 2 / 17, loss 0.267:  12%|█▏        | 2/17 [00:00<00:01, 10.32it/s]"
     ]
    },
    {
     "name": "stdout",
     "output_type": "stream",
     "text": [
      "epoch 30 / 50: train loss 0.276 val loss 0.508 RMSE 115.050\n"
     ]
    },
    {
     "name": "stderr",
     "output_type": "stream",
     "text": [
      "batch 17 / 17, loss 0.303: 100%|██████████| 17/17 [00:01<00:00,  9.72it/s]\n",
      "batch 2 / 17, loss 0.391:  12%|█▏        | 2/17 [00:00<00:01, 11.89it/s]"
     ]
    },
    {
     "name": "stdout",
     "output_type": "stream",
     "text": [
      "epoch 31 / 50: train loss 0.285 val loss 0.513 RMSE 114.558\n"
     ]
    },
    {
     "name": "stderr",
     "output_type": "stream",
     "text": [
      "batch 17 / 17, loss 0.265: 100%|██████████| 17/17 [00:01<00:00, 10.77it/s]\n",
      "batch 1 / 17, loss 0.337:   6%|▌         | 1/17 [00:00<00:02,  7.67it/s]"
     ]
    },
    {
     "name": "stdout",
     "output_type": "stream",
     "text": [
      "epoch 32 / 50: train loss 0.273 val loss 0.487 RMSE 110.741\n"
     ]
    },
    {
     "name": "stderr",
     "output_type": "stream",
     "text": [
      "batch 17 / 17, loss 0.294: 100%|██████████| 17/17 [00:02<00:00,  8.49it/s]\n",
      "batch 1 / 17, loss 0.336:   6%|▌         | 1/17 [00:00<00:02,  7.80it/s]"
     ]
    },
    {
     "name": "stdout",
     "output_type": "stream",
     "text": [
      "epoch 33 / 50: train loss 0.260 val loss 0.477 RMSE 109.078\n"
     ]
    },
    {
     "name": "stderr",
     "output_type": "stream",
     "text": [
      "batch 17 / 17, loss 0.196: 100%|██████████| 17/17 [00:01<00:00,  9.76it/s]\n",
      "batch 1 / 17, loss 0.219:   6%|▌         | 1/17 [00:00<00:02,  7.25it/s]"
     ]
    },
    {
     "name": "stdout",
     "output_type": "stream",
     "text": [
      "epoch 34 / 50: train loss 0.244 val loss 0.473 RMSE 108.109\n"
     ]
    },
    {
     "name": "stderr",
     "output_type": "stream",
     "text": [
      "batch 17 / 17, loss 0.240: 100%|██████████| 17/17 [00:01<00:00,  8.78it/s]\n",
      "batch 1 / 17, loss 0.227:   6%|▌         | 1/17 [00:00<00:02,  7.39it/s]"
     ]
    },
    {
     "name": "stdout",
     "output_type": "stream",
     "text": [
      "epoch 35 / 50: train loss 0.246 val loss 0.462 RMSE 106.471\n"
     ]
    },
    {
     "name": "stderr",
     "output_type": "stream",
     "text": [
      "batch 17 / 17, loss 0.247: 100%|██████████| 17/17 [00:01<00:00,  8.81it/s]\n",
      "batch 2 / 17, loss 0.217:  12%|█▏        | 2/17 [00:00<00:01, 11.13it/s]"
     ]
    },
    {
     "name": "stdout",
     "output_type": "stream",
     "text": [
      "epoch 36 / 50: train loss 0.238 val loss 0.445 RMSE 104.493\n"
     ]
    },
    {
     "name": "stderr",
     "output_type": "stream",
     "text": [
      "batch 17 / 17, loss 0.240: 100%|██████████| 17/17 [00:01<00:00, 10.42it/s]\n",
      "batch 1 / 17, loss 0.226:   0%|          | 0/17 [00:00<?, ?it/s]"
     ]
    },
    {
     "name": "stdout",
     "output_type": "stream",
     "text": [
      "epoch 37 / 50: train loss 0.221 val loss 0.442 RMSE 103.767\n"
     ]
    },
    {
     "name": "stderr",
     "output_type": "stream",
     "text": [
      "batch 17 / 17, loss 0.204: 100%|██████████| 17/17 [00:01<00:00,  9.17it/s]\n",
      "batch 2 / 17, loss 0.278:   6%|▌         | 1/17 [00:00<00:01,  8.41it/s]"
     ]
    },
    {
     "name": "stdout",
     "output_type": "stream",
     "text": [
      "epoch 38 / 50: train loss 0.221 val loss 0.432 RMSE 102.270\n"
     ]
    },
    {
     "name": "stderr",
     "output_type": "stream",
     "text": [
      "batch 17 / 17, loss 0.194: 100%|██████████| 17/17 [00:01<00:00, 11.10it/s]\n",
      "batch 1 / 17, loss 0.198:   6%|▌         | 1/17 [00:00<00:01,  9.95it/s]"
     ]
    },
    {
     "name": "stdout",
     "output_type": "stream",
     "text": [
      "epoch 39 / 50: train loss 0.213 val loss 0.434 RMSE 101.710\n"
     ]
    },
    {
     "name": "stderr",
     "output_type": "stream",
     "text": [
      "batch 17 / 17, loss 0.162: 100%|██████████| 17/17 [00:01<00:00,  8.75it/s]\n",
      "batch 1 / 17, loss 0.345:   6%|▌         | 1/17 [00:00<00:01,  9.28it/s]"
     ]
    },
    {
     "name": "stdout",
     "output_type": "stream",
     "text": [
      "epoch 40 / 50: train loss 0.210 val loss 0.427 RMSE 100.830\n"
     ]
    },
    {
     "name": "stderr",
     "output_type": "stream",
     "text": [
      "batch 17 / 17, loss 0.335: 100%|██████████| 17/17 [00:01<00:00,  9.80it/s]\n",
      "batch 2 / 17, loss 0.174:  12%|█▏        | 2/17 [00:00<00:01, 13.55it/s]"
     ]
    },
    {
     "name": "stdout",
     "output_type": "stream",
     "text": [
      "epoch 41 / 50: train loss 0.214 val loss 0.421 RMSE 100.223\n"
     ]
    },
    {
     "name": "stderr",
     "output_type": "stream",
     "text": [
      "batch 17 / 17, loss 0.203: 100%|██████████| 17/17 [00:01<00:00, 11.75it/s]\n",
      "batch 2 / 17, loss 0.248:   6%|▌         | 1/17 [00:00<00:01,  9.84it/s]"
     ]
    },
    {
     "name": "stdout",
     "output_type": "stream",
     "text": [
      "epoch 42 / 50: train loss 0.200 val loss 0.419 RMSE 100.295\n"
     ]
    },
    {
     "name": "stderr",
     "output_type": "stream",
     "text": [
      "batch 17 / 17, loss 0.170: 100%|██████████| 17/17 [00:01<00:00, 11.92it/s]\n",
      "batch 1 / 17, loss 0.335:   0%|          | 0/17 [00:00<?, ?it/s]"
     ]
    },
    {
     "name": "stdout",
     "output_type": "stream",
     "text": [
      "epoch 43 / 50: train loss 0.198 val loss 0.427 RMSE 101.361\n"
     ]
    },
    {
     "name": "stderr",
     "output_type": "stream",
     "text": [
      "batch 17 / 17, loss 0.191: 100%|██████████| 17/17 [00:01<00:00, 10.17it/s]\n",
      "batch 2 / 17, loss 0.162:  12%|█▏        | 2/17 [00:00<00:01, 12.32it/s]"
     ]
    },
    {
     "name": "stdout",
     "output_type": "stream",
     "text": [
      "epoch 44 / 50: train loss 0.208 val loss 0.405 RMSE 97.877\n"
     ]
    },
    {
     "name": "stderr",
     "output_type": "stream",
     "text": [
      "batch 17 / 17, loss 0.161: 100%|██████████| 17/17 [00:01<00:00, 11.76it/s]\n",
      "batch 3 / 17, loss 0.159:  12%|█▏        | 2/17 [00:00<00:01, 14.89it/s]"
     ]
    },
    {
     "name": "stdout",
     "output_type": "stream",
     "text": [
      "epoch 45 / 50: train loss 0.192 val loss 0.409 RMSE 98.040\n"
     ]
    },
    {
     "name": "stderr",
     "output_type": "stream",
     "text": [
      "batch 17 / 17, loss 0.172: 100%|██████████| 17/17 [00:01<00:00, 15.07it/s]\n",
      "batch 2 / 17, loss 0.206:  12%|█▏        | 2/17 [00:00<00:01, 13.95it/s]"
     ]
    },
    {
     "name": "stdout",
     "output_type": "stream",
     "text": [
      "epoch 46 / 50: train loss 0.194 val loss 0.400 RMSE 96.719\n"
     ]
    },
    {
     "name": "stderr",
     "output_type": "stream",
     "text": [
      "batch 17 / 17, loss 0.153: 100%|██████████| 17/17 [00:01<00:00, 14.05it/s]\n",
      "batch 2 / 17, loss 0.183:  12%|█▏        | 2/17 [00:00<00:01, 14.53it/s]"
     ]
    },
    {
     "name": "stdout",
     "output_type": "stream",
     "text": [
      "epoch 47 / 50: train loss 0.197 val loss 0.399 RMSE 96.404\n"
     ]
    },
    {
     "name": "stderr",
     "output_type": "stream",
     "text": [
      "batch 17 / 17, loss 0.173: 100%|██████████| 17/17 [00:01<00:00,  8.75it/s]\n",
      "batch 2 / 17, loss 0.230:  12%|█▏        | 2/17 [00:00<00:01, 10.48it/s]"
     ]
    },
    {
     "name": "stdout",
     "output_type": "stream",
     "text": [
      "epoch 48 / 50: train loss 0.195 val loss 0.396 RMSE 96.246\n"
     ]
    },
    {
     "name": "stderr",
     "output_type": "stream",
     "text": [
      "batch 17 / 17, loss 0.207: 100%|██████████| 17/17 [00:01<00:00,  9.30it/s]\n",
      "batch 2 / 17, loss 0.153:  12%|█▏        | 2/17 [00:00<00:01, 14.25it/s]"
     ]
    },
    {
     "name": "stdout",
     "output_type": "stream",
     "text": [
      "epoch 49 / 50: train loss 0.193 val loss 0.396 RMSE 95.851\n"
     ]
    },
    {
     "name": "stderr",
     "output_type": "stream",
     "text": [
      "batch 17 / 17, loss 0.151: 100%|██████████| 17/17 [00:01<00:00, 10.65it/s]\n"
     ]
    },
    {
     "name": "stdout",
     "output_type": "stream",
     "text": [
      "epoch 50 / 50: train loss 0.189 val loss 0.394 RMSE 95.583\n",
      "best model save in /home/zhouzr/project/Deep-Time-Series-Prediction/notebooks/logs/Seq2Seq_epoch_50_0.394.pkl\n"
     ]
    }
   ],
   "source": [
    "model = Seq2Seq(hp)\n",
    "model.compile(**compile_params)\n",
    "model.fit(50, trn_ld, val_ld, early_stopping=10, save_every_n_epochs=None, save_best_model=True)"
   ]
  },
  {
   "cell_type": "code",
   "execution_count": 25,
   "metadata": {},
   "outputs": [
    {
     "name": "stdout",
     "output_type": "stream",
     "text": [
      " -  -  -  -  -  -  -  -  -  -  -  -  -  -  -  -  -  -  -  - \n",
      "train loss: 0.189, valid loss: 0.394, test loss :0.519, test RMSE :111.039, \n"
     ]
    }
   ],
   "source": [
    "model.reload(model.best_model_path())\n",
    "print(' - ' * 20)\n",
    "print(f'train loss: {model.eval_cycle(trn_ld)[0]:.3f}, '\n",
    "      f'valid loss: {model.eval_cycle(val_ld)[0]:.3f}, '\n",
    "      f'test loss :{model.eval_cycle(test_ld)[0]:.3f}, '\n",
    "      f'test RMSE :{model.eval_cycle(test_ld)[1]:.3f}, ')"
   ]
  },
  {
   "cell_type": "code",
   "execution_count": 26,
   "metadata": {},
   "outputs": [
    {
     "data": {
      "text/plain": [
       "239"
      ]
     },
     "execution_count": 26,
     "metadata": {},
     "output_type": "execute_result"
    }
   ],
   "source": [
    "len(series)"
   ]
  },
  {
   "cell_type": "code",
   "execution_count": 27,
   "metadata": {},
   "outputs": [],
   "source": [
    "pred_idx = 200\n",
    "enc_x = torch.tensor(series[pred_idx - enc_lens: pred_idx]).unsqueeze(0).float()\n",
    "cat_x = torch.tensor(month[pred_idx-enc_lens: pred_idx + dec_lens]).unsqueeze(0).unsqueeze(2).long()\n",
    "y_pred, attns = model.predict(enc_x, dec_lens, category_x=cat_x, use_move_scale=True, return_attns=True)"
   ]
  },
  {
   "cell_type": "code",
   "execution_count": 28,
   "metadata": {},
   "outputs": [],
   "source": [
    "import seaborn as sns"
   ]
  },
  {
   "cell_type": "code",
   "execution_count": 29,
   "metadata": {},
   "outputs": [],
   "source": [
    "def plot_attentions(attns):\n",
    "    if attns.ndim == 4:\n",
    "        assert attns.shape[0] == 1\n",
    "        attns = attns.squeeze(0)\n",
    "    if isinstance(attns, torch.Tensor):\n",
    "        attns = attns.detach().numpy()\n",
    "    n_head = attns.shape[1]\n",
    "    \n",
    "    base_size = 12\n",
    "    \n",
    "    hight = attns.shape[0]\n",
    "    wide = attns.shape[2]\n",
    "    for i in range(n_head):\n",
    "        plt.figure(figsize=(16, hight / wide * 16))\n",
    "        sns.heatmap(attns[:, i, :])\n",
    "        plt.title(f\"Attention {i}\")\n",
    "        plt.xlabel('history')\n",
    "        plt.ylabel('prediction')"
   ]
  },
  {
   "cell_type": "code",
   "execution_count": 30,
   "metadata": {},
   "outputs": [
    {
     "data": {
      "image/png": "[encoded data removed]",
      "text/plain": [
       "<Figure size 1152x192 with 2 Axes>"
      ]
     },
     "metadata": {
      "needs_background": "light"
     },
     "output_type": "display_data"
    },
    {
     "data": {
      "image/png": "[encoded data removed]",
      "text/plain": [
       "<Figure size 1152x192 with 2 Axes>"
      ]
     },
     "metadata": {
      "needs_background": "light"
     },
     "output_type": "display_data"
    },
    {
     "data": {
      "image/png": "[encoded data removed]",
      "text/plain": [
       "<Figure size 1152x192 with 2 Axes>"
      ]
     },
     "metadata": {
      "needs_background": "light"
     },
     "output_type": "display_data"
    },
    {
     "data": {
      "image/png": "[encoded data removed]",
      "text/plain": [
       "<Figure size 1152x192 with 2 Axes>"
      ]
     },
     "metadata": {
      "needs_background": "light"
     },
     "output_type": "display_data"
    }
   ],
   "source": [
    "plot_attentions(attns)"
   ]
  },
  {
   "cell_type": "code",
   "execution_count": 57,
   "metadata": {},
   "outputs": [
    {
     "data": {
      "text/plain": [
       "(1, 12, 2, 128)"
      ]
     },
     "execution_count": 57,
     "metadata": {},
     "output_type": "execute_result"
    }
   ],
   "source": [
    "attn.shape"
   ]
  },
  {
   "cell_type": "code",
   "execution_count": null,
   "metadata": {},
   "outputs": [],
   "source": []
  }
 ],
 "metadata": {
  "kernelspec": {
   "display_name": "Python [conda env:pytorch_1.3]",
   "language": "python",
   "name": "conda-env-pytorch_1.3-py"
  },
  "language_info": {
   "codemirror_mode": {
    "name": "ipython",
    "version": 3
   },
   "file_extension": ".py",
   "mimetype": "text/x-python",
   "name": "python",
   "nbconvert_exporter": "python",
   "pygments_lexer": "ipython3",
   "version": "3.7.4"
  }
 },
 "nbformat": 4,
 "nbformat_minor": 2
}
